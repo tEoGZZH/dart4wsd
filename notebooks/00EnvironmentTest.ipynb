{
 "cells": [
  {
   "cell_type": "code",
   "execution_count": 1,
   "id": "c8fe3bb6-3f75-4eaa-8cb4-44980942505e",
   "metadata": {},
   "outputs": [],
   "source": [
    "import torch"
   ]
  },
  {
   "cell_type": "code",
   "execution_count": 2,
   "id": "bf52c1cc-ba77-495c-9bb4-3cfcd19f87b2",
   "metadata": {},
   "outputs": [],
   "source": [
    "import nltk"
   ]
  },
  {
   "cell_type": "code",
   "execution_count": 3,
   "id": "030ef7fd-fb86-445c-8bd0-1b65016a1bca",
   "metadata": {},
   "outputs": [],
   "source": [
    "from nltk.corpus import wordnet as wn"
   ]
  },
  {
   "cell_type": "code",
   "execution_count": 4,
   "id": "560fdb33-6191-4873-81f9-29345b4dc0a8",
   "metadata": {},
   "outputs": [],
   "source": [
    "from torch.utils.data import Dataset, DataLoader"
   ]
  },
  {
   "cell_type": "code",
   "execution_count": 5,
   "id": "5df08611-8746-4e7b-83f9-de6b35c5f52b",
   "metadata": {},
   "outputs": [],
   "source": [
    "from sklearn.model_selection import train_test_split"
   ]
  },
  {
   "cell_type": "code",
   "execution_count": 2,
   "id": "d415e939-50ec-4ff4-bc15-d5a57f76dcd4",
   "metadata": {},
   "outputs": [],
   "source": [
    "from transformers import BertTokenizer, BertForSequenceClassification"
   ]
  },
  {
   "cell_type": "code",
   "execution_count": 3,
   "id": "4cedbfe7-195f-4c6b-9b97-6e6749537ff9",
   "metadata": {},
   "outputs": [],
   "source": [
    "from transformers import Trainer, TrainingArguments"
   ]
  },
  {
   "cell_type": "code",
   "execution_count": 5,
   "id": "fd391578-ce63-4035-995a-9fd9ec146c53",
   "metadata": {},
   "outputs": [
    {
     "name": "stdout",
     "output_type": "stream",
     "text": [
      "0.33.0\n"
     ]
    }
   ],
   "source": [
    "import accelerate\n",
    "print(accelerate.__version__)"
   ]
  },
  {
   "cell_type": "code",
   "execution_count": 1,
   "id": "e0c31e7c-b213-40e4-8617-83602300ce2e",
   "metadata": {},
   "outputs": [],
   "source": [
    "import json"
   ]
  },
  {
   "cell_type": "code",
   "execution_count": 9,
   "id": "3d8698d1-40e5-4efb-bbec-ad20ae5dc5d7",
   "metadata": {},
   "outputs": [],
   "source": [
    "model_params = {\n",
    "    \"train_path\" : {\"xml\":'../data/WSD_Evaluation_Framework/Training_Corpora/Semcor/semcor.data.xml',\n",
    "                           \"gold_key\":'../data/WSD_Evaluation_Framework/Training_Corpora/Semcor/semcor.gold.key.txt'},\n",
    "    \n",
    "    \"eval_path\" : {\"xml\":'../data/WSD_Evaluation_Framework/Evaluation_Datasets/ALL/ALL.data.xml',\n",
    "                       \"gold_key\":'../data/WSD_Evaluation_Framework/Evaluation_Datasets/ALL/ALL.gold.key.txt'},\n",
    "    \n",
    "    \"nball_path\" : '../data/sample_mammal/nball.txt',\n",
    "\n",
    "    \"max_length\" : 512,\n",
    "    \n",
    "    \"train_params_norm\" : {\n",
    "        \"model_url\" : \"google/bert_uncased_L-4_H-256_A-4\",\n",
    "        \"batch_size\" : 32,\n",
    "        \"lr\" : 2e-5,\n",
    "        \"step_size\" : 50,\n",
    "        \"gamma\" : 50,\n",
    "        \"epoch\" : 50\n",
    "    },\n",
    "    \n",
    "    \"train_params_d\" : {\n",
    "        \"model_url\" : \"google/bert_uncased_L-4_H-256_A-4\",\n",
    "        \"batch_size\" : 32,\n",
    "        \"lr\" : 2e-5,\n",
    "        \"step_size\" : 50,\n",
    "        \"gamma\" : 50,\n",
    "        \"epoch\" : 20\n",
    "    },\n",
    "    \n",
    "    \"output_model_norm\" : 'model_norm_semcor_mammal.pt',\n",
    "    \n",
    "    \"output_model_d\" : 'model_d_semcor_mammal.pt',\n",
    "\n",
    "    \"tree_path\" : '../data/sample_mammal/wsChildren.txt',\n",
    "    \n",
    "}"
   ]
  },
  {
   "cell_type": "code",
   "execution_count": 10,
   "id": "d1b25631-7b74-4a71-b6e1-bf78775e252a",
   "metadata": {},
   "outputs": [],
   "source": [
    "file_path = '../src/model_params.json'\n",
    "\n",
    "# Save to JSON file\n",
    "with open(file_path, 'w') as json_file:\n",
    "    json.dump(model_params, json_file)"
   ]
  },
  {
   "cell_type": "code",
   "execution_count": null,
   "id": "37616364-6bb9-4cfa-8225-4052c33cd07f",
   "metadata": {},
   "outputs": [],
   "source": []
  }
 ],
 "metadata": {
  "kernelspec": {
   "display_name": "dart4wsd",
   "language": "python",
   "name": "dart4wsd"
  },
  "language_info": {
   "codemirror_mode": {
    "name": "ipython",
    "version": 3
   },
   "file_extension": ".py",
   "mimetype": "text/x-python",
   "name": "python",
   "nbconvert_exporter": "python",
   "pygments_lexer": "ipython3",
   "version": "3.12.3"
  }
 },
 "nbformat": 4,
 "nbformat_minor": 5
}
