{
 "cells": [
  {
   "cell_type": "code",
   "execution_count": 1,
   "id": "cfb482b7-b45a-4a6a-bcf4-0774da35c135",
   "metadata": {},
   "outputs": [
    {
     "ename": "OSError",
     "evalue": "[WinError 127] 找不到指定的程序。 Error loading \"D:\\Anaconda\\envs\\annotated-transformer\\lib\\site-packages\\torch\\lib\\shm.dll\" or one of its dependencies.",
     "output_type": "error",
     "traceback": [
      "\u001b[1;31m---------------------------------------------------------------------------\u001b[0m",
      "\u001b[1;31mOSError\u001b[0m                                   Traceback (most recent call last)",
      "Cell \u001b[1;32mIn[1], line 3\u001b[0m\n\u001b[0;32m      1\u001b[0m \u001b[38;5;28;01mimport\u001b[39;00m \u001b[38;5;21;01msys\u001b[39;00m\n\u001b[0;32m      2\u001b[0m sys\u001b[38;5;241m.\u001b[39mpath\u001b[38;5;241m.\u001b[39mappend(\u001b[38;5;124m'\u001b[39m\u001b[38;5;124m../src\u001b[39m\u001b[38;5;124m'\u001b[39m)\n\u001b[1;32m----> 3\u001b[0m \u001b[38;5;28;01mfrom\u001b[39;00m \u001b[38;5;21;01mutil\u001b[39;00m \u001b[38;5;28;01mimport\u001b[39;00m load_balls, preprocess_data\n\u001b[0;32m      4\u001b[0m \u001b[38;5;28;01mfrom\u001b[39;00m \u001b[38;5;21;01mdataset\u001b[39;00m \u001b[38;5;28;01mimport\u001b[39;00m nballDataset\n\u001b[0;32m      5\u001b[0m \u001b[38;5;28;01mfrom\u001b[39;00m \u001b[38;5;21;01mmodel\u001b[39;00m \u001b[38;5;28;01mimport\u001b[39;00m nballBertNorm, nballBertDirection\n",
      "File \u001b[1;32mD:\\OtherProject\\dart4wsd\\notebooks\\../src\\util.py:1\u001b[0m\n\u001b[1;32m----> 1\u001b[0m \u001b[38;5;28;01mimport\u001b[39;00m \u001b[38;5;21;01mtorch\u001b[39;00m\n\u001b[0;32m      2\u001b[0m \u001b[38;5;28;01mimport\u001b[39;00m \u001b[38;5;21;01mpandas\u001b[39;00m \u001b[38;5;28;01mas\u001b[39;00m \u001b[38;5;21;01mpd\u001b[39;00m\n\u001b[0;32m      3\u001b[0m \u001b[38;5;28;01mimport\u001b[39;00m \u001b[38;5;21;01mxml\u001b[39;00m\u001b[38;5;21;01m.\u001b[39;00m\u001b[38;5;21;01metree\u001b[39;00m\u001b[38;5;21;01m.\u001b[39;00m\u001b[38;5;21;01mElementTree\u001b[39;00m \u001b[38;5;28;01mas\u001b[39;00m \u001b[38;5;21;01mET\u001b[39;00m\n",
      "File \u001b[1;32mD:\\Anaconda\\envs\\annotated-transformer\\lib\\site-packages\\torch\\__init__.py:130\u001b[0m\n\u001b[0;32m    128\u001b[0m     err \u001b[38;5;241m=\u001b[39m ctypes\u001b[38;5;241m.\u001b[39mWinError(last_error)\n\u001b[0;32m    129\u001b[0m     err\u001b[38;5;241m.\u001b[39mstrerror \u001b[38;5;241m+\u001b[39m\u001b[38;5;241m=\u001b[39m \u001b[38;5;124mf\u001b[39m\u001b[38;5;124m'\u001b[39m\u001b[38;5;124m Error loading \u001b[39m\u001b[38;5;124m\"\u001b[39m\u001b[38;5;132;01m{\u001b[39;00mdll\u001b[38;5;132;01m}\u001b[39;00m\u001b[38;5;124m\"\u001b[39m\u001b[38;5;124m or one of its dependencies.\u001b[39m\u001b[38;5;124m'\u001b[39m\n\u001b[1;32m--> 130\u001b[0m     \u001b[38;5;28;01mraise\u001b[39;00m err\n\u001b[0;32m    131\u001b[0m \u001b[38;5;28;01melif\u001b[39;00m res \u001b[38;5;129;01mis\u001b[39;00m \u001b[38;5;129;01mnot\u001b[39;00m \u001b[38;5;28;01mNone\u001b[39;00m:\n\u001b[0;32m    132\u001b[0m     is_loaded \u001b[38;5;241m=\u001b[39m \u001b[38;5;28;01mTrue\u001b[39;00m\n",
      "\u001b[1;31mOSError\u001b[0m: [WinError 127] 找不到指定的程序。 Error loading \"D:\\Anaconda\\envs\\annotated-transformer\\lib\\site-packages\\torch\\lib\\shm.dll\" or one of its dependencies."
     ]
    }
   ],
   "source": [
    "import sys\n",
    "sys.path.append('../src')\n",
    "from util import load_balls, preprocess_data\n",
    "from dataset import nballDataset\n",
    "from model import nballBertNorm, nballBertDirection\n",
    "\n",
    "import numpy as np\n",
    "import torch\n",
    "import torch.nn as nn\n",
    "from torch.utils.data import DataLoader\n",
    "import torch.optim as optim\n",
    "from torch.optim.lr_scheduler import StepLR\n",
    "from tqdm import tqdm\n",
    "import torch.nn.functional as F"
   ]
  },
  {
   "cell_type": "code",
   "execution_count": 2,
   "id": "13e874de-8b1a-4fd4-945d-dc060ab04074",
   "metadata": {},
   "outputs": [
    {
     "name": "stdout",
     "output_type": "stream",
     "text": [
      "loading balls....\n",
      "388 balls are loaded\n",
      "\n"
     ]
    }
   ],
   "source": [
    "# Load data\n",
    "train_semcor_path = {\n",
    "    \"xml\":'../data/WSD_Evaluation_Framework/Training_Corpora/Semcor/semcor.data.xml',\n",
    "    \"gold_key\":'../data/WSD_Evaluation_Framework/Training_Corpora/Semcor/semcor.gold.key.txt',}\n",
    "\n",
    "eval_all_path = {\n",
    "    \"xml\":'../data/WSD_Evaluation_Framework/Evaluation_Datasets/ALL/ALL.data.xml',\n",
    "    \"gold_key\":'../data/WSD_Evaluation_Framework/Evaluation_Datasets/ALL/ALL.gold.key.txt',}\n",
    "\n",
    "nball_path = '../data/sample_mammal/nball.txt'\n",
    "\n",
    "nball = load_balls(nball_path)\n",
    "train_semcor, lemma_pair = preprocess_data(train_semcor_path, nball)"
   ]
  },
  {
   "cell_type": "code",
   "execution_count": 3,
   "id": "b9b6eb52-f54d-4bc9-b79b-799dcf1c44b7",
   "metadata": {},
   "outputs": [
    {
     "data": {
      "text/html": [
       "<div>\n",
       "<style scoped>\n",
       "    .dataframe tbody tr th:only-of-type {\n",
       "        vertical-align: middle;\n",
       "    }\n",
       "\n",
       "    .dataframe tbody tr th {\n",
       "        vertical-align: top;\n",
       "    }\n",
       "\n",
       "    .dataframe thead th {\n",
       "        text-align: right;\n",
       "    }\n",
       "</style>\n",
       "<table border=\"1\" class=\"dataframe\">\n",
       "  <thead>\n",
       "    <tr style=\"text-align: right;\">\n",
       "      <th></th>\n",
       "      <th>lemma</th>\n",
       "      <th>word</th>\n",
       "      <th>sentence_text</th>\n",
       "      <th>lemma_idx</th>\n",
       "      <th>formatted_sense_id</th>\n",
       "      <th>sense_idx</th>\n",
       "      <th>sense_group</th>\n",
       "    </tr>\n",
       "  </thead>\n",
       "  <tbody>\n",
       "    <tr>\n",
       "      <th>0</th>\n",
       "      <td>man</td>\n",
       "      <td>men</td>\n",
       "      <td>Whereas the eighteenth century had been a time...</td>\n",
       "      <td>131</td>\n",
       "      <td>homo.n.02</td>\n",
       "      <td>132</td>\n",
       "      <td>[132]</td>\n",
       "    </tr>\n",
       "    <tr>\n",
       "      <th>1</th>\n",
       "      <td>horse</td>\n",
       "      <td>horse</td>\n",
       "      <td>One wrote : `` [ I am so hungry ] I could eat ...</td>\n",
       "      <td>255</td>\n",
       "      <td>horse.n.01</td>\n",
       "      <td>261</td>\n",
       "      <td>[261]</td>\n",
       "    </tr>\n",
       "    <tr>\n",
       "      <th>2</th>\n",
       "      <td>wildcat</td>\n",
       "      <td>wildcat</td>\n",
       "      <td>She is well-educated and refined , all wildcat...</td>\n",
       "      <td>53</td>\n",
       "      <td>wildcat.n.03</td>\n",
       "      <td>54</td>\n",
       "      <td>[54]</td>\n",
       "    </tr>\n",
       "    <tr>\n",
       "      <th>3</th>\n",
       "      <td>lion</td>\n",
       "      <td>Lions</td>\n",
       "      <td>To find out , we traveled throughout that part...</td>\n",
       "      <td>61</td>\n",
       "      <td>lion.n.01</td>\n",
       "      <td>62</td>\n",
       "      <td>[62]</td>\n",
       "    </tr>\n",
       "    <tr>\n",
       "      <th>4</th>\n",
       "      <td>elephant</td>\n",
       "      <td>elephants</td>\n",
       "      <td>The Prince visited the hospital of Operation B...</td>\n",
       "      <td>103</td>\n",
       "      <td>elephant.n.01</td>\n",
       "      <td>104</td>\n",
       "      <td>[104]</td>\n",
       "    </tr>\n",
       "  </tbody>\n",
       "</table>\n",
       "</div>"
      ],
      "text/plain": [
       "      lemma       word                                      sentence_text  \\\n",
       "0       man        men  Whereas the eighteenth century had been a time...   \n",
       "1     horse      horse  One wrote : `` [ I am so hungry ] I could eat ...   \n",
       "2   wildcat    wildcat  She is well-educated and refined , all wildcat...   \n",
       "3      lion      Lions  To find out , we traveled throughout that part...   \n",
       "4  elephant  elephants  The Prince visited the hospital of Operation B...   \n",
       "\n",
       "   lemma_idx formatted_sense_id  sense_idx sense_group  \n",
       "0        131          homo.n.02        132       [132]  \n",
       "1        255         horse.n.01        261       [261]  \n",
       "2         53       wildcat.n.03         54        [54]  \n",
       "3         61          lion.n.01         62        [62]  \n",
       "4        103      elephant.n.01        104       [104]  "
      ]
     },
     "metadata": {},
     "output_type": "display_data"
    },
    {
     "name": "stdout",
     "output_type": "stream",
     "text": [
      "375\n",
      "388\n"
     ]
    }
   ],
   "source": [
    "# Problem about lemma\n",
    "display(train_semcor.head())\n",
    "print(len(lemma_pair))\n",
    "print(len(nball.keys()))"
   ]
  },
  {
   "cell_type": "code",
   "execution_count": 4,
   "id": "b940a8cc-9b39-4859-ac41-81224eec9c21",
   "metadata": {},
   "outputs": [],
   "source": [
    "# Loading nball embeddings\n",
    "device = torch.device(\"cuda\" if torch.cuda.is_available() else \"cpu\")\n",
    "sense_labels = list(nball.keys())\n",
    "nball_embeddings = [nball[label].center for label in sense_labels]\n",
    "nball_embeddings = torch.tensor(np.array(nball_embeddings), dtype=torch.float32).to(device)\n",
    "nball_norms = [nball[label].distance for label in sense_labels]\n",
    "nball_norms = torch.tensor(np.array(nball_norms), dtype=torch.float32).to(device)"
   ]
  },
  {
   "cell_type": "code",
   "execution_count": 5,
   "id": "037856ed-3461-4329-a248-0c423ba507a7",
   "metadata": {},
   "outputs": [],
   "source": [
    "# Model list\n",
    "bert_models = {\"BERT-Base\": [\"bert-base-uncased\", 768], #768, 12L, 12A\n",
    "               \"BERT-Large\": [\"bert-large-uncased\", 1024], #1024, 24L, 16A\n",
    "               \"BERT-Medium\": [\"google/bert_uncased_L-8_H-512_A-8\", 512], #512, 8L, 8A\n",
    "               \"BERT-Small\": [\"google/bert_uncased_L-4_H-256_A-4\", 256], #256, 4L, 4A\n",
    "               \"BERT-Mini\": [\"google/bert_uncased_L-4_H-128_A-2\", 128],#128, 4L, 2A\n",
    "               \"BERT-Tiny\": [\"google/bert_uncased_L-2_H-128_A-2\", 128]}#128, 2L, 2A\n",
    "\n",
    "max_length = 512\n",
    "batch_size = 32\n",
    "model_url = bert_models[\"BERT-Small\"][0]"
   ]
  },
  {
   "cell_type": "code",
   "execution_count": 6,
   "id": "c322acb8-5761-42d4-870b-f4a7b37d3bb0",
   "metadata": {},
   "outputs": [
    {
     "name": "stdout",
     "output_type": "stream",
     "text": [
      "Tokenizing sentences...\n",
      "Tokenizing finished.\n",
      "Calculating word indices...\n",
      "Tokenizing finished.\n"
     ]
    }
   ],
   "source": [
    "dataset_train = nballDataset(train_semcor, nball, model_url, max_length)"
   ]
  },
  {
   "cell_type": "code",
   "execution_count": 7,
   "id": "62ddc45b-359b-42a1-90d1-a7e1cbdd6f35",
   "metadata": {},
   "outputs": [],
   "source": [
    "dataloader_train = DataLoader(dataset_train, batch_size, shuffle=True)"
   ]
  },
  {
   "cell_type": "code",
   "execution_count": 8,
   "id": "9e949e4d-413f-4fab-9401-3b1429cb3f13",
   "metadata": {},
   "outputs": [],
   "source": [
    "def train(model, dataloader, optimizer, scheduler, num_epochs, mode):\n",
    "    last_loss = 0\n",
    "    if mode == \"norm\":\n",
    "        loss_fn = log_cosh_loss\n",
    "    elif mode == \"direction\":\n",
    "        loss_fn = nn.CosineEmbeddingLoss()\n",
    "    for epoch in range(num_epochs):\n",
    "        model.train()\n",
    "        total_loss = 0\n",
    "        progress_bar = tqdm(dataloader, desc=f'Epoch {epoch+1}/{num_epochs}', leave=True, position=0)\n",
    "        for batch in progress_bar:\n",
    "            # Unpack batch and send to device\n",
    "            batch_input_ids, batch_attention_masks, batch_word_indices, \\\n",
    "            batch_sense_indices, _, _ = [b.to(device) for b in batch]\n",
    "\n",
    "            optimizer.zero_grad()\n",
    "        \n",
    "            # Forward pass\n",
    "            output = model(input_ids=batch_input_ids, attention_mask=batch_attention_masks, \\\n",
    "                            word_index=batch_word_indices).squeeze()\n",
    "\n",
    "            # print(output)\n",
    "            if mode == \"norm\":\n",
    "                batch_norms = nball_norms[batch_sense_indices]\n",
    "                loss = loss_fn(output, batch_norms * 1e-5)\n",
    "            elif mode == \"direction\":\n",
    "                labels = torch.ones(output.size(0), device=device)\n",
    "                batch_senses = nball_embeddings[batch_sense_indices]\n",
    "                loss = loss_fn(output, batch_senses, labels)\n",
    "                \n",
    "            loss.backward()\n",
    "            optimizer.step()\n",
    "        \n",
    "            total_loss += loss.item()\n",
    "            progress_bar.set_postfix(loss=loss.item())\n",
    "\n",
    "        # Logging average metrics per epoch\n",
    "        avg_loss = total_loss / len(dataloader)\n",
    "        improvement = (last_loss - total_loss) / len(dataloader) if last_loss != 0 else 0\n",
    "        print(f'Epoch {epoch + 1}, Avg Loss: {avg_loss}, Improvement: {improvement}')\n",
    "        last_loss = total_loss\n",
    "\n",
    "        scheduler.step()"
   ]
  },
  {
   "cell_type": "code",
   "execution_count": 9,
   "id": "ac05d3db-11fe-481d-b61a-6ff03dc2dcf4",
   "metadata": {},
   "outputs": [
    {
     "name": "stderr",
     "output_type": "stream",
     "text": [
      "Epoch 1/50: 100%|███████████████████████████████████████████████████████████| 11/11 [00:01<00:00,  5.65it/s, loss=6.61]\n"
     ]
    },
    {
     "name": "stdout",
     "output_type": "stream",
     "text": [
      "Epoch 1, Avg Loss: 6.756277517838911, Improvement: 0\n"
     ]
    },
    {
     "name": "stderr",
     "output_type": "stream",
     "text": [
      "Epoch 2/50: 100%|███████████████████████████████████████████████████████████| 11/11 [00:00<00:00, 13.90it/s, loss=6.92]\n"
     ]
    },
    {
     "name": "stdout",
     "output_type": "stream",
     "text": [
      "Epoch 2, Avg Loss: 6.2669667330655185, Improvement: 0.4893107847733931\n"
     ]
    },
    {
     "name": "stderr",
     "output_type": "stream",
     "text": [
      "Epoch 3/50: 100%|███████████████████████████████████████████████████████████| 11/11 [00:00<00:00, 13.94it/s, loss=5.65]\n"
     ]
    },
    {
     "name": "stdout",
     "output_type": "stream",
     "text": [
      "Epoch 3, Avg Loss: 5.971220168200406, Improvement: 0.2957465648651123\n"
     ]
    },
    {
     "name": "stderr",
     "output_type": "stream",
     "text": [
      "Epoch 4/50: 100%|███████████████████████████████████████████████████████████| 11/11 [00:00<00:00, 13.92it/s, loss=6.39]\n"
     ]
    },
    {
     "name": "stdout",
     "output_type": "stream",
     "text": [
      "Epoch 4, Avg Loss: 5.760668017647483, Improvement: 0.21055215055292303\n"
     ]
    },
    {
     "name": "stderr",
     "output_type": "stream",
     "text": [
      "Epoch 5/50: 100%|███████████████████████████████████████████████████████████| 11/11 [00:00<00:00, 13.39it/s, loss=6.39]\n"
     ]
    },
    {
     "name": "stdout",
     "output_type": "stream",
     "text": [
      "Epoch 5, Avg Loss: 5.542945775118741, Improvement: 0.217722242528742\n"
     ]
    },
    {
     "name": "stderr",
     "output_type": "stream",
     "text": [
      "Epoch 6/50: 100%|███████████████████████████████████████████████████████████| 11/11 [00:00<00:00, 11.46it/s, loss=4.14]\n"
     ]
    },
    {
     "name": "stdout",
     "output_type": "stream",
     "text": [
      "Epoch 6, Avg Loss: 5.301914366808805, Improvement: 0.24103140830993652\n"
     ]
    },
    {
     "name": "stderr",
     "output_type": "stream",
     "text": [
      "Epoch 7/50: 100%|███████████████████████████████████████████████████████████| 11/11 [00:00<00:00, 13.17it/s, loss=6.34]\n"
     ]
    },
    {
     "name": "stdout",
     "output_type": "stream",
     "text": [
      "Epoch 7, Avg Loss: 5.0364978313446045, Improvement: 0.26541653546420013\n"
     ]
    },
    {
     "name": "stderr",
     "output_type": "stream",
     "text": [
      "Epoch 8/50: 100%|███████████████████████████████████████████████████████████| 11/11 [00:00<00:00, 14.31it/s, loss=3.99]\n"
     ]
    },
    {
     "name": "stdout",
     "output_type": "stream",
     "text": [
      "Epoch 8, Avg Loss: 4.745988737453114, Improvement: 0.2905090938914906\n"
     ]
    },
    {
     "name": "stderr",
     "output_type": "stream",
     "text": [
      "Epoch 9/50: 100%|███████████████████████████████████████████████████████████| 11/11 [00:00<00:00, 14.35it/s, loss=6.01]\n"
     ]
    },
    {
     "name": "stdout",
     "output_type": "stream",
     "text": [
      "Epoch 9, Avg Loss: 4.501619122245095, Improvement: 0.24436961520801892\n"
     ]
    },
    {
     "name": "stderr",
     "output_type": "stream",
     "text": [
      "Epoch 10/50: 100%|██████████████████████████████████████████████████████████| 11/11 [00:00<00:00, 14.20it/s, loss=5.47]\n"
     ]
    },
    {
     "name": "stdout",
     "output_type": "stream",
     "text": [
      "Epoch 10, Avg Loss: 4.3124634569341485, Improvement: 0.18915566531094638\n"
     ]
    },
    {
     "name": "stderr",
     "output_type": "stream",
     "text": [
      "Epoch 11/50: 100%|██████████████████████████████████████████████████████████| 11/11 [00:00<00:00, 14.36it/s, loss=3.69]\n"
     ]
    },
    {
     "name": "stdout",
     "output_type": "stream",
     "text": [
      "Epoch 11, Avg Loss: 4.188019882548939, Improvement: 0.12444357438520952\n"
     ]
    },
    {
     "name": "stderr",
     "output_type": "stream",
     "text": [
      "Epoch 12/50: 100%|██████████████████████████████████████████████████████████| 11/11 [00:00<00:00, 14.38it/s, loss=4.02]\n"
     ]
    },
    {
     "name": "stdout",
     "output_type": "stream",
     "text": [
      "Epoch 12, Avg Loss: 4.111698779192838, Improvement: 0.0763211033561013\n"
     ]
    },
    {
     "name": "stderr",
     "output_type": "stream",
     "text": [
      "Epoch 13/50: 100%|██████████████████████████████████████████████████████████| 11/11 [00:00<00:00, 14.41it/s, loss=3.17]\n"
     ]
    },
    {
     "name": "stdout",
     "output_type": "stream",
     "text": [
      "Epoch 13, Avg Loss: 4.00158149545843, Improvement: 0.1101172837344083\n"
     ]
    },
    {
     "name": "stderr",
     "output_type": "stream",
     "text": [
      "Epoch 14/50: 100%|██████████████████████████████████████████████████████████| 11/11 [00:00<00:00, 14.30it/s, loss=4.59]\n"
     ]
    },
    {
     "name": "stdout",
     "output_type": "stream",
     "text": [
      "Epoch 14, Avg Loss: 3.966487624428489, Improvement: 0.03509387102994052\n"
     ]
    },
    {
     "name": "stderr",
     "output_type": "stream",
     "text": [
      "Epoch 15/50: 100%|██████████████████████████████████████████████████████████| 11/11 [00:00<00:00, 14.40it/s, loss=2.56]\n"
     ]
    },
    {
     "name": "stdout",
     "output_type": "stream",
     "text": [
      "Epoch 15, Avg Loss: 3.9252442771738227, Improvement: 0.04124334725466641\n"
     ]
    },
    {
     "name": "stderr",
     "output_type": "stream",
     "text": [
      "Epoch 16/50: 100%|██████████████████████████████████████████████████████████| 11/11 [00:00<00:00, 14.46it/s, loss=3.71]\n"
     ]
    },
    {
     "name": "stdout",
     "output_type": "stream",
     "text": [
      "Epoch 16, Avg Loss: 3.906999176198786, Improvement: 0.01824510097503662\n"
     ]
    },
    {
     "name": "stderr",
     "output_type": "stream",
     "text": [
      "Epoch 17/50: 100%|██████████████████████████████████████████████████████████| 11/11 [00:00<00:00, 14.35it/s, loss=3.65]\n"
     ]
    },
    {
     "name": "stdout",
     "output_type": "stream",
     "text": [
      "Epoch 17, Avg Loss: 3.854695515199141, Improvement: 0.05230366099964489\n"
     ]
    },
    {
     "name": "stderr",
     "output_type": "stream",
     "text": [
      "Epoch 18/50: 100%|██████████████████████████████████████████████████████████| 11/11 [00:00<00:00, 14.53it/s, loss=1.58]\n"
     ]
    },
    {
     "name": "stdout",
     "output_type": "stream",
     "text": [
      "Epoch 18, Avg Loss: 3.8122210285880347, Improvement: 0.04247448661110618\n"
     ]
    },
    {
     "name": "stderr",
     "output_type": "stream",
     "text": [
      "Epoch 19/50: 100%|██████████████████████████████████████████████████████████| 11/11 [00:00<00:00, 14.35it/s, loss=4.44]\n"
     ]
    },
    {
     "name": "stdout",
     "output_type": "stream",
     "text": [
      "Epoch 19, Avg Loss: 3.739484331824563, Improvement: 0.07273669676347212\n"
     ]
    },
    {
     "name": "stderr",
     "output_type": "stream",
     "text": [
      "Epoch 20/50: 100%|██████████████████████████████████████████████████████████| 11/11 [00:00<00:00, 14.46it/s, loss=3.82]\n"
     ]
    },
    {
     "name": "stdout",
     "output_type": "stream",
     "text": [
      "Epoch 20, Avg Loss: 3.66066499189897, Improvement: 0.07881933992559259\n"
     ]
    },
    {
     "name": "stderr",
     "output_type": "stream",
     "text": [
      "Epoch 21/50: 100%|██████████████████████████████████████████████████████████| 11/11 [00:00<00:00, 14.39it/s, loss=4.11]\n"
     ]
    },
    {
     "name": "stdout",
     "output_type": "stream",
     "text": [
      "Epoch 21, Avg Loss: 3.570920142260465, Improvement: 0.08974484963850542\n"
     ]
    },
    {
     "name": "stderr",
     "output_type": "stream",
     "text": [
      "Epoch 22/50: 100%|██████████████████████████████████████████████████████████| 11/11 [00:00<00:00, 13.96it/s, loss=2.96]\n"
     ]
    },
    {
     "name": "stdout",
     "output_type": "stream",
     "text": [
      "Epoch 22, Avg Loss: 3.456747044216503, Improvement: 0.11417309804396196\n"
     ]
    },
    {
     "name": "stderr",
     "output_type": "stream",
     "text": [
      "Epoch 23/50: 100%|██████████████████████████████████████████████████████████| 11/11 [00:00<00:00, 14.01it/s, loss=2.24]\n"
     ]
    },
    {
     "name": "stdout",
     "output_type": "stream",
     "text": [
      "Epoch 23, Avg Loss: 3.2905440547249536, Improvement: 0.1662029894915494\n"
     ]
    },
    {
     "name": "stderr",
     "output_type": "stream",
     "text": [
      "Epoch 24/50: 100%|██████████████████████████████████████████████████████████| 11/11 [00:00<00:00, 13.88it/s, loss=2.09]\n"
     ]
    },
    {
     "name": "stdout",
     "output_type": "stream",
     "text": [
      "Epoch 24, Avg Loss: 3.19614932753823, Improvement: 0.09439472718672319\n"
     ]
    },
    {
     "name": "stderr",
     "output_type": "stream",
     "text": [
      "Epoch 25/50: 100%|██████████████████████████████████████████████████████████| 11/11 [00:00<00:00, 14.17it/s, loss=3.38]\n"
     ]
    },
    {
     "name": "stdout",
     "output_type": "stream",
     "text": [
      "Epoch 25, Avg Loss: 3.0974092158404263, Improvement: 0.09874011169780385\n"
     ]
    },
    {
     "name": "stderr",
     "output_type": "stream",
     "text": [
      "Epoch 26/50: 100%|██████████████████████████████████████████████████████████| 11/11 [00:00<00:00, 14.13it/s, loss=2.28]\n"
     ]
    },
    {
     "name": "stdout",
     "output_type": "stream",
     "text": [
      "Epoch 26, Avg Loss: 2.946654428135265, Improvement: 0.15075478770516135\n"
     ]
    },
    {
     "name": "stderr",
     "output_type": "stream",
     "text": [
      "Epoch 27/50: 100%|███████████████████████████████████████████████████████████| 11/11 [00:00<00:00, 14.33it/s, loss=2.1]\n"
     ]
    },
    {
     "name": "stdout",
     "output_type": "stream",
     "text": [
      "Epoch 27, Avg Loss: 2.823667461221868, Improvement: 0.12298696691339667\n"
     ]
    },
    {
     "name": "stderr",
     "output_type": "stream",
     "text": [
      "Epoch 28/50: 100%|██████████████████████████████████████████████████████████| 11/11 [00:00<00:00, 14.41it/s, loss=1.97]\n"
     ]
    },
    {
     "name": "stdout",
     "output_type": "stream",
     "text": [
      "Epoch 28, Avg Loss: 2.693918824195862, Improvement: 0.12974863702600653\n"
     ]
    },
    {
     "name": "stderr",
     "output_type": "stream",
     "text": [
      "Epoch 29/50: 100%|██████████████████████████████████████████████████████████| 11/11 [00:00<00:00, 14.28it/s, loss=3.55]\n"
     ]
    },
    {
     "name": "stdout",
     "output_type": "stream",
     "text": [
      "Epoch 29, Avg Loss: 2.606867389245467, Improvement: 0.08705143495039507\n"
     ]
    },
    {
     "name": "stderr",
     "output_type": "stream",
     "text": [
      "Epoch 30/50: 100%|██████████████████████████████████████████████████████████| 11/11 [00:00<00:00, 14.39it/s, loss=1.15]\n"
     ]
    },
    {
     "name": "stdout",
     "output_type": "stream",
     "text": [
      "Epoch 30, Avg Loss: 2.489155509255149, Improvement: 0.11771187999031761\n"
     ]
    },
    {
     "name": "stderr",
     "output_type": "stream",
     "text": [
      "Epoch 31/50: 100%|██████████████████████████████████████████████████████████| 11/11 [00:00<00:00, 14.46it/s, loss=4.16]\n"
     ]
    },
    {
     "name": "stdout",
     "output_type": "stream",
     "text": [
      "Epoch 31, Avg Loss: 2.3992429158904334, Improvement: 0.08991259336471558\n"
     ]
    },
    {
     "name": "stderr",
     "output_type": "stream",
     "text": [
      "Epoch 32/50: 100%|███████████████████████████████████████████████████████████| 11/11 [00:00<00:00, 14.34it/s, loss=1.7]\n"
     ]
    },
    {
     "name": "stdout",
     "output_type": "stream",
     "text": [
      "Epoch 32, Avg Loss: 2.322426915168762, Improvement: 0.07681600072167137\n"
     ]
    },
    {
     "name": "stderr",
     "output_type": "stream",
     "text": [
      "Epoch 33/50: 100%|██████████████████████████████████████████████████████████| 11/11 [00:00<00:00, 14.19it/s, loss=2.01]\n"
     ]
    },
    {
     "name": "stdout",
     "output_type": "stream",
     "text": [
      "Epoch 33, Avg Loss: 2.2410902326757256, Improvement: 0.08133668249303644\n"
     ]
    },
    {
     "name": "stderr",
     "output_type": "stream",
     "text": [
      "Epoch 34/50: 100%|██████████████████████████████████████████████████████████| 11/11 [00:00<00:00, 14.56it/s, loss=1.55]\n"
     ]
    },
    {
     "name": "stdout",
     "output_type": "stream",
     "text": [
      "Epoch 34, Avg Loss: 2.1906347166408193, Improvement: 0.05045551603490656\n"
     ]
    },
    {
     "name": "stderr",
     "output_type": "stream",
     "text": [
      "Epoch 35/50: 100%|███████████████████████████████████████████████████████████| 11/11 [00:00<00:00, 14.40it/s, loss=4.2]\n"
     ]
    },
    {
     "name": "stdout",
     "output_type": "stream",
     "text": [
      "Epoch 35, Avg Loss: 2.1024714491584082, Improvement: 0.08816326748241078\n"
     ]
    },
    {
     "name": "stderr",
     "output_type": "stream",
     "text": [
      "Epoch 36/50: 100%|██████████████████████████████████████████████████████████| 11/11 [00:00<00:00, 14.34it/s, loss=1.98]\n"
     ]
    },
    {
     "name": "stdout",
     "output_type": "stream",
     "text": [
      "Epoch 36, Avg Loss: 2.034699938514016, Improvement: 0.06777151064439253\n"
     ]
    },
    {
     "name": "stderr",
     "output_type": "stream",
     "text": [
      "Epoch 37/50: 100%|██████████████████████████████████████████████████████████| 11/11 [00:00<00:00, 14.45it/s, loss=1.44]\n"
     ]
    },
    {
     "name": "stdout",
     "output_type": "stream",
     "text": [
      "Epoch 37, Avg Loss: 1.968110518022017, Improvement: 0.06658942049199884\n"
     ]
    },
    {
     "name": "stderr",
     "output_type": "stream",
     "text": [
      "Epoch 38/50: 100%|██████████████████████████████████████████████████████████| 11/11 [00:00<00:00, 14.24it/s, loss=1.46]\n"
     ]
    },
    {
     "name": "stdout",
     "output_type": "stream",
     "text": [
      "Epoch 38, Avg Loss: 1.921114206314087, Improvement: 0.04699631170793013\n"
     ]
    },
    {
     "name": "stderr",
     "output_type": "stream",
     "text": [
      "Epoch 39/50: 100%|██████████████████████████████████████████████████████████| 11/11 [00:00<00:00, 14.45it/s, loss=1.44]\n"
     ]
    },
    {
     "name": "stdout",
     "output_type": "stream",
     "text": [
      "Epoch 39, Avg Loss: 1.8320451758124612, Improvement: 0.08906903050162575\n"
     ]
    },
    {
     "name": "stderr",
     "output_type": "stream",
     "text": [
      "Epoch 40/50: 100%|██████████████████████████████████████████████████████████| 11/11 [00:00<00:00, 14.40it/s, loss=1.33]\n"
     ]
    },
    {
     "name": "stdout",
     "output_type": "stream",
     "text": [
      "Epoch 40, Avg Loss: 1.7379827824505893, Improvement: 0.09406239336187189\n"
     ]
    },
    {
     "name": "stderr",
     "output_type": "stream",
     "text": [
      "Epoch 41/50: 100%|██████████████████████████████████████████████████████████| 11/11 [00:00<00:00, 14.35it/s, loss=1.93]\n"
     ]
    },
    {
     "name": "stdout",
     "output_type": "stream",
     "text": [
      "Epoch 41, Avg Loss: 1.671442692930048, Improvement: 0.0665400895205411\n"
     ]
    },
    {
     "name": "stderr",
     "output_type": "stream",
     "text": [
      "Epoch 42/50: 100%|██████████████████████████████████████████████████████████| 11/11 [00:00<00:00, 14.33it/s, loss=1.32]\n"
     ]
    },
    {
     "name": "stdout",
     "output_type": "stream",
     "text": [
      "Epoch 42, Avg Loss: 1.590345404364846, Improvement: 0.0810972885652022\n"
     ]
    },
    {
     "name": "stderr",
     "output_type": "stream",
     "text": [
      "Epoch 43/50: 100%|█████████████████████████████████████████████████████████| 11/11 [00:00<00:00, 14.30it/s, loss=0.726]\n"
     ]
    },
    {
     "name": "stdout",
     "output_type": "stream",
     "text": [
      "Epoch 43, Avg Loss: 1.5506694696166299, Improvement: 0.03967593474821611\n"
     ]
    },
    {
     "name": "stderr",
     "output_type": "stream",
     "text": [
      "Epoch 44/50: 100%|██████████████████████████████████████████████████████████| 11/11 [00:00<00:00, 14.49it/s, loss=1.22]\n"
     ]
    },
    {
     "name": "stdout",
     "output_type": "stream",
     "text": [
      "Epoch 44, Avg Loss: 1.4241426316174595, Improvement: 0.12652683799917047\n"
     ]
    },
    {
     "name": "stderr",
     "output_type": "stream",
     "text": [
      "Epoch 45/50: 100%|██████████████████████████████████████████████████████████| 11/11 [00:00<00:00, 14.38it/s, loss=1.39]\n"
     ]
    },
    {
     "name": "stdout",
     "output_type": "stream",
     "text": [
      "Epoch 45, Avg Loss: 1.302644664591009, Improvement: 0.12149796702645042\n"
     ]
    },
    {
     "name": "stderr",
     "output_type": "stream",
     "text": [
      "Epoch 46/50: 100%|█████████████████████████████████████████████████████████| 11/11 [00:00<00:00, 14.27it/s, loss=0.896]\n"
     ]
    },
    {
     "name": "stdout",
     "output_type": "stream",
     "text": [
      "Epoch 46, Avg Loss: 1.199525773525238, Improvement: 0.10311889106577093\n"
     ]
    },
    {
     "name": "stderr",
     "output_type": "stream",
     "text": [
      "Epoch 47/50: 100%|██████████████████████████████████████████████████████████| 11/11 [00:00<00:00, 14.51it/s, loss=2.33]\n"
     ]
    },
    {
     "name": "stdout",
     "output_type": "stream",
     "text": [
      "Epoch 47, Avg Loss: 1.0946883179924705, Improvement: 0.10483745553276756\n"
     ]
    },
    {
     "name": "stderr",
     "output_type": "stream",
     "text": [
      "Epoch 48/50: 100%|██████████████████████████████████████████████████████████| 11/11 [00:00<00:00, 14.29it/s, loss=0.78]\n"
     ]
    },
    {
     "name": "stdout",
     "output_type": "stream",
     "text": [
      "Epoch 48, Avg Loss: 0.9956685385920785, Improvement: 0.09901977940039201\n"
     ]
    },
    {
     "name": "stderr",
     "output_type": "stream",
     "text": [
      "Epoch 49/50: 100%|█████████████████████████████████████████████████████████| 11/11 [00:00<00:00, 14.27it/s, loss=0.407]\n"
     ]
    },
    {
     "name": "stdout",
     "output_type": "stream",
     "text": [
      "Epoch 49, Avg Loss: 0.9077390784567053, Improvement: 0.0879294601353732\n"
     ]
    },
    {
     "name": "stderr",
     "output_type": "stream",
     "text": [
      "Epoch 50/50: 100%|█████████████████████████████████████████████████████████| 11/11 [00:00<00:00, 14.52it/s, loss=0.179]"
     ]
    },
    {
     "name": "stdout",
     "output_type": "stream",
     "text": [
      "Epoch 50, Avg Loss: 0.8224796002561395, Improvement: 0.08525947820056569\n"
     ]
    },
    {
     "name": "stderr",
     "output_type": "stream",
     "text": [
      "\n"
     ]
    }
   ],
   "source": [
    "# Train norm\n",
    "def log_cosh_loss(norm_u, norm_v):\n",
    "    return torch.log(torch.cosh(norm_u - norm_v)).mean()\n",
    "\n",
    "output_dim = 160\n",
    "model_norm = nballBertNorm(model_url, output_dim).to(device)\n",
    "loss_fn_norm = log_cosh_loss\n",
    "optimizer_norm = optim.Adam([\n",
    "    {'params': model_norm.parameters()}\n",
    "], lr=2e-5)\n",
    "scheduler_norm = StepLR(optimizer_norm, step_size=50, gamma=0.1)\n",
    "\n",
    "train(model=model_norm, \\\n",
    "      dataloader=dataloader_train,\\\n",
    "      optimizer=optimizer_norm,\\\n",
    "      scheduler=scheduler_norm,\\\n",
    "      num_epochs=50, \\\n",
    "      mode=\"norm\")"
   ]
  },
  {
   "cell_type": "code",
   "execution_count": 10,
   "id": "95906702-0821-45b1-bba0-ba88188fb290",
   "metadata": {
    "scrolled": true
   },
   "outputs": [
    {
     "name": "stderr",
     "output_type": "stream",
     "text": [
      "Epoch 1/20: 100%|██████████████████████████████████████████████████████████| 11/11 [00:00<00:00, 13.87it/s, loss=0.762]\n"
     ]
    },
    {
     "name": "stdout",
     "output_type": "stream",
     "text": [
      "Epoch 1, Avg Loss: 0.9002834450114857, Improvement: 0\n"
     ]
    },
    {
     "name": "stderr",
     "output_type": "stream",
     "text": [
      "Epoch 2/20: 100%|██████████████████████████████████████████████████████████| 11/11 [00:00<00:00, 14.08it/s, loss=0.519]\n"
     ]
    },
    {
     "name": "stdout",
     "output_type": "stream",
     "text": [
      "Epoch 2, Avg Loss: 0.6333872188221324, Improvement: 0.26689622618935327\n"
     ]
    },
    {
     "name": "stderr",
     "output_type": "stream",
     "text": [
      "Epoch 3/20: 100%|██████████████████████████████████████████████████████████| 11/11 [00:00<00:00, 14.37it/s, loss=0.346]\n"
     ]
    },
    {
     "name": "stdout",
     "output_type": "stream",
     "text": [
      "Epoch 3, Avg Loss: 0.4295814877206629, Improvement: 0.20380573110146957\n"
     ]
    },
    {
     "name": "stderr",
     "output_type": "stream",
     "text": [
      "Epoch 4/20: 100%|███████████████████████████████████████████████████████████| 11/11 [00:00<00:00, 14.20it/s, loss=0.24]\n"
     ]
    },
    {
     "name": "stdout",
     "output_type": "stream",
     "text": [
      "Epoch 4, Avg Loss: 0.2891637547449632, Improvement: 0.14041773297569968\n"
     ]
    },
    {
     "name": "stderr",
     "output_type": "stream",
     "text": [
      "Epoch 5/20: 100%|███████████████████████████████████████████████████████████| 11/11 [00:00<00:00, 14.26it/s, loss=0.16]\n"
     ]
    },
    {
     "name": "stdout",
     "output_type": "stream",
     "text": [
      "Epoch 5, Avg Loss: 0.192511802369898, Improvement: 0.0966519523750652\n"
     ]
    },
    {
     "name": "stderr",
     "output_type": "stream",
     "text": [
      "Epoch 6/20: 100%|██████████████████████████████████████████████████████████| 11/11 [00:00<00:00, 14.37it/s, loss=0.107]\n"
     ]
    },
    {
     "name": "stdout",
     "output_type": "stream",
     "text": [
      "Epoch 6, Avg Loss: 0.12691779163750735, Improvement: 0.06559401073239067\n"
     ]
    },
    {
     "name": "stderr",
     "output_type": "stream",
     "text": [
      "Epoch 7/20: 100%|█████████████████████████████████████████████████████████| 11/11 [00:00<00:00, 14.30it/s, loss=0.0715]\n"
     ]
    },
    {
     "name": "stdout",
     "output_type": "stream",
     "text": [
      "Epoch 7, Avg Loss: 0.08590154485269026, Improvement: 0.041016246784817086\n"
     ]
    },
    {
     "name": "stderr",
     "output_type": "stream",
     "text": [
      "Epoch 8/20: 100%|█████████████████████████████████████████████████████████| 11/11 [00:00<00:00, 14.25it/s, loss=0.0515]\n"
     ]
    },
    {
     "name": "stdout",
     "output_type": "stream",
     "text": [
      "Epoch 8, Avg Loss: 0.06093714013695717, Improvement: 0.024964404715733093\n"
     ]
    },
    {
     "name": "stderr",
     "output_type": "stream",
     "text": [
      "Epoch 9/20: 100%|█████████████████████████████████████████████████████████| 11/11 [00:00<00:00, 14.30it/s, loss=0.0412]\n"
     ]
    },
    {
     "name": "stdout",
     "output_type": "stream",
     "text": [
      "Epoch 9, Avg Loss: 0.04754723913290284, Improvement: 0.013389901004054329\n"
     ]
    },
    {
     "name": "stderr",
     "output_type": "stream",
     "text": [
      "Epoch 10/20: 100%|████████████████████████████████████████████████████████| 11/11 [00:00<00:00, 14.33it/s, loss=0.0374]\n"
     ]
    },
    {
     "name": "stdout",
     "output_type": "stream",
     "text": [
      "Epoch 10, Avg Loss: 0.038943444124676964, Improvement: 0.008603795008225874\n"
     ]
    },
    {
     "name": "stderr",
     "output_type": "stream",
     "text": [
      "Epoch 11/20: 100%|████████████████████████████████████████████████████████| 11/11 [00:00<00:00, 14.43it/s, loss=0.0319]\n"
     ]
    },
    {
     "name": "stdout",
     "output_type": "stream",
     "text": [
      "Epoch 11, Avg Loss: 0.03294910355047746, Improvement: 0.005994340574199503\n"
     ]
    },
    {
     "name": "stderr",
     "output_type": "stream",
     "text": [
      "Epoch 12/20: 100%|█████████████████████████████████████████████████████████| 11/11 [00:00<00:00, 14.28it/s, loss=0.028]\n"
     ]
    },
    {
     "name": "stdout",
     "output_type": "stream",
     "text": [
      "Epoch 12, Avg Loss: 0.030301975763656876, Improvement: 0.0026471277868205852\n"
     ]
    },
    {
     "name": "stderr",
     "output_type": "stream",
     "text": [
      "Epoch 13/20: 100%|████████████████████████████████████████████████████████| 11/11 [00:00<00:00, 14.25it/s, loss=0.0256]\n"
     ]
    },
    {
     "name": "stdout",
     "output_type": "stream",
     "text": [
      "Epoch 13, Avg Loss: 0.02766367251222784, Improvement: 0.0026383032514290376\n"
     ]
    },
    {
     "name": "stderr",
     "output_type": "stream",
     "text": [
      "Epoch 14/20: 100%|████████████████████████████████████████████████████████| 11/11 [00:00<00:00, 14.23it/s, loss=0.0252]\n"
     ]
    },
    {
     "name": "stdout",
     "output_type": "stream",
     "text": [
      "Epoch 14, Avg Loss: 0.02569798430935903, Improvement: 0.0019656882028688083\n"
     ]
    },
    {
     "name": "stderr",
     "output_type": "stream",
     "text": [
      "Epoch 15/20: 100%|█████████████████████████████████████████████████████████| 11/11 [00:00<00:00, 14.35it/s, loss=0.023]\n"
     ]
    },
    {
     "name": "stdout",
     "output_type": "stream",
     "text": [
      "Epoch 15, Avg Loss: 0.023842876438390125, Improvement: 0.0018551078709689054\n"
     ]
    },
    {
     "name": "stderr",
     "output_type": "stream",
     "text": [
      "Epoch 16/20: 100%|████████████████████████████████████████████████████████| 11/11 [00:00<00:00, 14.18it/s, loss=0.0208]\n"
     ]
    },
    {
     "name": "stdout",
     "output_type": "stream",
     "text": [
      "Epoch 16, Avg Loss: 0.022837365384806286, Improvement: 0.0010055110535838387\n"
     ]
    },
    {
     "name": "stderr",
     "output_type": "stream",
     "text": [
      "Epoch 17/20: 100%|█████████████████████████████████████████████████████████| 11/11 [00:00<00:00, 14.19it/s, loss=0.022]\n"
     ]
    },
    {
     "name": "stdout",
     "output_type": "stream",
     "text": [
      "Epoch 17, Avg Loss: 0.021583566272800617, Improvement: 0.0012537991120056672\n"
     ]
    },
    {
     "name": "stderr",
     "output_type": "stream",
     "text": [
      "Epoch 18/20: 100%|████████████████████████████████████████████████████████| 11/11 [00:00<00:00, 14.32it/s, loss=0.0194]\n"
     ]
    },
    {
     "name": "stdout",
     "output_type": "stream",
     "text": [
      "Epoch 18, Avg Loss: 0.020147095519033344, Improvement: 0.0014364707537672737\n"
     ]
    },
    {
     "name": "stderr",
     "output_type": "stream",
     "text": [
      "Epoch 19/20: 100%|████████████████████████████████████████████████████████| 11/11 [00:00<00:00, 13.90it/s, loss=0.0194]\n"
     ]
    },
    {
     "name": "stdout",
     "output_type": "stream",
     "text": [
      "Epoch 19, Avg Loss: 0.019093484363772652, Improvement: 0.0010536111552606928\n"
     ]
    },
    {
     "name": "stderr",
     "output_type": "stream",
     "text": [
      "Epoch 20/20: 100%|████████████████████████████████████████████████████████| 11/11 [00:00<00:00, 13.89it/s, loss=0.0187]"
     ]
    },
    {
     "name": "stdout",
     "output_type": "stream",
     "text": [
      "Epoch 20, Avg Loss: 0.018734653903679413, Improvement: 0.0003588304600932381\n"
     ]
    },
    {
     "name": "stderr",
     "output_type": "stream",
     "text": [
      "\n"
     ]
    }
   ],
   "source": [
    "# Train direction\n",
    "model_d = nballBertDirection(model_url, output_dim).to(device)\n",
    "optimizer_d = optim.Adam([\n",
    "    {'params': model_d.parameters()}\n",
    "], lr=2e-5)\n",
    "scheduler_d = StepLR(optimizer_d, step_size=50, gamma=0.1)\n",
    "\n",
    "train(model=model_d, \\\n",
    "      dataloader=dataloader_train,\\\n",
    "      optimizer=optimizer_d,\\\n",
    "      scheduler=scheduler_d,\\\n",
    "      num_epochs=20, \\\n",
    "      mode=\"direction\")"
   ]
  },
  {
   "cell_type": "code",
   "execution_count": null,
   "id": "35f15027-53aa-413b-a8af-cc5a6e5cd9ba",
   "metadata": {},
   "outputs": [],
   "source": []
  },
  {
   "cell_type": "code",
   "execution_count": 11,
   "id": "84f1a78d-001d-4e36-8ffb-7aadb4a7873c",
   "metadata": {},
   "outputs": [],
   "source": [
    "# Evaluation\n",
    "\n",
    "def evaluation(model_n, model_d, dataloader):\n",
    "    model_n.eval()\n",
    "    model_d.eval()\n",
    "\n",
    "    loss_fn_n = log_cosh_loss\n",
    "    loss_fn_d = nn.CosineEmbeddingLoss()\n",
    "\n",
    "    loss_n = 0.0\n",
    "    loss_d = 0.0\n",
    "    accuracy = 0.0\n",
    "    correct_predictions = 0\n",
    "    pred_indices = {}\n",
    "    size = 0\n",
    "    with torch.no_grad():\n",
    "        for batch in tqdm(dataloader, desc=\"Evaluation\", leave=True, position=0):\n",
    "            batch_input_ids, batch_attention_masks, batch_word_indices, \\\n",
    "            batch_sense_indices, batch_lemma_indices, batch_idices = [b.to(device) for b in batch]\n",
    "\n",
    "            # Forward pass\n",
    "            norms = model_n(input_ids=batch_input_ids, attention_mask=batch_attention_masks, \\\n",
    "                            word_index=batch_word_indices).squeeze()\n",
    "            directions = model_d(input_ids=batch_input_ids, attention_mask=batch_attention_masks, \\\n",
    "                                 word_index=batch_word_indices).squeeze()\n",
    "\n",
    "            target_norms = nball_norms[batch_sense_indices]\n",
    "            target_directions = nball_embeddings[batch_sense_indices]\n",
    "\n",
    "            labels = torch.ones(directions.size(0), device=device)\n",
    "            loss_n_batch = loss_fn_n(norms, target_norms * 1e-5)\n",
    "            loss_d_batch = loss_fn_d(directions, target_directions, labels)\n",
    "            loss_n += loss_n_batch.item()\n",
    "            loss_d += loss_d_batch.item()\n",
    "\n",
    "            # Predict\n",
    "            # Get candidate group norms and directions based on lemma_pair mapping\n",
    "            candidate_indices = [lemma_pair[l.item()] for l in batch_lemma_indices]\n",
    "            candidate_norms = [nball_norms[idx] * 1e-5 for idx in candidate_indices]\n",
    "            candidate_directions = [nball_embeddings[idx] for idx in candidate_indices]\n",
    "            output_embeddings = directions * norms.unsqueeze(-1)\n",
    "            # Calculate distances and predictions\n",
    "            for i in range(len(output_embeddings)):\n",
    "                size += 1\n",
    "                output_emb = output_embeddings[i]\n",
    "                distances = [F.pairwise_distance(output_emb.unsqueeze(0), \n",
    "                                                  (cand_dir * cand_norm.unsqueeze(-1)).unsqueeze(0)).item()\n",
    "                             for cand_dir, cand_norm in zip(candidate_directions[i], candidate_norms[i])]\n",
    "                min_distance_idx = distances.index(min(distances))\n",
    "                predicted_index = candidate_indices[i][min_distance_idx]\n",
    "                pred_indices[batch_idices[i].item()] = predicted_index\n",
    "                if predicted_index == batch_sense_indices[i].item():\n",
    "                    correct_predictions += 1\n",
    "                \n",
    "\n",
    "        total_batches = len(dataloader)\n",
    "        loss_n /= total_batches\n",
    "        loss_d /= total_batches\n",
    "        accuracy = correct_predictions / size\n",
    "\n",
    "    return loss_n, loss_d, accuracy, pred_indices\n"
   ]
  },
  {
   "cell_type": "code",
   "execution_count": 21,
   "id": "3450c786-f4e1-4bfc-8646-a056bfda6dfc",
   "metadata": {},
   "outputs": [
    {
     "name": "stderr",
     "output_type": "stream",
     "text": [
      "Evaluation: 100%|██████████████████████████████████████████████████████████████████████| 11/11 [00:00<00:00, 17.10it/s]\n"
     ]
    },
    {
     "name": "stdout",
     "output_type": "stream",
     "text": [
      "Average loss of norm:0.656003089113669, average loss of dorection:0.0026112972674044695\n",
      "Accurancy:99.43181818181817%\n"
     ]
    },
    {
     "data": {
      "text/html": [
       "<div>\n",
       "<style scoped>\n",
       "    .dataframe tbody tr th:only-of-type {\n",
       "        vertical-align: middle;\n",
       "    }\n",
       "\n",
       "    .dataframe tbody tr th {\n",
       "        vertical-align: top;\n",
       "    }\n",
       "\n",
       "    .dataframe thead th {\n",
       "        text-align: right;\n",
       "    }\n",
       "</style>\n",
       "<table border=\"1\" class=\"dataframe\">\n",
       "  <thead>\n",
       "    <tr style=\"text-align: right;\">\n",
       "      <th></th>\n",
       "      <th>lemma</th>\n",
       "      <th>word</th>\n",
       "      <th>sentence_text</th>\n",
       "      <th>lemma_idx</th>\n",
       "      <th>formatted_sense_id</th>\n",
       "      <th>sense_idx</th>\n",
       "      <th>sense_group</th>\n",
       "      <th>pred_sense_id</th>\n",
       "      <th>pred_sense_idx</th>\n",
       "    </tr>\n",
       "  </thead>\n",
       "  <tbody>\n",
       "    <tr>\n",
       "      <th>0</th>\n",
       "      <td>man</td>\n",
       "      <td>men</td>\n",
       "      <td>Whereas the eighteenth century had been a time...</td>\n",
       "      <td>131</td>\n",
       "      <td>homo.n.02</td>\n",
       "      <td>132</td>\n",
       "      <td>[132]</td>\n",
       "      <td>132</td>\n",
       "      <td>132</td>\n",
       "    </tr>\n",
       "    <tr>\n",
       "      <th>1</th>\n",
       "      <td>horse</td>\n",
       "      <td>horse</td>\n",
       "      <td>One wrote : `` [ I am so hungry ] I could eat ...</td>\n",
       "      <td>255</td>\n",
       "      <td>horse.n.01</td>\n",
       "      <td>261</td>\n",
       "      <td>[261]</td>\n",
       "      <td>261</td>\n",
       "      <td>261</td>\n",
       "    </tr>\n",
       "    <tr>\n",
       "      <th>2</th>\n",
       "      <td>wildcat</td>\n",
       "      <td>wildcat</td>\n",
       "      <td>She is well-educated and refined , all wildcat...</td>\n",
       "      <td>53</td>\n",
       "      <td>wildcat.n.03</td>\n",
       "      <td>54</td>\n",
       "      <td>[54]</td>\n",
       "      <td>54</td>\n",
       "      <td>54</td>\n",
       "    </tr>\n",
       "    <tr>\n",
       "      <th>3</th>\n",
       "      <td>lion</td>\n",
       "      <td>Lions</td>\n",
       "      <td>To find out , we traveled throughout that part...</td>\n",
       "      <td>61</td>\n",
       "      <td>lion.n.01</td>\n",
       "      <td>62</td>\n",
       "      <td>[62]</td>\n",
       "      <td>62</td>\n",
       "      <td>62</td>\n",
       "    </tr>\n",
       "    <tr>\n",
       "      <th>4</th>\n",
       "      <td>elephant</td>\n",
       "      <td>elephants</td>\n",
       "      <td>The Prince visited the hospital of Operation B...</td>\n",
       "      <td>103</td>\n",
       "      <td>elephant.n.01</td>\n",
       "      <td>104</td>\n",
       "      <td>[104]</td>\n",
       "      <td>104</td>\n",
       "      <td>104</td>\n",
       "    </tr>\n",
       "  </tbody>\n",
       "</table>\n",
       "</div>"
      ],
      "text/plain": [
       "      lemma       word                                      sentence_text  \\\n",
       "0       man        men  Whereas the eighteenth century had been a time...   \n",
       "1     horse      horse  One wrote : `` [ I am so hungry ] I could eat ...   \n",
       "2   wildcat    wildcat  She is well-educated and refined , all wildcat...   \n",
       "3      lion      Lions  To find out , we traveled throughout that part...   \n",
       "4  elephant  elephants  The Prince visited the hospital of Operation B...   \n",
       "\n",
       "   lemma_idx formatted_sense_id  sense_idx sense_group  pred_sense_id  \\\n",
       "0        131          homo.n.02        132       [132]            132   \n",
       "1        255         horse.n.01        261       [261]            261   \n",
       "2         53       wildcat.n.03         54        [54]             54   \n",
       "3         61          lion.n.01         62        [62]             62   \n",
       "4        103      elephant.n.01        104       [104]            104   \n",
       "\n",
       "   pred_sense_idx  \n",
       "0             132  \n",
       "1             261  \n",
       "2              54  \n",
       "3              62  \n",
       "4             104  "
      ]
     },
     "metadata": {},
     "output_type": "display_data"
    }
   ],
   "source": [
    "loss_n, loss_d, accurancy, pred_indices = evaluation(model_n=model_norm, \\\n",
    "                                                     model_d=model_d,\\\n",
    "                                                     dataloader=dataloader_train)\n",
    "\n",
    "print(f\"Average loss of norm:{loss_n}, average loss of dorection:{loss_d}\")\n",
    "print(f\"Accurancy:{accurancy*100}%\")\n",
    "train_semcor['pred_sense_idx'] = train_semcor.index.map(pred_indices)\n",
    "display(train_semcor.head())"
   ]
  },
  {
   "cell_type": "code",
   "execution_count": 22,
   "id": "1fecc6b2-8075-4905-b8d3-f5689a15680e",
   "metadata": {},
   "outputs": [
    {
     "name": "stdout",
     "output_type": "stream",
     "text": [
      "Length of dataset:352\n",
      "Length of have only one element:330\n",
      "Length of mismatch:2\n",
      "Original accurancy:93.75%\n",
      "Filtered accurancy:90.9090909090909%\n"
     ]
    }
   ],
   "source": [
    "count_single_element = (train_semcor['sense_group'].apply(lambda x: len(x) == 1)).sum()\n",
    "mismatch_count = (train_semcor['sense_idx'] != train_semcor['pred_sense_idx']).sum()\n",
    "count_multiple_element = set_length-count_single_element\n",
    "\n",
    "set_length = len(train_semcor)\n",
    "print(f\"Length of dataset:{set_length}\")\n",
    "print(f\"Length of have only one element:{count_single_element}\")\n",
    "print(f\"Length of mismatch:{mismatch_count}\")\n",
    "print(f\"Original accurancy:{count_single_element / set_length *100}%\")\n",
    "print(f\"Filtered accurancy:{(count_multiple_element-mismatch_count) /count_multiple_element  *100}%\")\n"
   ]
  },
  {
   "cell_type": "code",
   "execution_count": 19,
   "id": "9fcc8ff6-1322-4706-bf95-24c6eca60242",
   "metadata": {},
   "outputs": [
    {
     "name": "stdout",
     "output_type": "stream",
     "text": [
      "Tokenizing sentences...\n",
      "Tokenizing finished.\n",
      "Calculating word indices...\n",
      "Tokenizing finished.\n"
     ]
    },
    {
     "name": "stderr",
     "output_type": "stream",
     "text": [
      "Evaluation: 100%|████████████████████████████████████████████████████████████████████████| 1/1 [00:00<00:00,  4.37it/s]"
     ]
    },
    {
     "name": "stdout",
     "output_type": "stream",
     "text": [
      "Average loss of norm:0.5518102645874023, average loss of dorection:0.0034370184876024723\n",
      "Accurancy:1.0\n"
     ]
    },
    {
     "name": "stderr",
     "output_type": "stream",
     "text": [
      "\n"
     ]
    },
    {
     "data": {
      "text/html": [
       "<div>\n",
       "<style scoped>\n",
       "    .dataframe tbody tr th:only-of-type {\n",
       "        vertical-align: middle;\n",
       "    }\n",
       "\n",
       "    .dataframe tbody tr th {\n",
       "        vertical-align: top;\n",
       "    }\n",
       "\n",
       "    .dataframe thead th {\n",
       "        text-align: right;\n",
       "    }\n",
       "</style>\n",
       "<table border=\"1\" class=\"dataframe\">\n",
       "  <thead>\n",
       "    <tr style=\"text-align: right;\">\n",
       "      <th></th>\n",
       "      <th>lemma</th>\n",
       "      <th>word</th>\n",
       "      <th>sentence_text</th>\n",
       "      <th>lemma_idx</th>\n",
       "      <th>formatted_sense_id</th>\n",
       "      <th>sense_idx</th>\n",
       "      <th>sense_group</th>\n",
       "      <th>pred_sense_idx</th>\n",
       "    </tr>\n",
       "  </thead>\n",
       "  <tbody>\n",
       "    <tr>\n",
       "      <th>0</th>\n",
       "      <td>mouse</td>\n",
       "      <td>mice</td>\n",
       "      <td>His doubts stemmed from the fact that several ...</td>\n",
       "      <td>183</td>\n",
       "      <td>mouse.n.01</td>\n",
       "      <td>184</td>\n",
       "      <td>[184]</td>\n",
       "      <td>184</td>\n",
       "    </tr>\n",
       "    <tr>\n",
       "      <th>1</th>\n",
       "      <td>cat</td>\n",
       "      <td>cats</td>\n",
       "      <td>The cats are fine , although nervous .</td>\n",
       "      <td>54</td>\n",
       "      <td>cat.n.01</td>\n",
       "      <td>55</td>\n",
       "      <td>[55]</td>\n",
       "      <td>55</td>\n",
       "    </tr>\n",
       "    <tr>\n",
       "      <th>2</th>\n",
       "      <td>mouse</td>\n",
       "      <td>mouse</td>\n",
       "      <td>The quivers move through my house every few mi...</td>\n",
       "      <td>183</td>\n",
       "      <td>mouse.n.01</td>\n",
       "      <td>184</td>\n",
       "      <td>[184]</td>\n",
       "      <td>184</td>\n",
       "    </tr>\n",
       "    <tr>\n",
       "      <th>3</th>\n",
       "      <td>cow</td>\n",
       "      <td>cows</td>\n",
       "      <td>After long stretches of this attendant ground ...</td>\n",
       "      <td>99</td>\n",
       "      <td>cow.n.01</td>\n",
       "      <td>310</td>\n",
       "      <td>[100, 310]</td>\n",
       "      <td>310</td>\n",
       "    </tr>\n",
       "    <tr>\n",
       "      <th>4</th>\n",
       "      <td>world</td>\n",
       "      <td>world</td>\n",
       "      <td>But it was seen as an important advance in a n...</td>\n",
       "      <td>130</td>\n",
       "      <td>world.n.08</td>\n",
       "      <td>131</td>\n",
       "      <td>[131]</td>\n",
       "      <td>131</td>\n",
       "    </tr>\n",
       "  </tbody>\n",
       "</table>\n",
       "</div>"
      ],
      "text/plain": [
       "   lemma   word                                      sentence_text  lemma_idx  \\\n",
       "0  mouse   mice  His doubts stemmed from the fact that several ...        183   \n",
       "1    cat   cats             The cats are fine , although nervous .         54   \n",
       "2  mouse  mouse  The quivers move through my house every few mi...        183   \n",
       "3    cow   cows  After long stretches of this attendant ground ...         99   \n",
       "4  world  world  But it was seen as an important advance in a n...        130   \n",
       "\n",
       "  formatted_sense_id  sense_idx sense_group  pred_sense_idx  \n",
       "0         mouse.n.01        184       [184]             184  \n",
       "1           cat.n.01         55        [55]              55  \n",
       "2         mouse.n.01        184       [184]             184  \n",
       "3           cow.n.01        310  [100, 310]             310  \n",
       "4         world.n.08        131       [131]             131  "
      ]
     },
     "metadata": {},
     "output_type": "display_data"
    }
   ],
   "source": [
    "eval_all, lemma_pair = preprocess_data(eval_all_path, nball)\n",
    "dataset_eval = nballDataset(eval_all, nball, model_url, max_length)\n",
    "dataloader_eval = DataLoader(dataset_eval, batch_size, shuffle=True)\n",
    "loss_n, loss_d, accurancy, pred_indices = evaluation(model_n=model_norm, \\\n",
    "                                                     model_d=model_d,\\\n",
    "                                                     dataloader=dataloader_eval)\n",
    "\n",
    "eval_all['pred_sense_idx'] = eval_all.index.map(pred_indices)\n",
    "print(f\"Average loss of norm:{loss_n}, average loss of dorection:{loss_d}\")\n",
    "print(f\"Accurancy:{accurancy}\")\n",
    "display(eval_all.head())"
   ]
  },
  {
   "cell_type": "code",
   "execution_count": null,
   "id": "16467223-2663-46b9-b002-45fde53bab78",
   "metadata": {
    "scrolled": true
   },
   "outputs": [],
   "source": []
  },
  {
   "cell_type": "code",
   "execution_count": null,
   "id": "6e36d014-90bf-449e-b80d-4a35bf7ebe9f",
   "metadata": {},
   "outputs": [],
   "source": []
  },
  {
   "cell_type": "code",
   "execution_count": null,
   "id": "b208268b-d9f6-47ed-b959-d4c1cffcd2c0",
   "metadata": {},
   "outputs": [],
   "source": []
  }
 ],
 "metadata": {
  "kernelspec": {
   "display_name": "Python (annotated-transformer)",
   "language": "python",
   "name": "annotated-transformer"
  },
  "language_info": {
   "codemirror_mode": {
    "name": "ipython",
    "version": 3
   },
   "file_extension": ".py",
   "mimetype": "text/x-python",
   "name": "python",
   "nbconvert_exporter": "python",
   "pygments_lexer": "ipython3",
   "version": "3.9.19"
  }
 },
 "nbformat": 4,
 "nbformat_minor": 5
}
