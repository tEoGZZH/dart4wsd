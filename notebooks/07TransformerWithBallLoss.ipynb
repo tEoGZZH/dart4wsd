{
 "cells": [
  {
   "cell_type": "code",
   "execution_count": 1,
   "id": "0bba6170-9255-4be4-a715-0c4c0883063c",
   "metadata": {},
   "outputs": [],
   "source": [
    "# Import the package\n",
    "import torch\n",
    "import torch.nn as nn\n",
    "import torch.nn.functional as F\n",
    "import torch.optim as optim\n",
    "from torch.utils.data import DataLoader, TensorDataset\n",
    "from transformers import BertTokenizer, BertModel, AdamW\n",
    "import numpy as np\n",
    "import pandas as pd\n",
    "from tqdm import tqdm\n",
    "import xml.etree.ElementTree as ET\n",
    "import nltk\n",
    "from nltk.corpus import wordnet as wn\n",
    "from collections import namedtuple"
   ]
  },
  {
   "cell_type": "code",
   "execution_count": 6,
   "id": "1996b69b-5107-4722-8b1f-47b39bd215c7",
   "metadata": {},
   "outputs": [],
   "source": [
    "# Settings for loading training data\n",
    "semcor_training_xml_path = '../data/WSD_Evaluation_Framework/Training_Corpora/Semcor/semcor.data.xml'\n",
    "semcor_training_gk_path = '../data/WSD_Evaluation_Framework/Training_Corpora/Semcor/semcor.gold.key.txt'"
   ]
  },
  {
   "cell_type": "code",
   "execution_count": 7,
   "id": "25a0e2d4-acee-492c-ace3-7cfa2b689baf",
   "metadata": {},
   "outputs": [
    {
     "data": {
      "text/html": [
       "<div>\n",
       "<style scoped>\n",
       "    .dataframe tbody tr th:only-of-type {\n",
       "        vertical-align: middle;\n",
       "    }\n",
       "\n",
       "    .dataframe tbody tr th {\n",
       "        vertical-align: top;\n",
       "    }\n",
       "\n",
       "    .dataframe thead th {\n",
       "        text-align: right;\n",
       "    }\n",
       "</style>\n",
       "<table border=\"1\" class=\"dataframe\">\n",
       "  <thead>\n",
       "    <tr style=\"text-align: right;\">\n",
       "      <th></th>\n",
       "      <th>sentence_id</th>\n",
       "      <th>instance_id</th>\n",
       "      <th>lemma</th>\n",
       "      <th>pos</th>\n",
       "      <th>word</th>\n",
       "      <th>sentence_text</th>\n",
       "    </tr>\n",
       "  </thead>\n",
       "  <tbody>\n",
       "    <tr>\n",
       "      <th>0</th>\n",
       "      <td>d000.s000</td>\n",
       "      <td>d000.s000.t000</td>\n",
       "      <td>long</td>\n",
       "      <td>ADJ</td>\n",
       "      <td>long</td>\n",
       "      <td>How long has it been since you reviewed the ob...</td>\n",
       "    </tr>\n",
       "    <tr>\n",
       "      <th>1</th>\n",
       "      <td>d000.s000</td>\n",
       "      <td>d000.s000.t001</td>\n",
       "      <td>be</td>\n",
       "      <td>VERB</td>\n",
       "      <td>been</td>\n",
       "      <td>How long has it been since you reviewed the ob...</td>\n",
       "    </tr>\n",
       "    <tr>\n",
       "      <th>2</th>\n",
       "      <td>d000.s000</td>\n",
       "      <td>d000.s000.t002</td>\n",
       "      <td>review</td>\n",
       "      <td>VERB</td>\n",
       "      <td>reviewed</td>\n",
       "      <td>How long has it been since you reviewed the ob...</td>\n",
       "    </tr>\n",
       "    <tr>\n",
       "      <th>3</th>\n",
       "      <td>d000.s000</td>\n",
       "      <td>d000.s000.t003</td>\n",
       "      <td>objective</td>\n",
       "      <td>NOUN</td>\n",
       "      <td>objectives</td>\n",
       "      <td>How long has it been since you reviewed the ob...</td>\n",
       "    </tr>\n",
       "    <tr>\n",
       "      <th>4</th>\n",
       "      <td>d000.s000</td>\n",
       "      <td>d000.s000.t004</td>\n",
       "      <td>benefit</td>\n",
       "      <td>NOUN</td>\n",
       "      <td>benefit</td>\n",
       "      <td>How long has it been since you reviewed the ob...</td>\n",
       "    </tr>\n",
       "  </tbody>\n",
       "</table>\n",
       "</div>"
      ],
      "text/plain": [
       "  sentence_id     instance_id      lemma   pos        word  \\\n",
       "0   d000.s000  d000.s000.t000       long   ADJ        long   \n",
       "1   d000.s000  d000.s000.t001         be  VERB        been   \n",
       "2   d000.s000  d000.s000.t002     review  VERB    reviewed   \n",
       "3   d000.s000  d000.s000.t003  objective  NOUN  objectives   \n",
       "4   d000.s000  d000.s000.t004    benefit  NOUN     benefit   \n",
       "\n",
       "                                       sentence_text  \n",
       "0  How long has it been since you reviewed the ob...  \n",
       "1  How long has it been since you reviewed the ob...  \n",
       "2  How long has it been since you reviewed the ob...  \n",
       "3  How long has it been since you reviewed the ob...  \n",
       "4  How long has it been since you reviewed the ob...  "
      ]
     },
     "metadata": {},
     "output_type": "display_data"
    }
   ],
   "source": [
    "def load_xml_data(xml_file_path=''):\n",
    "    tree = ET.parse(xml_file_path)\n",
    "    root = tree.getroot()\n",
    "    data = []\n",
    "    for text in root.findall('text'):\n",
    "        for sentence in text.findall('sentence'):\n",
    "            sentence_id = sentence.get('id')\n",
    "            sentence_text = ' '.join([element.text for element in sentence])\n",
    "            for instance in sentence.findall('instance'):\n",
    "                instance_id = instance.get('id')\n",
    "                lemma = instance.get('lemma')\n",
    "                pos = instance.get('pos')\n",
    "                word = instance.text\n",
    "                data.append([sentence_id, instance_id, lemma, pos, word, sentence_text])\n",
    "    columns = ['sentence_id', 'instance_id', 'lemma', 'pos', 'word', 'sentence_text']\n",
    "    xml_data = pd.DataFrame(data, columns=columns)\n",
    "    return xml_data\n",
    "\n",
    "\n",
    "# Load xml training data from semcor\n",
    "semcor_training_xml = load_xml_data(semcor_training_xml_path)\n",
    "display(semcor_training_xml.head())"
   ]
  },
  {
   "cell_type": "code",
   "execution_count": 8,
   "id": "b9d896b0-6d94-48f6-9ccb-b83bbdd6d990",
   "metadata": {},
   "outputs": [
    {
     "data": {
      "text/html": [
       "<div>\n",
       "<style scoped>\n",
       "    .dataframe tbody tr th:only-of-type {\n",
       "        vertical-align: middle;\n",
       "    }\n",
       "\n",
       "    .dataframe tbody tr th {\n",
       "        vertical-align: top;\n",
       "    }\n",
       "\n",
       "    .dataframe thead th {\n",
       "        text-align: right;\n",
       "    }\n",
       "</style>\n",
       "<table border=\"1\" class=\"dataframe\">\n",
       "  <thead>\n",
       "    <tr style=\"text-align: right;\">\n",
       "      <th></th>\n",
       "      <th>instance_id</th>\n",
       "      <th>sense_id</th>\n",
       "    </tr>\n",
       "  </thead>\n",
       "  <tbody>\n",
       "    <tr>\n",
       "      <th>0</th>\n",
       "      <td>d000.s000.t000</td>\n",
       "      <td>long%3:00:02::</td>\n",
       "    </tr>\n",
       "    <tr>\n",
       "      <th>1</th>\n",
       "      <td>d000.s000.t001</td>\n",
       "      <td>be%2:42:03::</td>\n",
       "    </tr>\n",
       "    <tr>\n",
       "      <th>2</th>\n",
       "      <td>d000.s000.t002</td>\n",
       "      <td>review%2:31:00::</td>\n",
       "    </tr>\n",
       "    <tr>\n",
       "      <th>3</th>\n",
       "      <td>d000.s000.t003</td>\n",
       "      <td>objective%1:09:00::</td>\n",
       "    </tr>\n",
       "    <tr>\n",
       "      <th>4</th>\n",
       "      <td>d000.s000.t004</td>\n",
       "      <td>benefit%1:21:00::</td>\n",
       "    </tr>\n",
       "  </tbody>\n",
       "</table>\n",
       "</div>"
      ],
      "text/plain": [
       "      instance_id             sense_id\n",
       "0  d000.s000.t000       long%3:00:02::\n",
       "1  d000.s000.t001         be%2:42:03::\n",
       "2  d000.s000.t002     review%2:31:00::\n",
       "3  d000.s000.t003  objective%1:09:00::\n",
       "4  d000.s000.t004    benefit%1:21:00::"
      ]
     },
     "metadata": {},
     "output_type": "display_data"
    }
   ],
   "source": [
    "def load_gold_keys(gold_key_file_path=''):\n",
    "    gold_key_data = []\n",
    "    with open(gold_key_file_path, 'r') as file:\n",
    "        for line in file:\n",
    "            parts = line.strip().split()\n",
    "            instance_id = parts[0]\n",
    "            sense_id = parts[1]\n",
    "            gold_key_data.append([instance_id, sense_id])\n",
    "\n",
    "    # Create a DataFrame\n",
    "    gold_key_columns = ['instance_id', 'sense_id']\n",
    "    gold_key_df = pd.DataFrame(gold_key_data, columns=gold_key_columns)\n",
    "    return gold_key_df\n",
    "\n",
    "# Load gold key training data from semcor\n",
    "semcor_training_gk = load_gold_keys(semcor_training_gk_path)\n",
    "display(semcor_training_gk.head())"
   ]
  },
  {
   "cell_type": "code",
   "execution_count": 9,
   "id": "b41a6060-d448-4413-b94f-19b65085e867",
   "metadata": {},
   "outputs": [
    {
     "data": {
      "text/html": [
       "<div>\n",
       "<style scoped>\n",
       "    .dataframe tbody tr th:only-of-type {\n",
       "        vertical-align: middle;\n",
       "    }\n",
       "\n",
       "    .dataframe tbody tr th {\n",
       "        vertical-align: top;\n",
       "    }\n",
       "\n",
       "    .dataframe thead th {\n",
       "        text-align: right;\n",
       "    }\n",
       "</style>\n",
       "<table border=\"1\" class=\"dataframe\">\n",
       "  <thead>\n",
       "    <tr style=\"text-align: right;\">\n",
       "      <th></th>\n",
       "      <th>sentence_id</th>\n",
       "      <th>instance_id</th>\n",
       "      <th>lemma</th>\n",
       "      <th>pos</th>\n",
       "      <th>word</th>\n",
       "      <th>sentence_text</th>\n",
       "      <th>sense_id</th>\n",
       "    </tr>\n",
       "  </thead>\n",
       "  <tbody>\n",
       "    <tr>\n",
       "      <th>0</th>\n",
       "      <td>d000.s000</td>\n",
       "      <td>d000.s000.t000</td>\n",
       "      <td>long</td>\n",
       "      <td>ADJ</td>\n",
       "      <td>long</td>\n",
       "      <td>How long has it been since you reviewed the ob...</td>\n",
       "      <td>long%3:00:02::</td>\n",
       "    </tr>\n",
       "    <tr>\n",
       "      <th>1</th>\n",
       "      <td>d000.s000</td>\n",
       "      <td>d000.s000.t001</td>\n",
       "      <td>be</td>\n",
       "      <td>VERB</td>\n",
       "      <td>been</td>\n",
       "      <td>How long has it been since you reviewed the ob...</td>\n",
       "      <td>be%2:42:03::</td>\n",
       "    </tr>\n",
       "    <tr>\n",
       "      <th>2</th>\n",
       "      <td>d000.s000</td>\n",
       "      <td>d000.s000.t002</td>\n",
       "      <td>review</td>\n",
       "      <td>VERB</td>\n",
       "      <td>reviewed</td>\n",
       "      <td>How long has it been since you reviewed the ob...</td>\n",
       "      <td>review%2:31:00::</td>\n",
       "    </tr>\n",
       "    <tr>\n",
       "      <th>3</th>\n",
       "      <td>d000.s000</td>\n",
       "      <td>d000.s000.t003</td>\n",
       "      <td>objective</td>\n",
       "      <td>NOUN</td>\n",
       "      <td>objectives</td>\n",
       "      <td>How long has it been since you reviewed the ob...</td>\n",
       "      <td>objective%1:09:00::</td>\n",
       "    </tr>\n",
       "    <tr>\n",
       "      <th>4</th>\n",
       "      <td>d000.s000</td>\n",
       "      <td>d000.s000.t004</td>\n",
       "      <td>benefit</td>\n",
       "      <td>NOUN</td>\n",
       "      <td>benefit</td>\n",
       "      <td>How long has it been since you reviewed the ob...</td>\n",
       "      <td>benefit%1:21:00::</td>\n",
       "    </tr>\n",
       "  </tbody>\n",
       "</table>\n",
       "</div>"
      ],
      "text/plain": [
       "  sentence_id     instance_id      lemma   pos        word  \\\n",
       "0   d000.s000  d000.s000.t000       long   ADJ        long   \n",
       "1   d000.s000  d000.s000.t001         be  VERB        been   \n",
       "2   d000.s000  d000.s000.t002     review  VERB    reviewed   \n",
       "3   d000.s000  d000.s000.t003  objective  NOUN  objectives   \n",
       "4   d000.s000  d000.s000.t004    benefit  NOUN     benefit   \n",
       "\n",
       "                                       sentence_text             sense_id  \n",
       "0  How long has it been since you reviewed the ob...       long%3:00:02::  \n",
       "1  How long has it been since you reviewed the ob...         be%2:42:03::  \n",
       "2  How long has it been since you reviewed the ob...     review%2:31:00::  \n",
       "3  How long has it been since you reviewed the ob...  objective%1:09:00::  \n",
       "4  How long has it been since you reviewed the ob...    benefit%1:21:00::  "
      ]
     },
     "metadata": {},
     "output_type": "display_data"
    }
   ],
   "source": [
    "# Merge data from two file\n",
    "semcor_training_merged = pd.merge(semcor_training_xml, semcor_training_gk, on='instance_id', how='inner')\n",
    "display(semcor_training_merged.head())"
   ]
  },
  {
   "cell_type": "code",
   "execution_count": 10,
   "id": "2dcca92f-1bcc-46f1-a239-40ec8aaa0c90",
   "metadata": {},
   "outputs": [
    {
     "data": {
      "text/html": [
       "<div>\n",
       "<style scoped>\n",
       "    .dataframe tbody tr th:only-of-type {\n",
       "        vertical-align: middle;\n",
       "    }\n",
       "\n",
       "    .dataframe tbody tr th {\n",
       "        vertical-align: top;\n",
       "    }\n",
       "\n",
       "    .dataframe thead th {\n",
       "        text-align: right;\n",
       "    }\n",
       "</style>\n",
       "<table border=\"1\" class=\"dataframe\">\n",
       "  <thead>\n",
       "    <tr style=\"text-align: right;\">\n",
       "      <th></th>\n",
       "      <th>lemma</th>\n",
       "      <th>word</th>\n",
       "      <th>sentence_text</th>\n",
       "      <th>formatted_sense_id</th>\n",
       "    </tr>\n",
       "  </thead>\n",
       "  <tbody>\n",
       "    <tr>\n",
       "      <th>0</th>\n",
       "      <td>long</td>\n",
       "      <td>long</td>\n",
       "      <td>How long has it been since you reviewed the ob...</td>\n",
       "      <td>long.a.01</td>\n",
       "    </tr>\n",
       "    <tr>\n",
       "      <th>1</th>\n",
       "      <td>be</td>\n",
       "      <td>been</td>\n",
       "      <td>How long has it been since you reviewed the ob...</td>\n",
       "      <td>be.v.01</td>\n",
       "    </tr>\n",
       "    <tr>\n",
       "      <th>2</th>\n",
       "      <td>review</td>\n",
       "      <td>reviewed</td>\n",
       "      <td>How long has it been since you reviewed the ob...</td>\n",
       "      <td>review.v.01</td>\n",
       "    </tr>\n",
       "    <tr>\n",
       "      <th>3</th>\n",
       "      <td>objective</td>\n",
       "      <td>objectives</td>\n",
       "      <td>How long has it been since you reviewed the ob...</td>\n",
       "      <td>aim.n.02</td>\n",
       "    </tr>\n",
       "    <tr>\n",
       "      <th>4</th>\n",
       "      <td>benefit</td>\n",
       "      <td>benefit</td>\n",
       "      <td>How long has it been since you reviewed the ob...</td>\n",
       "      <td>benefit.n.01</td>\n",
       "    </tr>\n",
       "  </tbody>\n",
       "</table>\n",
       "</div>"
      ],
      "text/plain": [
       "       lemma        word                                      sentence_text  \\\n",
       "0       long        long  How long has it been since you reviewed the ob...   \n",
       "1         be        been  How long has it been since you reviewed the ob...   \n",
       "2     review    reviewed  How long has it been since you reviewed the ob...   \n",
       "3  objective  objectives  How long has it been since you reviewed the ob...   \n",
       "4    benefit     benefit  How long has it been since you reviewed the ob...   \n",
       "\n",
       "  formatted_sense_id  \n",
       "0          long.a.01  \n",
       "1            be.v.01  \n",
       "2        review.v.01  \n",
       "3           aim.n.02  \n",
       "4       benefit.n.01  "
      ]
     },
     "metadata": {},
     "output_type": "display_data"
    }
   ],
   "source": [
    "sense_id_cache = {}\n",
    "def format_sense_id(sense_id):\n",
    "    if sense_id not in sense_id_cache:\n",
    "        sense_id_cache[sense_id] = wn.lemma_from_key(sense_id).synset().name()\n",
    "    return sense_id_cache[sense_id]\n",
    "    \n",
    "semcor_training_merged['formatted_sense_id'] = semcor_training_merged['sense_id'].apply(format_sense_id)\n",
    "\n",
    "# We keep those columns for now\n",
    "keys_to_keep = ['lemma', 'word', 'sentence_text', 'formatted_sense_id']\n",
    "semcor_training_merged = semcor_training_merged[keys_to_keep]\n",
    "\n",
    "display(semcor_training_merged.head())"
   ]
  },
  {
   "cell_type": "code",
   "execution_count": 12,
   "id": "596f2e93-5195-4d2a-bf72-9f3ef3ffbd1c",
   "metadata": {},
   "outputs": [
    {
     "name": "stdout",
     "output_type": "stream",
     "text": [
      "loading balls....\n",
      "388 balls are loaded\n",
      "\n",
      "The length of nball embeddings: [160]\n",
      "[9285.874696624029, -2831.0731960533985, -5411.5754703092125, 3155.586178547479, 9616.250093137523, 8773.95357563832, -6489.03043403883, -11213.285138104024, 18446.747597543756, -6378.590118318234, 6159.033257784651, 455.2731816464883, 17035.986030290933, 9392.627364816282, 6494.703737928586, 1341.9254800571066, 4968.1122162599, 168.8091572397092, -11585.832093531379, 7148.268346028553, -11089.41800317767, -5555.204613784883, -1312.9916302193483, -3979.91723372912, 5997.344096926587, 2099.406104404449, -1954.9259653453128, -6383.790646883844, -2217.127160116899, -870.3793717534998, 5279.292934613052, -8745.870721384026, 4289.01774065603, -2987.3727182161947, -796.3049339662437, 1759.8588666025137, 2669.9513655843093, -3057.8162415140064, 2300.524727296322, -223.3296076202706, -13191.377094332509, -8040.773602952104, 8621.814476328012, 12485.996310706098, 5211.686063260118, 3003.257969107513, 1774.325791521393, -3965.54486387507, -5255.181393081587, 229.06910005540774, 5492.565513451138, 5492.565513451138, 4993.241375864671, 4993.241375864671, 4993.241375864671, 4993.241375864671, 4993.241375864671, 4993.241375864671, 4993.241375864671, 4993.241375864671, -255653.95844427115, -255653.95844427115, -255653.95844427115, -255653.95844427115, -255653.95844427115, -255653.95844427115, -255653.95844427115, -255653.95844427115, -255653.95844427115, -255653.95844427115, -255653.95844427115, -255653.95844427115, -255653.95844427115, -255653.95844427115, -255653.95844427115, -255653.95844427115, -255653.95844427115, -255653.95844427115, -255653.95844427115, -255653.95844427115, -255653.95844427115, -255653.95844427115, -255653.95844427115, -255653.95844427115, -255653.95844427115, -255653.95844427115, -255653.95844427115, -255653.95844427115, -255653.95844427115, -255653.95844427115, -255653.95844427115, -255653.95844427115, -255653.95844427115, -255653.95844427115, -255653.95844427115, -255653.95844427115, -255653.95844427115, -255653.95844427115, -255653.95844427115, -255653.95844427115, -255653.95844427115, -255653.95844427115, -255653.95844427115, -255653.95844427115, -255653.95844427115, -255653.95844427115, -255653.95844427115, -255653.95844427115, -255653.95844427115, -255653.95844427115, -255653.95844427115, -255653.95844427115, -255653.95844427115, -255653.95844427115, -255653.95844427115, -255653.95844427115, -255653.95844427115, -255653.95844427115, -255653.95844427115, -255653.95844427115, -255653.95844427115, -255653.95844427115, -255653.95844427115, -255653.95844427115, -255653.95844427115, -255653.95844427115, -255653.95844427115, -255653.95844427115, -255653.95844427115, -255653.95844427115, -255653.95844427115, -255653.95844427115, -255653.95844427115, -255653.95844427115, -255653.95844427115, -255653.95844427115, -255653.95844427115, -255653.95844427115, -255653.95844427115, -255653.95844427115, -255653.95844427115, -255653.95844427115, -255653.95844427115, -255653.95844427115, -255653.95844427115, -255653.95844427115, -255653.95844427115, -255653.95844427115, -255653.95844427115, -255653.95844427115, -255653.95844427115, -255653.95844427115, -255653.95844427115, -255653.95844427115, -255653.95844427115, -255653.95844427115, -255653.95844427115, -255653.95844427115, -255653.95844427115, -255653.95844427115]\n",
      "2557077.9591153683\n",
      "2547538.8802090087\n"
     ]
    }
   ],
   "source": [
    "###### Setting to load nball embeddings\n",
    "nball_small_path = '../data/sample_mammal/nball.txt'\n",
    "\n",
    "def load_ball_embeddings(bFile):\n",
    "    Ball = namedtuple('Ball', ['center', 'distance', 'radius'])\n",
    "    print(\"loading balls....\")\n",
    "    bdic = dict()\n",
    "    with open(bFile, 'r') as w2v:\n",
    "        for line in w2v.readlines():\n",
    "            wlst = line.strip().split()\n",
    "            center = list(map(float, wlst[1:-2]))\n",
    "            distance = float(wlst[-2])\n",
    "            radius = float(wlst[-1])\n",
    "            # Calculate the real center coordinates\n",
    "            real_center = [distance * coord for coord in center]\n",
    "            # Store the information in the dictionary using the named tuple\n",
    "            bdic[wlst[0]] = Ball(center=real_center, distance=distance, radius=radius)\n",
    "    print(len(bdic), 'balls are loaded\\n')\n",
    "    return bdic\n",
    "\n",
    "\n",
    "# Load ball embeddings\n",
    "nball = load_ball_embeddings(nball_small_path)\n",
    "\n",
    "# Check the length of the nball embeddings\n",
    "nball_len =[]\n",
    "for i, (key, value) in enumerate(nball.items()):\n",
    "    value_len = len(nball[key].center)\n",
    "    if value_len not in nball_len:\n",
    "        nball_len.append(value_len)\n",
    "print(f'The length of nball embeddings: {nball_len}')\n",
    "\n",
    "print(nball['mammal.n.01'].center)\n",
    "print(nball['mammal.n.01'].distance)\n",
    "print(nball['mammal.n.01'].radius)"
   ]
  },
  {
   "cell_type": "code",
   "execution_count": 13,
   "id": "c6b7cba4-6097-4bbe-abea-29716c26c625",
   "metadata": {},
   "outputs": [
    {
     "name": "stdout",
     "output_type": "stream",
     "text": [
      "Original length of the training set:226036\n",
      "Actual data used of the training set:352\n",
      "Actual data used after copy:352\n"
     ]
    },
    {
     "data": {
      "text/html": [
       "<div>\n",
       "<style scoped>\n",
       "    .dataframe tbody tr th:only-of-type {\n",
       "        vertical-align: middle;\n",
       "    }\n",
       "\n",
       "    .dataframe tbody tr th {\n",
       "        vertical-align: top;\n",
       "    }\n",
       "\n",
       "    .dataframe thead th {\n",
       "        text-align: right;\n",
       "    }\n",
       "</style>\n",
       "<table border=\"1\" class=\"dataframe\">\n",
       "  <thead>\n",
       "    <tr style=\"text-align: right;\">\n",
       "      <th></th>\n",
       "      <th>lemma</th>\n",
       "      <th>word</th>\n",
       "      <th>sentence_text</th>\n",
       "      <th>formatted_sense_id</th>\n",
       "    </tr>\n",
       "  </thead>\n",
       "  <tbody>\n",
       "    <tr>\n",
       "      <th>3727</th>\n",
       "      <td>man</td>\n",
       "      <td>men</td>\n",
       "      <td>Whereas the eighteenth century had been a time...</td>\n",
       "      <td>homo.n.02</td>\n",
       "    </tr>\n",
       "    <tr>\n",
       "      <th>6098</th>\n",
       "      <td>horse</td>\n",
       "      <td>horse</td>\n",
       "      <td>One wrote : `` [ I am so hungry ] I could eat ...</td>\n",
       "      <td>horse.n.01</td>\n",
       "    </tr>\n",
       "    <tr>\n",
       "      <th>6151</th>\n",
       "      <td>wildcat</td>\n",
       "      <td>wildcat</td>\n",
       "      <td>She is well-educated and refined , all wildcat...</td>\n",
       "      <td>wildcat.n.03</td>\n",
       "    </tr>\n",
       "    <tr>\n",
       "      <th>7494</th>\n",
       "      <td>lion</td>\n",
       "      <td>Lions</td>\n",
       "      <td>To find out , we traveled throughout that part...</td>\n",
       "      <td>lion.n.01</td>\n",
       "    </tr>\n",
       "    <tr>\n",
       "      <th>7929</th>\n",
       "      <td>elephant</td>\n",
       "      <td>elephants</td>\n",
       "      <td>The Prince visited the hospital of Operation B...</td>\n",
       "      <td>elephant.n.01</td>\n",
       "    </tr>\n",
       "  </tbody>\n",
       "</table>\n",
       "</div>"
      ],
      "text/plain": [
       "         lemma       word                                      sentence_text  \\\n",
       "3727       man        men  Whereas the eighteenth century had been a time...   \n",
       "6098     horse      horse  One wrote : `` [ I am so hungry ] I could eat ...   \n",
       "6151   wildcat    wildcat  She is well-educated and refined , all wildcat...   \n",
       "7494      lion      Lions  To find out , we traveled throughout that part...   \n",
       "7929  elephant  elephants  The Prince visited the hospital of Operation B...   \n",
       "\n",
       "     formatted_sense_id  \n",
       "3727          homo.n.02  \n",
       "6098         horse.n.01  \n",
       "6151       wildcat.n.03  \n",
       "7494          lion.n.01  \n",
       "7929      elephant.n.01  "
      ]
     },
     "metadata": {},
     "output_type": "display_data"
    }
   ],
   "source": [
    "# For now, we train on exist nball\n",
    "\n",
    "print(f'Original length of the training set:{len(semcor_training_merged)}')\n",
    "semcor_training_origian = semcor_training_merged[semcor_training_merged['formatted_sense_id'].isin(nball.keys())].copy()\n",
    "print(f'Actual data used of the training set:{len(semcor_training_origian)}')\n",
    "\n",
    "semcor_training = semcor_training_origian\n",
    "# semcor_training = pd.concat([semcor_training_origian] * 10, ignore_index=True)\n",
    "print(f'Actual data used after copy:{len(semcor_training)}')\n",
    "display(semcor_training.head())"
   ]
  },
  {
   "cell_type": "code",
   "execution_count": 14,
   "id": "b2c116e0-768f-4138-8629-1ba60411088e",
   "metadata": {},
   "outputs": [],
   "source": [
    "# Setting for the model choice\n",
    "models = {\n",
    "    \"BERT-Base\": \"bert-base-uncased\", #768, 12L, 12A\n",
    "    \"BERT-Large\": \"bert-large-uncased\", #1024, 24L, 16A\n",
    "    \"BERT-Medium\": \"google/bert_uncased_L-8_H-512_A-8\", #512, 8L, 8A\n",
    "    \"BERT-Small\": \"google/bert_uncased_L-4_H-256_A-4\", #256, 4L, 4A\n",
    "    \"BERT-Mini\": \"google/bert_uncased_L-4_H-128_A-2\",#128, 4L, 2A\n",
    "    \"BERT-Tiny\": \"google/bert_uncased_L-2_H-128_A-2\"#128, 2L, 2A\n",
    "}\n",
    "\n",
    "# With our nball dimention 162, we choose bert small with 256 dimentions\n",
    "model_name = models[\"BERT-Small\"]\n",
    "target_dim = 256  # Dimension of BERT-Small"
   ]
  },
  {
   "cell_type": "code",
   "execution_count": 15,
   "id": "7ec8c3e8-5b20-46a1-9a14-81617bc2b554",
   "metadata": {},
   "outputs": [
    {
     "name": "stdout",
     "output_type": "stream",
     "text": [
      "Total data of nball embeddings:388\n",
      "The length after padding: 160\n"
     ]
    }
   ],
   "source": [
    "# Get sense index\n",
    "sense_labels = list(nball.keys())\n",
    "sense_index = {sense: idx for idx, sense in enumerate(sense_labels)}\n",
    "semcor_training.loc[:,'sense_idx'] = semcor_training['formatted_sense_id'].map(sense_index)\n",
    "\n",
    "original_dim = len(nball[sense_labels[0]].center)\n",
    "padding_size = target_dim - original_dim  # Adjust padding size based on the new dimension\n",
    "\n",
    "# Process each embedding\n",
    "padded_embeddings = []\n",
    "nball_radius = []\n",
    "scalling_factor = 1\n",
    "for label in sense_labels:\n",
    "    # # Pad the trimmed embedding to match the target dimension\n",
    "    # padded_embedding = np.pad(nball[label].center, (0, padding_size), 'constant', constant_values=0)\n",
    "    # # Add to the list of padded embeddings\n",
    "    # padded_embeddings.append(scalling_factor*padded_embedding)\n",
    "    padded_embeddings.append(nball[label].center)\n",
    "    nball_radius.append(nball[label].radius)\n",
    "\n",
    "sense_embeddings = torch.tensor(np.array(padded_embeddings), dtype=torch.float64)\n",
    "nball_radius = torch.tensor(np.array(nball_radius), dtype=torch.float64)\n",
    "\n",
    "print(f'Total data of nball embeddings:{len(sense_embeddings)}')\n",
    "print(f'The length after padding: {len(sense_embeddings[0])}')"
   ]
  },
  {
   "cell_type": "code",
   "execution_count": 12,
   "id": "9e7c9166-9899-4ba4-a769-3095379ec4da",
   "metadata": {},
   "outputs": [
    {
     "name": "stdout",
     "output_type": "stream",
     "text": [
      "Tokenizing sentences...\n",
      "Calculating word indices...\n",
      "Tokenizing finished!\n"
     ]
    },
    {
     "data": {
      "text/html": [
       "<div>\n",
       "<style scoped>\n",
       "    .dataframe tbody tr th:only-of-type {\n",
       "        vertical-align: middle;\n",
       "    }\n",
       "\n",
       "    .dataframe tbody tr th {\n",
       "        vertical-align: top;\n",
       "    }\n",
       "\n",
       "    .dataframe thead th {\n",
       "        text-align: right;\n",
       "    }\n",
       "</style>\n",
       "<table border=\"1\" class=\"dataframe\">\n",
       "  <thead>\n",
       "    <tr style=\"text-align: right;\">\n",
       "      <th></th>\n",
       "      <th>lemma</th>\n",
       "      <th>word</th>\n",
       "      <th>sentence_text</th>\n",
       "      <th>formatted_sense_id</th>\n",
       "      <th>sense_idx</th>\n",
       "      <th>input_ids</th>\n",
       "      <th>attention_mask</th>\n",
       "      <th>word_index</th>\n",
       "    </tr>\n",
       "  </thead>\n",
       "  <tbody>\n",
       "    <tr>\n",
       "      <th>3727</th>\n",
       "      <td>man</td>\n",
       "      <td>men</td>\n",
       "      <td>Whereas the eighteenth century had been a time...</td>\n",
       "      <td>homo.n.02</td>\n",
       "      <td>132</td>\n",
       "      <td>[101, 6168, 1996, 12965, 2301, 2018, 2042, 103...</td>\n",
       "      <td>[1, 1, 1, 1, 1, 1, 1, 1, 1, 1, 1, 1, 1, 1, 1, ...</td>\n",
       "      <td>24</td>\n",
       "    </tr>\n",
       "    <tr>\n",
       "      <th>6098</th>\n",
       "      <td>horse</td>\n",
       "      <td>horse</td>\n",
       "      <td>One wrote : `` [ I am so hungry ] I could eat ...</td>\n",
       "      <td>horse.n.01</td>\n",
       "      <td>261</td>\n",
       "      <td>[101, 2028, 2626, 1024, 1036, 1036, 1031, 1045...</td>\n",
       "      <td>[1, 1, 1, 1, 1, 1, 1, 1, 1, 1, 1, 1, 1, 1, 1, ...</td>\n",
       "      <td>19</td>\n",
       "    </tr>\n",
       "    <tr>\n",
       "      <th>6151</th>\n",
       "      <td>wildcat</td>\n",
       "      <td>wildcat</td>\n",
       "      <td>She is well-educated and refined , all wildcat...</td>\n",
       "      <td>wildcat.n.03</td>\n",
       "      <td>54</td>\n",
       "      <td>[101, 2016, 2003, 2092, 1011, 5161, 1998, 1551...</td>\n",
       "      <td>[1, 1, 1, 1, 1, 1, 1, 1, 1, 1, 1, 1, 1, 1, 1, ...</td>\n",
       "      <td>10</td>\n",
       "    </tr>\n",
       "    <tr>\n",
       "      <th>7494</th>\n",
       "      <td>lion</td>\n",
       "      <td>Lions</td>\n",
       "      <td>To find out , we traveled throughout that part...</td>\n",
       "      <td>lion.n.01</td>\n",
       "      <td>62</td>\n",
       "      <td>[101, 2000, 2424, 2041, 1010, 2057, 6158, 2802...</td>\n",
       "      <td>[1, 1, 1, 1, 1, 1, 1, 1, 1, 1, 1, 1, 1, 1, 1, ...</td>\n",
       "      <td>50</td>\n",
       "    </tr>\n",
       "    <tr>\n",
       "      <th>7929</th>\n",
       "      <td>elephant</td>\n",
       "      <td>elephants</td>\n",
       "      <td>The Prince visited the hospital of Operation B...</td>\n",
       "      <td>elephant.n.01</td>\n",
       "      <td>104</td>\n",
       "      <td>[101, 1996, 3159, 4716, 1996, 2902, 1997, 3169...</td>\n",
       "      <td>[1, 1, 1, 1, 1, 1, 1, 1, 1, 1, 1, 1, 1, 1, 1, ...</td>\n",
       "      <td>27</td>\n",
       "    </tr>\n",
       "  </tbody>\n",
       "</table>\n",
       "</div>"
      ],
      "text/plain": [
       "         lemma       word                                      sentence_text  \\\n",
       "3727       man        men  Whereas the eighteenth century had been a time...   \n",
       "6098     horse      horse  One wrote : `` [ I am so hungry ] I could eat ...   \n",
       "6151   wildcat    wildcat  She is well-educated and refined , all wildcat...   \n",
       "7494      lion      Lions  To find out , we traveled throughout that part...   \n",
       "7929  elephant  elephants  The Prince visited the hospital of Operation B...   \n",
       "\n",
       "     formatted_sense_id  sense_idx  \\\n",
       "3727          homo.n.02        132   \n",
       "6098         horse.n.01        261   \n",
       "6151       wildcat.n.03         54   \n",
       "7494          lion.n.01         62   \n",
       "7929      elephant.n.01        104   \n",
       "\n",
       "                                              input_ids  \\\n",
       "3727  [101, 6168, 1996, 12965, 2301, 2018, 2042, 103...   \n",
       "6098  [101, 2028, 2626, 1024, 1036, 1036, 1031, 1045...   \n",
       "6151  [101, 2016, 2003, 2092, 1011, 5161, 1998, 1551...   \n",
       "7494  [101, 2000, 2424, 2041, 1010, 2057, 6158, 2802...   \n",
       "7929  [101, 1996, 3159, 4716, 1996, 2902, 1997, 3169...   \n",
       "\n",
       "                                         attention_mask  word_index  \n",
       "3727  [1, 1, 1, 1, 1, 1, 1, 1, 1, 1, 1, 1, 1, 1, 1, ...          24  \n",
       "6098  [1, 1, 1, 1, 1, 1, 1, 1, 1, 1, 1, 1, 1, 1, 1, ...          19  \n",
       "6151  [1, 1, 1, 1, 1, 1, 1, 1, 1, 1, 1, 1, 1, 1, 1, ...          10  \n",
       "7494  [1, 1, 1, 1, 1, 1, 1, 1, 1, 1, 1, 1, 1, 1, 1, ...          50  \n",
       "7929  [1, 1, 1, 1, 1, 1, 1, 1, 1, 1, 1, 1, 1, 1, 1, ...          27  "
      ]
     },
     "metadata": {},
     "output_type": "display_data"
    }
   ],
   "source": [
    "# Tokenize the sentence\n",
    "# Initialize BERT tokenizer\n",
    "tokenizer = BertTokenizer.from_pretrained(model_name)\n",
    "\n",
    "# Could be problem here, as we always fid\n",
    "def find_word_index(sentence_ids, word):\n",
    "    word_tokens = tokenizer.tokenize(word)\n",
    "    word_ids = tokenizer.convert_tokens_to_ids(word_tokens)\n",
    "    for i in range(len(sentence_ids) - len(word_tokens) + 1):\n",
    "        if sentence_ids[i:i+len(word_tokens)].tolist() == word_ids:\n",
    "            return i\n",
    "    return -1\n",
    "\n",
    "def tokenize_data(df):\n",
    "    # Tokenize all sentences\n",
    "    print(\"Tokenizing sentences...\")\n",
    "    tokenized_data = tokenizer(list(df['sentence_text']), padding=True, truncation=True, return_tensors=\"pt\", max_length=512)\n",
    "    input_ids = tokenized_data['input_ids']\n",
    "    attention_masks = tokenized_data['attention_mask']\n",
    "\n",
    "    # Progress bar for calculating word indices\n",
    "    print(\"Calculating word indices...\")\n",
    "    # pbar = tqdm(total=df.shape[0], desc=\"Calculating word indices\")\n",
    "    word_indices = []\n",
    "    for sentence_ids, word in zip(input_ids, df['word']):\n",
    "        word_indices.append(find_word_index(sentence_ids, word))\n",
    "        # pbar.update(1)  # Update progress for each word index found\n",
    "\n",
    "    # print(f\"Length input_ids:{len(input_ids)}\\n Length attention_mask:{len(attention_masks)}\\n Length \\\n",
    "    # word_index:{len(word_indices)}\\n Length dataframe:{len(df)}\")\n",
    "    df.loc[:, 'input_ids'] = input_ids.tolist()\n",
    "    df.loc[:, 'attention_mask'] = attention_masks.tolist()\n",
    "    df.loc[:, 'word_index'] = word_indices\n",
    "\n",
    "    print('Tokenizing finished!')\n",
    "    # pbar.close()  # Close the progress bar after completion\n",
    "\n",
    "\n",
    "tokenize_data(semcor_training)\n",
    "display(semcor_training.head())"
   ]
  },
  {
   "cell_type": "code",
   "execution_count": null,
   "id": "767bf974-76da-40ed-b874-b1c7a0ebd7e8",
   "metadata": {},
   "outputs": [],
   "source": []
  },
  {
   "cell_type": "code",
   "execution_count": 13,
   "id": "70069a75-1b09-4311-b2e2-92b8862988c3",
   "metadata": {},
   "outputs": [],
   "source": [
    "# Setting, small batch size here so that do not out of cuda memory\n",
    "batch_size = 32\n",
    "\n",
    "# Create tensor dataset to speed learning\n",
    "# Convert lists of lists into tensors\n",
    "all_input_ids = torch.stack([torch.tensor(ids, dtype=torch.long) for ids in semcor_training['input_ids']])\n",
    "all_attention_masks = torch.stack([torch.tensor(mask, dtype=torch.long) for mask in semcor_training['attention_mask']])\n",
    "all_word_indices = torch.tensor(semcor_training['word_index'].tolist(), dtype=torch.long)\n",
    "all_senses = torch.tensor(semcor_training['sense_idx'].tolist(), dtype=torch.long)\n",
    "\n",
    "# Create a TensorDataset\n",
    "dataset = TensorDataset(all_input_ids, all_attention_masks, all_word_indices, all_senses)\n",
    "\n",
    "# Use DataLoader to handle batching\n",
    "dataloader = DataLoader(dataset, batch_size, shuffle=True)"
   ]
  },
  {
   "cell_type": "code",
   "execution_count": 18,
   "id": "960b9408-60c9-45eb-a5a6-50c403f27218",
   "metadata": {},
   "outputs": [
    {
     "name": "stdout",
     "output_type": "stream",
     "text": [
      "Using device: cuda\n"
     ]
    },
    {
     "name": "stderr",
     "output_type": "stream",
     "text": [
      "Epoch 1/200: 100%|██████████████████████████████████████████████████████| 11/11 [00:01<00:00, 10.64it/s, loss=4.88e+11]\n"
     ]
    },
    {
     "name": "stdout",
     "output_type": "stream",
     "text": [
      "Epoch 1, Loss: 744610272905.0912, improve:-744610272905.0912\n",
      "distance:24525259.09090909, radius:6705831.376555665, differences:17819427.714353427\n"
     ]
    },
    {
     "name": "stderr",
     "output_type": "stream",
     "text": [
      "Epoch 2/200: 100%|██████████████████████████████████████████████████████| 11/11 [00:00<00:00, 14.96it/s, loss=9.03e+11]\n"
     ]
    },
    {
     "name": "stdout",
     "output_type": "stream",
     "text": [
      "Epoch 2, Loss: 733067612255.8965, improve:11542660649.19469\n",
      "distance:24229425.90909091, radius:6705831.376555665, differences:17523594.532535244\n"
     ]
    },
    {
     "name": "stderr",
     "output_type": "stream",
     "text": [
      "Epoch 3/200: 100%|██████████████████████████████████████████████████████| 11/11 [00:00<00:00, 14.90it/s, loss=3.98e+11]\n"
     ]
    },
    {
     "name": "stdout",
     "output_type": "stream",
     "text": [
      "Epoch 3, Loss: 706881247360.6366, improve:26186364895.259945\n",
      "distance:23668055.0, radius:6705831.376555665, differences:16962223.623444334\n"
     ]
    },
    {
     "name": "stderr",
     "output_type": "stream",
     "text": [
      "Epoch 4/200: 100%|██████████████████████████████████████████████████████| 11/11 [00:00<00:00, 14.98it/s, loss=7.23e+11]\n"
     ]
    },
    {
     "name": "stdout",
     "output_type": "stream",
     "text": [
      "Epoch 4, Loss: 662884273974.8783, improve:43996973385.758255\n",
      "distance:23064164.727272727, radius:6705831.376555665, differences:16358333.350717062\n"
     ]
    },
    {
     "name": "stderr",
     "output_type": "stream",
     "text": [
      "Epoch 5/200: 100%|██████████████████████████████████████████████████████| 11/11 [00:00<00:00, 14.97it/s, loss=4.69e+11]\n"
     ]
    },
    {
     "name": "stdout",
     "output_type": "stream",
     "text": [
      "Epoch 5, Loss: 603095738317.2357, improve:59788535657.64258\n",
      "distance:22232358.545454547, radius:6705831.376555665, differences:15526527.16889888\n"
     ]
    },
    {
     "name": "stderr",
     "output_type": "stream",
     "text": [
      "Epoch 6/200: 100%|███████████████████████████████████████████████████████| 11/11 [00:00<00:00, 12.93it/s, loss=3.6e+11]\n"
     ]
    },
    {
     "name": "stdout",
     "output_type": "stream",
     "text": [
      "Epoch 6, Loss: 537002811336.27185, improve:66092926980.96387\n",
      "distance:21519656.363636363, radius:6705831.376555665, differences:14813824.987080699\n"
     ]
    },
    {
     "name": "stderr",
     "output_type": "stream",
     "text": [
      "Epoch 7/200: 100%|██████████████████████████████████████████████████████| 11/11 [00:00<00:00, 14.96it/s, loss=2.05e+11]\n"
     ]
    },
    {
     "name": "stdout",
     "output_type": "stream",
     "text": [
      "Epoch 7, Loss: 477969507668.82135, improve:59033303667.45046\n",
      "distance:20834188.636363637, radius:6705831.376555666, differences:14128357.259807972\n"
     ]
    },
    {
     "name": "stderr",
     "output_type": "stream",
     "text": [
      "Epoch 8/200: 100%|██████████████████████████████████████████████████████| 11/11 [00:00<00:00, 15.03it/s, loss=4.35e+11]\n"
     ]
    },
    {
     "name": "stdout",
     "output_type": "stream",
     "text": [
      "Epoch 8, Loss: 438375263657.2201, improve:39594244011.601295\n",
      "distance:20428360.90909091, radius:6705831.376555665, differences:13722529.532535244\n"
     ]
    },
    {
     "name": "stderr",
     "output_type": "stream",
     "text": [
      "Epoch 9/200: 100%|██████████████████████████████████████████████████████| 11/11 [00:00<00:00, 14.64it/s, loss=4.49e+11]\n"
     ]
    },
    {
     "name": "stdout",
     "output_type": "stream",
     "text": [
      "Epoch 9, Loss: 416454800118.09644, improve:21920463539.12367\n",
      "distance:20240707.90909091, radius:6705831.376555666, differences:13534876.532535244\n"
     ]
    },
    {
     "name": "stderr",
     "output_type": "stream",
     "text": [
      "Epoch 10/200: 100%|█████████████████████████████████████████████████████| 11/11 [00:00<00:00, 14.03it/s, loss=5.57e+11]\n"
     ]
    },
    {
     "name": "stdout",
     "output_type": "stream",
     "text": [
      "Epoch 10, Loss: 411040665414.8734, improve:5414134703.223011\n",
      "distance:20452451.272727273, radius:6705831.376555665, differences:13746619.896171607\n"
     ]
    },
    {
     "name": "stderr",
     "output_type": "stream",
     "text": [
      "Epoch 11/200: 100%|█████████████████████████████████████████████████████| 11/11 [00:00<00:00, 13.77it/s, loss=3.42e+11]\n"
     ]
    },
    {
     "name": "stdout",
     "output_type": "stream",
     "text": [
      "Epoch 11, Loss: 410298058092.2629, improve:742607322.6105291\n",
      "distance:20917798.363636363, radius:6705831.376555665, differences:14211966.987080699\n"
     ]
    },
    {
     "name": "stderr",
     "output_type": "stream",
     "text": [
      "Epoch 12/200: 100%|█████████████████████████████████████████████████████| 11/11 [00:00<00:00, 13.57it/s, loss=3.44e+11]\n"
     ]
    },
    {
     "name": "stdout",
     "output_type": "stream",
     "text": [
      "Epoch 12, Loss: 410498420797.64966, improve:-200362705.38680753\n",
      "distance:20858987.727272727, radius:6705831.376555665, differences:14153156.350717062\n"
     ]
    },
    {
     "name": "stderr",
     "output_type": "stream",
     "text": [
      "Epoch 13/200: 100%|█████████████████████████████████████████████████████| 11/11 [00:00<00:00, 14.99it/s, loss=3.19e+11]\n"
     ]
    },
    {
     "name": "stdout",
     "output_type": "stream",
     "text": [
      "Epoch 13, Loss: 410767758862.67426, improve:-269338065.0245916\n",
      "distance:20983618.181818184, radius:6705831.376555665, differences:14277786.805262517\n"
     ]
    },
    {
     "name": "stderr",
     "output_type": "stream",
     "text": [
      "Epoch 14/200: 100%|█████████████████████████████████████████████████████| 11/11 [00:00<00:00, 14.98it/s, loss=3.94e+11]\n"
     ]
    },
    {
     "name": "stdout",
     "output_type": "stream",
     "text": [
      "Epoch 14, Loss: 410776483909.73315, improve:-8725047.058860086\n",
      "distance:20880732.545454547, radius:6705831.3765556635, differences:14174901.16889888\n"
     ]
    },
    {
     "name": "stderr",
     "output_type": "stream",
     "text": [
      "Epoch 15/200: 100%|██████████████████████████████████████████████████████| 11/11 [00:00<00:00, 13.60it/s, loss=2.8e+11]\n"
     ]
    },
    {
     "name": "stdout",
     "output_type": "stream",
     "text": [
      "Epoch 15, Loss: 410420477861.85974, improve:356006047.873402\n",
      "distance:20831980.181818184, radius:6705831.376555665, differences:14126148.805262517\n"
     ]
    },
    {
     "name": "stderr",
     "output_type": "stream",
     "text": [
      "Epoch 16/200: 100%|█████████████████████████████████████████████████████| 11/11 [00:00<00:00, 13.98it/s, loss=6.77e+11]\n"
     ]
    },
    {
     "name": "stdout",
     "output_type": "stream",
     "text": [
      "Epoch 16, Loss: 413522881463.8227, improve:-3102403601.9629793\n",
      "distance:20566844.727272727, radius:6705831.376555665, differences:13861013.350717062\n"
     ]
    },
    {
     "name": "stderr",
     "output_type": "stream",
     "text": [
      "Epoch 17/200: 100%|█████████████████████████████████████████████████████| 11/11 [00:00<00:00, 14.73it/s, loss=5.03e+11]\n"
     ]
    },
    {
     "name": "stdout",
     "output_type": "stream",
     "text": [
      "Epoch 17, Loss: 410533375004.9162, improve:2989506458.9065166\n",
      "distance:20690436.181818184, radius:6705831.376555665, differences:13984604.805262517\n"
     ]
    },
    {
     "name": "stderr",
     "output_type": "stream",
     "text": [
      "Epoch 18/200: 100%|█████████████████████████████████████████████████████| 11/11 [00:00<00:00, 13.73it/s, loss=3.61e+11]\n"
     ]
    },
    {
     "name": "stdout",
     "output_type": "stream",
     "text": [
      "Epoch 18, Loss: 410271545865.8173, improve:261829139.09889916\n",
      "distance:20949347.272727273, radius:6705831.376555665, differences:14243515.896171607\n"
     ]
    },
    {
     "name": "stderr",
     "output_type": "stream",
     "text": [
      "Epoch 19/200: 100%|█████████████████████████████████████████████████████| 11/11 [00:00<00:00, 14.97it/s, loss=4.72e+11]\n"
     ]
    },
    {
     "name": "stdout",
     "output_type": "stream",
     "text": [
      "Epoch 19, Loss: 409839798045.92224, improve:431747819.89506394\n",
      "distance:20906793.818181816, radius:6705831.376555665, differences:14200962.441626154\n"
     ]
    },
    {
     "name": "stderr",
     "output_type": "stream",
     "text": [
      "Epoch 20/200: 100%|█████████████████████████████████████████████████████| 11/11 [00:00<00:00, 13.84it/s, loss=3.94e+11]\n"
     ]
    },
    {
     "name": "stdout",
     "output_type": "stream",
     "text": [
      "Epoch 20, Loss: 410512451236.14825, improve:-672653190.2260299\n",
      "distance:20734184.727272727, radius:6705831.376555666, differences:14028353.350717062\n"
     ]
    },
    {
     "name": "stderr",
     "output_type": "stream",
     "text": [
      "Epoch 21/200: 100%|█████████████████████████████████████████████████████| 11/11 [00:00<00:00, 13.81it/s, loss=3.89e+11]\n"
     ]
    },
    {
     "name": "stdout",
     "output_type": "stream",
     "text": [
      "Epoch 21, Loss: 410280524635.58344, improve:231926600.56480825\n",
      "distance:20820928.181818184, radius:6705831.376555665, differences:14115096.805262517\n"
     ]
    },
    {
     "name": "stderr",
     "output_type": "stream",
     "text": [
      "Epoch 22/200: 100%|█████████████████████████████████████████████████████| 11/11 [00:00<00:00, 13.66it/s, loss=4.33e+11]\n"
     ]
    },
    {
     "name": "stdout",
     "output_type": "stream",
     "text": [
      "Epoch 22, Loss: 410142865138.66656, improve:137659496.9169034\n",
      "distance:20742839.727272727, radius:6705831.376555665, differences:14037008.350717062\n"
     ]
    },
    {
     "name": "stderr",
     "output_type": "stream",
     "text": [
      "Epoch 23/200: 100%|█████████████████████████████████████████████████████| 11/11 [00:00<00:00, 13.91it/s, loss=4.38e+11]\n"
     ]
    },
    {
     "name": "stdout",
     "output_type": "stream",
     "text": [
      "Epoch 23, Loss: 410441105381.1232, improve:-298240242.4566761\n",
      "distance:20850622.0, radius:6705831.376555665, differences:14144790.623444336\n"
     ]
    },
    {
     "name": "stderr",
     "output_type": "stream",
     "text": [
      "Epoch 24/200: 100%|█████████████████████████████████████████████████████| 11/11 [00:00<00:00, 13.29it/s, loss=4.31e+11]\n"
     ]
    },
    {
     "name": "stdout",
     "output_type": "stream",
     "text": [
      "Epoch 24, Loss: 410368002390.60095, improve:73102990.52228338\n",
      "distance:20904704.0, radius:6705831.376555665, differences:14198872.623444336\n"
     ]
    },
    {
     "name": "stderr",
     "output_type": "stream",
     "text": [
      "Epoch 25/200: 100%|█████████████████████████████████████████████████████| 11/11 [00:00<00:00, 14.90it/s, loss=5.42e+11]\n"
     ]
    },
    {
     "name": "stdout",
     "output_type": "stream",
     "text": [
      "Epoch 25, Loss: 410728387878.92584, improve:-360385488.324929\n",
      "distance:20986837.636363637, radius:6705831.376555666, differences:14281006.259807972\n"
     ]
    },
    {
     "name": "stderr",
     "output_type": "stream",
     "text": [
      "Epoch 26/200: 100%|█████████████████████████████████████████████████████| 11/11 [00:00<00:00, 15.32it/s, loss=4.06e+11]\n"
     ]
    },
    {
     "name": "stdout",
     "output_type": "stream",
     "text": [
      "Epoch 26, Loss: 409759635518.7877, improve:968752360.1381392\n",
      "distance:20834746.636363637, radius:6705831.376555665, differences:14128915.259807972\n"
     ]
    },
    {
     "name": "stderr",
     "output_type": "stream",
     "text": [
      "Epoch 27/200: 100%|██████████████████████████████████████████████████████| 11/11 [00:00<00:00, 15.41it/s, loss=3.9e+11]\n"
     ]
    },
    {
     "name": "stdout",
     "output_type": "stream",
     "text": [
      "Epoch 27, Loss: 410217640535.2263, improve:-458005016.4385653\n",
      "distance:20773768.545454547, radius:6705831.376555665, differences:14067937.16889888\n"
     ]
    },
    {
     "name": "stderr",
     "output_type": "stream",
     "text": [
      "Epoch 28/200: 100%|█████████████████████████████████████████████████████| 11/11 [00:00<00:00, 15.18it/s, loss=3.72e+11]\n"
     ]
    },
    {
     "name": "stdout",
     "output_type": "stream",
     "text": [
      "Epoch 28, Loss: 410382467994.7263, improve:-164827459.5\n",
      "distance:20760661.727272727, radius:6705831.376555666, differences:14054830.350717062\n"
     ]
    },
    {
     "name": "stderr",
     "output_type": "stream",
     "text": [
      "Epoch 29/200: 100%|█████████████████████████████████████████████████████| 11/11 [00:00<00:00, 13.58it/s, loss=3.94e+11]\n"
     ]
    },
    {
     "name": "stdout",
     "output_type": "stream",
     "text": [
      "Epoch 29, Loss: 410845103831.19946, improve:-462635836.47318894\n",
      "distance:20889586.363636363, radius:6705831.376555665, differences:14183754.987080699\n"
     ]
    },
    {
     "name": "stderr",
     "output_type": "stream",
     "text": [
      "Epoch 30/200: 100%|█████████████████████████████████████████████████████| 11/11 [00:00<00:00, 13.03it/s, loss=5.28e+11]\n"
     ]
    },
    {
     "name": "stdout",
     "output_type": "stream",
     "text": [
      "Epoch 30, Loss: 410611444261.5518, improve:233659569.6476385\n",
      "distance:21021230.09090909, radius:6705831.376555665, differences:14315398.714353425\n"
     ]
    },
    {
     "name": "stderr",
     "output_type": "stream",
     "text": [
      "Epoch 31/200: 100%|█████████████████████████████████████████████████████| 11/11 [00:00<00:00, 13.47it/s, loss=7.31e+11]\n"
     ]
    },
    {
     "name": "stdout",
     "output_type": "stream",
     "text": [
      "Epoch 31, Loss: 412539706982.4068, improve:-1928262720.8549361\n",
      "distance:20732270.363636363, radius:6705831.376555666, differences:14026438.987080699\n"
     ]
    },
    {
     "name": "stderr",
     "output_type": "stream",
     "text": [
      "Epoch 32/200: 100%|█████████████████████████████████████████████████████| 11/11 [00:00<00:00, 14.00it/s, loss=4.25e+11]\n"
     ]
    },
    {
     "name": "stdout",
     "output_type": "stream",
     "text": [
      "Epoch 32, Loss: 410253632628.25024, improve:2286074354.1565166\n",
      "distance:20560585.545454547, radius:6705831.376555665, differences:13854754.16889888\n"
     ]
    },
    {
     "name": "stderr",
     "output_type": "stream",
     "text": [
      "Epoch 33/200: 100%|█████████████████████████████████████████████████████| 11/11 [00:00<00:00, 13.55it/s, loss=4.91e+11]\n"
     ]
    },
    {
     "name": "stdout",
     "output_type": "stream",
     "text": [
      "Epoch 33, Loss: 410634445413.10504, improve:-380812784.8547585\n",
      "distance:20900473.454545453, radius:6705831.376555665, differences:14194642.077989789\n"
     ]
    },
    {
     "name": "stderr",
     "output_type": "stream",
     "text": [
      "Epoch 34/200: 100%|█████████████████████████████████████████████████████| 11/11 [00:00<00:00, 14.66it/s, loss=4.14e+11]\n"
     ]
    },
    {
     "name": "stdout",
     "output_type": "stream",
     "text": [
      "Epoch 34, Loss: 410361836467.08295, improve:272608946.0221058\n",
      "distance:20970225.272727273, radius:6705831.376555665, differences:14264393.896171607\n"
     ]
    },
    {
     "name": "stderr",
     "output_type": "stream",
     "text": [
      "Epoch 35/200: 100%|█████████████████████████████████████████████████████| 11/11 [00:00<00:00, 13.90it/s, loss=3.27e+11]\n"
     ]
    },
    {
     "name": "stdout",
     "output_type": "stream",
     "text": [
      "Epoch 35, Loss: 410180940059.0572, improve:180896408.02574575\n",
      "distance:21010715.363636363, radius:6705831.376555665, differences:14304883.987080699\n"
     ]
    },
    {
     "name": "stderr",
     "output_type": "stream",
     "text": [
      "Epoch 36/200: 100%|█████████████████████████████████████████████████████| 11/11 [00:00<00:00, 15.09it/s, loss=5.03e+11]\n"
     ]
    },
    {
     "name": "stdout",
     "output_type": "stream",
     "text": [
      "Epoch 36, Loss: 409931081348.6697, improve:249858710.38751775\n",
      "distance:20890069.09090909, radius:6705831.376555665, differences:14184237.714353425\n"
     ]
    },
    {
     "name": "stderr",
     "output_type": "stream",
     "text": [
      "Epoch 37/200: 100%|█████████████████████████████████████████████████████| 11/11 [00:00<00:00, 14.98it/s, loss=3.85e+11]\n"
     ]
    },
    {
     "name": "stdout",
     "output_type": "stream",
     "text": [
      "Epoch 37, Loss: 410135988584.3061, improve:-204907235.6364524\n",
      "distance:20751679.818181816, radius:6705831.376555665, differences:14045848.441626154\n"
     ]
    },
    {
     "name": "stderr",
     "output_type": "stream",
     "text": [
      "Epoch 38/200: 100%|█████████████████████████████████████████████████████| 11/11 [00:00<00:00, 13.80it/s, loss=3.34e+11]\n"
     ]
    },
    {
     "name": "stdout",
     "output_type": "stream",
     "text": [
      "Epoch 38, Loss: 410391237281.33105, improve:-255248697.02494672\n",
      "distance:20725639.272727273, radius:6705831.376555665, differences:14019807.896171607\n"
     ]
    },
    {
     "name": "stderr",
     "output_type": "stream",
     "text": [
      "Epoch 39/200: 100%|█████████████████████████████████████████████████████| 11/11 [00:00<00:00, 13.12it/s, loss=2.83e+11]\n"
     ]
    },
    {
     "name": "stdout",
     "output_type": "stream",
     "text": [
      "Epoch 39, Loss: 411404736877.503, improve:-1013499596.1719638\n",
      "distance:20904332.454545453, radius:6705831.376555665, differences:14198501.077989789\n"
     ]
    },
    {
     "name": "stderr",
     "output_type": "stream",
     "text": [
      "Epoch 40/200: 100%|██████████████████████████████████████████████████████| 11/11 [00:00<00:00, 14.96it/s, loss=4.2e+11]\n"
     ]
    },
    {
     "name": "stdout",
     "output_type": "stream",
     "text": [
      "Epoch 40, Loss: 410367541084.18286, improve:1037195793.320135\n",
      "distance:21017354.90909091, radius:6705831.376555665, differences:14311523.532535244\n"
     ]
    },
    {
     "name": "stderr",
     "output_type": "stream",
     "text": [
      "Epoch 41/200: 100%|█████████████████████████████████████████████████████| 11/11 [00:00<00:00, 13.97it/s, loss=4.81e+11]\n"
     ]
    },
    {
     "name": "stdout",
     "output_type": "stream",
     "text": [
      "Epoch 41, Loss: 410313421876.30963, improve:54119207.87322443\n",
      "distance:20767370.0, radius:6705831.376555665, differences:14061538.623444336\n"
     ]
    },
    {
     "name": "stderr",
     "output_type": "stream",
     "text": [
      "Epoch 42/200: 100%|█████████████████████████████████████████████████████| 11/11 [00:00<00:00, 12.94it/s, loss=3.73e+11]\n"
     ]
    },
    {
     "name": "stdout",
     "output_type": "stream",
     "text": [
      "Epoch 42, Loss: 410488223184.7556, improve:-174801308.44593394\n",
      "distance:20675572.90909091, radius:6705831.376555665, differences:13969741.532535244\n"
     ]
    },
    {
     "name": "stderr",
     "output_type": "stream",
     "text": [
      "Epoch 43/200: 100%|████████████████████████████████████████████████████████| 11/11 [00:00<00:00, 13.63it/s, loss=4e+11]\n"
     ]
    },
    {
     "name": "stdout",
     "output_type": "stream",
     "text": [
      "Epoch 43, Loss: 410209346773.5442, improve:278876411.2113814\n",
      "distance:20840013.818181816, radius:6705831.376555665, differences:14134182.441626154\n"
     ]
    },
    {
     "name": "stderr",
     "output_type": "stream",
     "text": [
      "Epoch 44/200: 100%|█████████████████████████████████████████████████████| 11/11 [00:00<00:00, 13.85it/s, loss=4.28e+11]\n"
     ]
    },
    {
     "name": "stdout",
     "output_type": "stream",
     "text": [
      "Epoch 44, Loss: 410343792926.9533, improve:-134446153.4090909\n",
      "distance:20828887.727272727, radius:6705831.376555665, differences:14123056.350717062\n"
     ]
    },
    {
     "name": "stderr",
     "output_type": "stream",
     "text": [
      "Epoch 45/200: 100%|█████████████████████████████████████████████████████| 11/11 [00:00<00:00, 13.86it/s, loss=4.25e+11]\n"
     ]
    },
    {
     "name": "stdout",
     "output_type": "stream",
     "text": [
      "Epoch 45, Loss: 410369374453.8342, improve:-25581526.880948152\n",
      "distance:20714861.09090909, radius:6705831.376555665, differences:14009029.714353425\n"
     ]
    },
    {
     "name": "stderr",
     "output_type": "stream",
     "text": [
      "Epoch 46/200: 100%|█████████████████████████████████████████████████████| 11/11 [00:00<00:00, 13.76it/s, loss=3.78e+11]\n"
     ]
    },
    {
     "name": "stdout",
     "output_type": "stream",
     "text": [
      "Epoch 46, Loss: 410270058913.7901, improve:99315540.04412287\n",
      "distance:20731819.272727273, radius:6705831.376555665, differences:14025987.896171607\n"
     ]
    },
    {
     "name": "stderr",
     "output_type": "stream",
     "text": [
      "Epoch 47/200: 100%|█████████████████████████████████████████████████████| 11/11 [00:00<00:00, 13.74it/s, loss=6.07e+11]\n"
     ]
    },
    {
     "name": "stdout",
     "output_type": "stream",
     "text": [
      "Epoch 47, Loss: 410647792624.51245, improve:-377733710.7223011\n",
      "distance:20738466.545454547, radius:6705831.376555665, differences:14032635.16889888\n"
     ]
    },
    {
     "name": "stderr",
     "output_type": "stream",
     "text": [
      "Epoch 48/200: 100%|█████████████████████████████████████████████████████| 11/11 [00:00<00:00, 14.98it/s, loss=5.49e+11]\n"
     ]
    },
    {
     "name": "stdout",
     "output_type": "stream",
     "text": [
      "Epoch 48, Loss: 410157653967.5512, improve:490138656.9612038\n",
      "distance:20932407.727272727, radius:6705831.376555666, differences:14226576.350717062\n"
     ]
    },
    {
     "name": "stderr",
     "output_type": "stream",
     "text": [
      "Epoch 49/200: 100%|█████████████████████████████████████████████████████| 11/11 [00:00<00:00, 13.43it/s, loss=3.86e+11]\n"
     ]
    },
    {
     "name": "stdout",
     "output_type": "stream",
     "text": [
      "Epoch 49, Loss: 410601327103.0188, improve:-443673135.4675959\n",
      "distance:20932099.0, radius:6705831.3765556635, differences:14226267.623444336\n"
     ]
    },
    {
     "name": "stderr",
     "output_type": "stream",
     "text": [
      "Epoch 50/200: 100%|█████████████████████████████████████████████████████| 11/11 [00:00<00:00, 14.90it/s, loss=4.36e+11]\n"
     ]
    },
    {
     "name": "stdout",
     "output_type": "stream",
     "text": [
      "Epoch 50, Loss: 410151542305.6342, improve:449784797.38458806\n",
      "distance:20847988.90909091, radius:6705831.376555665, differences:14142157.532535244\n"
     ]
    },
    {
     "name": "stderr",
     "output_type": "stream",
     "text": [
      "Epoch 51/200: 100%|█████████████████████████████████████████████████████| 11/11 [00:00<00:00, 13.47it/s, loss=3.86e+11]\n"
     ]
    },
    {
     "name": "stdout",
     "output_type": "stream",
     "text": [
      "Epoch 51, Loss: 410224057091.63306, improve:-72514785.99884588\n",
      "distance:20903662.727272727, radius:6705831.376555665, differences:14197831.350717062\n"
     ]
    },
    {
     "name": "stderr",
     "output_type": "stream",
     "text": [
      "Epoch 52/200: 100%|█████████████████████████████████████████████████████| 11/11 [00:00<00:00, 13.12it/s, loss=3.84e+11]\n"
     ]
    },
    {
     "name": "stdout",
     "output_type": "stream",
     "text": [
      "Epoch 52, Loss: 410574749066.0275, improve:-350691974.3944425\n",
      "distance:20847676.0, radius:6705831.376555666, differences:14141844.623444336\n"
     ]
    },
    {
     "name": "stderr",
     "output_type": "stream",
     "text": [
      "Epoch 53/200: 100%|█████████████████████████████████████████████████████| 11/11 [00:00<00:00, 14.93it/s, loss=4.96e+11]\n"
     ]
    },
    {
     "name": "stdout",
     "output_type": "stream",
     "text": [
      "Epoch 53, Loss: 410539252210.9068, improve:35496855.12073863\n",
      "distance:20740922.0, radius:6705831.376555666, differences:14035090.623444336\n"
     ]
    },
    {
     "name": "stderr",
     "output_type": "stream",
     "text": [
      "Epoch 54/200: 100%|██████████████████████████████████████████████████████| 11/11 [00:00<00:00, 13.48it/s, loss=2.6e+11]\n"
     ]
    },
    {
     "name": "stdout",
     "output_type": "stream",
     "text": [
      "Epoch 54, Loss: 410354555271.0119, improve:184696939.89488637\n",
      "distance:20833155.181818184, radius:6705831.376555665, differences:14127323.805262517\n"
     ]
    },
    {
     "name": "stderr",
     "output_type": "stream",
     "text": [
      "Epoch 55/200: 100%|█████████████████████████████████████████████████████| 11/11 [00:00<00:00, 14.97it/s, loss=4.93e+11]\n"
     ]
    },
    {
     "name": "stdout",
     "output_type": "stream",
     "text": [
      "Epoch 55, Loss: 410501768291.40875, improve:-147213020.3968395\n",
      "distance:20899538.727272727, radius:6705831.376555665, differences:14193707.350717062\n"
     ]
    },
    {
     "name": "stderr",
     "output_type": "stream",
     "text": [
      "Epoch 56/200: 100%|██████████████████████████████████████████████████████| 11/11 [00:00<00:00, 13.95it/s, loss=6.4e+11]\n"
     ]
    },
    {
     "name": "stdout",
     "output_type": "stream",
     "text": [
      "Epoch 56, Loss: 410379338597.29785, improve:122429694.11088423\n",
      "distance:20824602.90909091, radius:6705831.376555665, differences:14118771.532535244\n"
     ]
    },
    {
     "name": "stderr",
     "output_type": "stream",
     "text": [
      "Epoch 57/200: 100%|█████████████████████████████████████████████████████| 11/11 [00:00<00:00, 14.98it/s, loss=3.72e+11]\n"
     ]
    },
    {
     "name": "stdout",
     "output_type": "stream",
     "text": [
      "Epoch 57, Loss: 410603231422.14545, improve:-223892824.84756747\n",
      "distance:20868219.272727273, radius:6705831.376555665, differences:14162387.896171607\n"
     ]
    },
    {
     "name": "stderr",
     "output_type": "stream",
     "text": [
      "Epoch 58/200: 100%|█████████████████████████████████████████████████████| 11/11 [00:00<00:00, 15.00it/s, loss=3.59e+11]\n"
     ]
    },
    {
     "name": "stdout",
     "output_type": "stream",
     "text": [
      "Epoch 58, Loss: 410277446568.29156, improve:325784853.85387075\n",
      "distance:20892993.636363637, radius:6705831.376555665, differences:14187162.259807972\n"
     ]
    },
    {
     "name": "stderr",
     "output_type": "stream",
     "text": [
      "Epoch 59/200: 100%|█████████████████████████████████████████████████████| 11/11 [00:00<00:00, 13.96it/s, loss=3.87e+11]\n"
     ]
    },
    {
     "name": "stdout",
     "output_type": "stream",
     "text": [
      "Epoch 59, Loss: 410520294781.9361, improve:-242848213.64453125\n",
      "distance:20864850.727272727, radius:6705831.376555665, differences:14159019.350717062\n"
     ]
    },
    {
     "name": "stderr",
     "output_type": "stream",
     "text": [
      "Epoch 60/200: 100%|█████████████████████████████████████████████████████| 11/11 [00:00<00:00, 13.94it/s, loss=3.92e+11]\n"
     ]
    },
    {
     "name": "stdout",
     "output_type": "stream",
     "text": [
      "Epoch 60, Loss: 410218298109.8437, improve:301996672.0924183\n",
      "distance:20796691.818181816, radius:6705831.376555665, differences:14090860.441626154\n"
     ]
    },
    {
     "name": "stderr",
     "output_type": "stream",
     "text": [
      "Epoch 61/200: 100%|█████████████████████████████████████████████████████| 11/11 [00:00<00:00, 13.79it/s, loss=4.48e+11]\n"
     ]
    },
    {
     "name": "stdout",
     "output_type": "stream",
     "text": [
      "Epoch 61, Loss: 410580613249.30194, improve:-362315139.4582741\n",
      "distance:20847010.0, radius:6705831.376555665, differences:14141178.623444336\n"
     ]
    },
    {
     "name": "stderr",
     "output_type": "stream",
     "text": [
      "Epoch 62/200: 100%|█████████████████████████████████████████████████████| 11/11 [00:00<00:00, 14.16it/s, loss=3.46e+11]\n"
     ]
    },
    {
     "name": "stdout",
     "output_type": "stream",
     "text": [
      "Epoch 62, Loss: 411269659757.80756, improve:-689046508.5055931\n",
      "distance:21042265.818181816, radius:6705831.3765556635, differences:14336434.441626154\n"
     ]
    },
    {
     "name": "stderr",
     "output_type": "stream",
     "text": [
      "Epoch 63/200: 100%|█████████████████████████████████████████████████████| 11/11 [00:00<00:00, 14.75it/s, loss=2.85e+11]\n"
     ]
    },
    {
     "name": "stdout",
     "output_type": "stream",
     "text": [
      "Epoch 63, Loss: 409937124349.6004, improve:1332535408.20712\n",
      "distance:20876900.0, radius:6705831.376555665, differences:14171068.623444336\n"
     ]
    },
    {
     "name": "stderr",
     "output_type": "stream",
     "text": [
      "Epoch 64/200: 100%|█████████████████████████████████████████████████████| 11/11 [00:00<00:00, 14.08it/s, loss=4.34e+11]\n"
     ]
    },
    {
     "name": "stdout",
     "output_type": "stream",
     "text": [
      "Epoch 64, Loss: 410094763906.70416, improve:-157639557.10378197\n",
      "distance:20779486.363636363, radius:6705831.376555665, differences:14073654.987080699\n"
     ]
    },
    {
     "name": "stderr",
     "output_type": "stream",
     "text": [
      "Epoch 65/200: 100%|█████████████████████████████████████████████████████| 11/11 [00:00<00:00, 14.11it/s, loss=4.98e+11]\n"
     ]
    },
    {
     "name": "stdout",
     "output_type": "stream",
     "text": [
      "Epoch 65, Loss: 409609858026.03613, improve:484905880.6680575\n",
      "distance:20701183.272727273, radius:6705831.376555666, differences:13995351.896171607\n"
     ]
    },
    {
     "name": "stderr",
     "output_type": "stream",
     "text": [
      "Epoch 66/200: 100%|█████████████████████████████████████████████████████| 11/11 [00:00<00:00, 13.72it/s, loss=5.41e+11]\n"
     ]
    },
    {
     "name": "stdout",
     "output_type": "stream",
     "text": [
      "Epoch 66, Loss: 410247200956.0032, improve:-637342929.9670632\n",
      "distance:20775181.818181816, radius:6705831.376555665, differences:14069350.441626154\n"
     ]
    },
    {
     "name": "stderr",
     "output_type": "stream",
     "text": [
      "Epoch 67/200: 100%|█████████████████████████████████████████████████████| 11/11 [00:00<00:00, 13.90it/s, loss=4.31e+11]\n"
     ]
    },
    {
     "name": "stdout",
     "output_type": "stream",
     "text": [
      "Epoch 67, Loss: 410086636787.65326, improve:160564168.3499645\n",
      "distance:20826910.181818184, radius:6705831.376555665, differences:14121078.805262517\n"
     ]
    },
    {
     "name": "stderr",
     "output_type": "stream",
     "text": [
      "Epoch 68/200: 100%|█████████████████████████████████████████████████████| 11/11 [00:00<00:00, 13.91it/s, loss=5.35e+11]\n"
     ]
    },
    {
     "name": "stdout",
     "output_type": "stream",
     "text": [
      "Epoch 68, Loss: 410818194187.18774, improve:-731557399.5345348\n",
      "distance:20820584.09090909, radius:6705831.376555665, differences:14114752.714353425\n"
     ]
    },
    {
     "name": "stderr",
     "output_type": "stream",
     "text": [
      "Epoch 69/200: 100%|█████████████████████████████████████████████████████| 11/11 [00:00<00:00, 14.12it/s, loss=5.93e+11]\n"
     ]
    },
    {
     "name": "stdout",
     "output_type": "stream",
     "text": [
      "Epoch 69, Loss: 410187414999.24896, improve:630779187.9388317\n",
      "distance:20800358.181818184, radius:6705831.376555665, differences:14094526.805262517\n"
     ]
    },
    {
     "name": "stderr",
     "output_type": "stream",
     "text": [
      "Epoch 70/200: 100%|█████████████████████████████████████████████████████| 11/11 [00:00<00:00, 13.65it/s, loss=3.63e+11]\n"
     ]
    },
    {
     "name": "stdout",
     "output_type": "stream",
     "text": [
      "Epoch 70, Loss: 410144128262.6822, improve:43286736.56676137\n",
      "distance:20752592.363636363, radius:6705831.376555665, differences:14046760.987080699\n"
     ]
    },
    {
     "name": "stderr",
     "output_type": "stream",
     "text": [
      "Epoch 71/200: 100%|██████████████████████████████████████████████████████| 11/11 [00:00<00:00, 14.92it/s, loss=3.5e+11]\n"
     ]
    },
    {
     "name": "stdout",
     "output_type": "stream",
     "text": [
      "Epoch 71, Loss: 410424737196.5435, improve:-280608933.8613281\n",
      "distance:20853439.727272727, radius:6705831.376555665, differences:14147608.350717062\n"
     ]
    },
    {
     "name": "stderr",
     "output_type": "stream",
     "text": [
      "Epoch 72/200: 100%|█████████████████████████████████████████████████████| 11/11 [00:00<00:00, 13.99it/s, loss=3.44e+11]\n"
     ]
    },
    {
     "name": "stdout",
     "output_type": "stream",
     "text": [
      "Epoch 72, Loss: 410418467195.0815, improve:6270001.462002841\n",
      "distance:20991568.818181816, radius:6705831.376555665, differences:14285737.441626154\n"
     ]
    },
    {
     "name": "stderr",
     "output_type": "stream",
     "text": [
      "Epoch 73/200: 100%|█████████████████████████████████████████████████████| 11/11 [00:00<00:00, 14.91it/s, loss=2.36e+11]\n"
     ]
    },
    {
     "name": "stdout",
     "output_type": "stream",
     "text": [
      "Epoch 73, Loss: 410013541908.33765, improve:404925286.7438743\n",
      "distance:20962616.363636363, radius:6705831.376555666, differences:14256784.987080699\n"
     ]
    },
    {
     "name": "stderr",
     "output_type": "stream",
     "text": [
      "Epoch 74/200: 100%|█████████████████████████████████████████████████████| 11/11 [00:00<00:00, 13.87it/s, loss=5.71e+11]\n"
     ]
    },
    {
     "name": "stdout",
     "output_type": "stream",
     "text": [
      "Epoch 74, Loss: 411254856559.1052, improve:-1241314650.7675781\n",
      "distance:20754248.181818184, radius:6705831.376555665, differences:14048416.805262517\n"
     ]
    },
    {
     "name": "stderr",
     "output_type": "stream",
     "text": [
      "Epoch 75/200: 100%|█████████████████████████████████████████████████████| 11/11 [00:00<00:00, 13.85it/s, loss=3.48e+11]\n"
     ]
    },
    {
     "name": "stdout",
     "output_type": "stream",
     "text": [
      "Epoch 75, Loss: 410068529520.49786, improve:1186327038.6073332\n",
      "distance:20660578.181818184, radius:6705831.376555665, differences:13954746.805262517\n"
     ]
    },
    {
     "name": "stderr",
     "output_type": "stream",
     "text": [
      "Epoch 76/200: 100%|█████████████████████████████████████████████████████| 11/11 [00:00<00:00, 13.25it/s, loss=3.14e+11]\n"
     ]
    },
    {
     "name": "stdout",
     "output_type": "stream",
     "text": [
      "Epoch 76, Loss: 410008197142.23773, improve:60332378.26012074\n",
      "distance:20848391.90909091, radius:6705831.376555666, differences:14142560.532535244\n"
     ]
    },
    {
     "name": "stderr",
     "output_type": "stream",
     "text": [
      "Epoch 77/200: 100%|██████████████████████████████████████████████████████| 11/11 [00:00<00:00, 13.08it/s, loss=2.9e+11]\n"
     ]
    },
    {
     "name": "stdout",
     "output_type": "stream",
     "text": [
      "Epoch 77, Loss: 410549185104.0643, improve:-540987961.826527\n",
      "distance:20956841.09090909, radius:6705831.3765556635, differences:14251009.714353425\n"
     ]
    },
    {
     "name": "stderr",
     "output_type": "stream",
     "text": [
      "Epoch 78/200: 100%|█████████████████████████████████████████████████████| 11/11 [00:00<00:00, 14.87it/s, loss=4.11e+11]\n"
     ]
    },
    {
     "name": "stdout",
     "output_type": "stream",
     "text": [
      "Epoch 78, Loss: 409732392806.67114, improve:816792297.3931108\n",
      "distance:20840408.818181816, radius:6705831.376555665, differences:14134577.441626154\n"
     ]
    },
    {
     "name": "stderr",
     "output_type": "stream",
     "text": [
      "Epoch 79/200: 100%|█████████████████████████████████████████████████████| 11/11 [00:00<00:00, 13.80it/s, loss=4.09e+11]\n"
     ]
    },
    {
     "name": "stdout",
     "output_type": "stream",
     "text": [
      "Epoch 79, Loss: 410131957397.6512, improve:-399564590.9800249\n",
      "distance:20753524.727272727, radius:6705831.3765556635, differences:14047693.350717062\n"
     ]
    },
    {
     "name": "stderr",
     "output_type": "stream",
     "text": [
      "Epoch 80/200: 100%|█████████████████████████████████████████████████████| 11/11 [00:00<00:00, 14.29it/s, loss=4.04e+11]\n"
     ]
    },
    {
     "name": "stdout",
     "output_type": "stream",
     "text": [
      "Epoch 80, Loss: 410543243205.13745, improve:-411285807.4862394\n",
      "distance:20803220.90909091, radius:6705831.376555665, differences:14097389.532535244\n"
     ]
    },
    {
     "name": "stderr",
     "output_type": "stream",
     "text": [
      "Epoch 81/200: 100%|█████████████████████████████████████████████████████| 11/11 [00:00<00:00, 14.97it/s, loss=3.59e+11]\n"
     ]
    },
    {
     "name": "stdout",
     "output_type": "stream",
     "text": [
      "Epoch 81, Loss: 410920643928.77905, improve:-377400723.64160156\n",
      "distance:20959589.636363637, radius:6705831.3765556635, differences:14253758.259807972\n"
     ]
    },
    {
     "name": "stderr",
     "output_type": "stream",
     "text": [
      "Epoch 82/200: 100%|█████████████████████████████████████████████████████| 11/11 [00:00<00:00, 13.98it/s, loss=4.68e+11]\n"
     ]
    },
    {
     "name": "stdout",
     "output_type": "stream",
     "text": [
      "Epoch 82, Loss: 410333582214.36053, improve:587061714.4185014\n",
      "distance:21009581.545454547, radius:6705831.3765556635, differences:14303750.16889888\n"
     ]
    },
    {
     "name": "stderr",
     "output_type": "stream",
     "text": [
      "Epoch 83/200: 100%|██████████████████████████████████████████████████████| 11/11 [00:00<00:00, 14.27it/s, loss=3.5e+11]\n"
     ]
    },
    {
     "name": "stdout",
     "output_type": "stream",
     "text": [
      "Epoch 83, Loss: 411476366176.6858, improve:-1142783962.325284\n",
      "distance:20789907.363636363, radius:6705831.376555665, differences:14084075.987080699\n"
     ]
    },
    {
     "name": "stderr",
     "output_type": "stream",
     "text": [
      "Epoch 84/200: 100%|█████████████████████████████████████████████████████| 11/11 [00:00<00:00, 13.81it/s, loss=4.47e+11]\n"
     ]
    },
    {
     "name": "stdout",
     "output_type": "stream",
     "text": [
      "Epoch 84, Loss: 410541406954.031, improve:934959222.6548295\n",
      "distance:20745667.454545453, radius:6705831.376555665, differences:14039836.077989789\n"
     ]
    },
    {
     "name": "stderr",
     "output_type": "stream",
     "text": [
      "Epoch 85/200: 100%|█████████████████████████████████████████████████████| 11/11 [00:00<00:00, 13.60it/s, loss=2.53e+11]\n"
     ]
    },
    {
     "name": "stdout",
     "output_type": "stream",
     "text": [
      "Epoch 85, Loss: 410151373242.8283, improve:390033711.2026811\n",
      "distance:20736522.90909091, radius:6705831.376555665, differences:14030691.532535244\n"
     ]
    },
    {
     "name": "stderr",
     "output_type": "stream",
     "text": [
      "Epoch 86/200: 100%|█████████████████████████████████████████████████████| 11/11 [00:00<00:00, 14.91it/s, loss=2.66e+11]\n"
     ]
    },
    {
     "name": "stdout",
     "output_type": "stream",
     "text": [
      "Epoch 86, Loss: 411732025055.265, improve:-1580651812.436701\n",
      "distance:20968266.545454547, radius:6705831.376555665, differences:14262435.16889888\n"
     ]
    },
    {
     "name": "stderr",
     "output_type": "stream",
     "text": [
      "Epoch 87/200: 100%|█████████████████████████████████████████████████████| 11/11 [00:00<00:00, 14.93it/s, loss=4.91e+11]\n"
     ]
    },
    {
     "name": "stdout",
     "output_type": "stream",
     "text": [
      "Epoch 87, Loss: 410016057119.88947, improve:1715967935.3755326\n",
      "distance:20965986.545454547, radius:6705831.376555666, differences:14260155.16889888\n"
     ]
    },
    {
     "name": "stderr",
     "output_type": "stream",
     "text": [
      "Epoch 88/200: 100%|█████████████████████████████████████████████████████| 11/11 [00:00<00:00, 13.75it/s, loss=4.06e+11]\n"
     ]
    },
    {
     "name": "stdout",
     "output_type": "stream",
     "text": [
      "Epoch 88, Loss: 410878706468.9034, improve:-862649349.0139382\n",
      "distance:20719828.727272727, radius:6705831.376555665, differences:14013997.350717062\n"
     ]
    },
    {
     "name": "stderr",
     "output_type": "stream",
     "text": [
      "Epoch 89/200: 100%|█████████████████████████████████████████████████████| 11/11 [00:00<00:00, 13.90it/s, loss=6.37e+11]\n"
     ]
    },
    {
     "name": "stdout",
     "output_type": "stream",
     "text": [
      "Epoch 89, Loss: 411074972001.89417, improve:-196265532.99076703\n",
      "distance:20584593.0, radius:6705831.376555665, differences:13878761.623444336\n"
     ]
    },
    {
     "name": "stderr",
     "output_type": "stream",
     "text": [
      "Epoch 90/200: 100%|█████████████████████████████████████████████████████| 11/11 [00:00<00:00, 13.78it/s, loss=2.98e+11]\n"
     ]
    },
    {
     "name": "stdout",
     "output_type": "stream",
     "text": [
      "Epoch 90, Loss: 410002995496.6389, improve:1071976505.2552379\n",
      "distance:20707789.636363637, radius:6705831.376555665, differences:14001958.259807972\n"
     ]
    },
    {
     "name": "stderr",
     "output_type": "stream",
     "text": [
      "Epoch 91/200: 100%|█████████████████████████████████████████████████████| 11/11 [00:00<00:00, 14.99it/s, loss=6.52e+11]\n"
     ]
    },
    {
     "name": "stdout",
     "output_type": "stream",
     "text": [
      "Epoch 91, Loss: 410108130548.68243, improve:-105135052.04350142\n",
      "distance:20926156.545454547, radius:6705831.376555665, differences:14220325.16889888\n"
     ]
    },
    {
     "name": "stderr",
     "output_type": "stream",
     "text": [
      "Epoch 92/200: 100%|█████████████████████████████████████████████████████| 11/11 [00:00<00:00, 13.53it/s, loss=4.37e+11]\n"
     ]
    },
    {
     "name": "stdout",
     "output_type": "stream",
     "text": [
      "Epoch 92, Loss: 410347530581.6812, improve:-239400032.9987571\n",
      "distance:20945282.181818184, radius:6705831.3765556635, differences:14239450.805262517\n"
     ]
    },
    {
     "name": "stderr",
     "output_type": "stream",
     "text": [
      "Epoch 93/200: 100%|█████████████████████████████████████████████████████| 11/11 [00:00<00:00, 14.87it/s, loss=2.97e+11]\n"
     ]
    },
    {
     "name": "stdout",
     "output_type": "stream",
     "text": [
      "Epoch 93, Loss: 410661717140.56506, improve:-314186558.8838778\n",
      "distance:20900358.363636363, radius:6705831.376555665, differences:14194526.987080699\n"
     ]
    },
    {
     "name": "stderr",
     "output_type": "stream",
     "text": [
      "Epoch 94/200: 100%|█████████████████████████████████████████████████████| 11/11 [00:00<00:00, 13.82it/s, loss=5.86e+11]\n"
     ]
    },
    {
     "name": "stdout",
     "output_type": "stream",
     "text": [
      "Epoch 94, Loss: 411196469958.4641, improve:-534752817.89905894\n",
      "distance:20905484.545454547, radius:6705831.376555665, differences:14199653.16889888\n"
     ]
    },
    {
     "name": "stderr",
     "output_type": "stream",
     "text": [
      "Epoch 95/200: 100%|█████████████████████████████████████████████████████| 11/11 [00:00<00:00, 15.00it/s, loss=4.03e+11]\n"
     ]
    },
    {
     "name": "stdout",
     "output_type": "stream",
     "text": [
      "Epoch 95, Loss: 410618810079.8508, improve:577659878.6132812\n",
      "distance:20685868.0, radius:6705831.376555665, differences:13980036.623444336\n"
     ]
    },
    {
     "name": "stderr",
     "output_type": "stream",
     "text": [
      "Epoch 96/200: 100%|█████████████████████████████████████████████████████| 11/11 [00:00<00:00, 14.97it/s, loss=3.63e+11]\n"
     ]
    },
    {
     "name": "stdout",
     "output_type": "stream",
     "text": [
      "Epoch 96, Loss: 410436264979.2816, improve:182545100.56924716\n",
      "distance:20676610.0, radius:6705831.3765556635, differences:13970778.623444336\n"
     ]
    },
    {
     "name": "stderr",
     "output_type": "stream",
     "text": [
      "Epoch 97/200: 100%|█████████████████████████████████████████████████████| 11/11 [00:00<00:00, 13.58it/s, loss=3.62e+11]\n"
     ]
    },
    {
     "name": "stdout",
     "output_type": "stream",
     "text": [
      "Epoch 97, Loss: 410715484755.84705, improve:-279219776.5654297\n",
      "distance:20948795.09090909, radius:6705831.376555665, differences:14242963.714353425\n"
     ]
    },
    {
     "name": "stderr",
     "output_type": "stream",
     "text": [
      "Epoch 98/200: 100%|█████████████████████████████████████████████████████| 11/11 [00:00<00:00, 14.11it/s, loss=3.63e+11]\n"
     ]
    },
    {
     "name": "stdout",
     "output_type": "stream",
     "text": [
      "Epoch 98, Loss: 410547534929.64355, improve:167949826.20348012\n",
      "distance:21038784.454545453, radius:6705831.376555665, differences:14332953.077989789\n"
     ]
    },
    {
     "name": "stderr",
     "output_type": "stream",
     "text": [
      "Epoch 99/200: 100%|█████████████████████████████████████████████████████| 11/11 [00:00<00:00, 12.96it/s, loss=5.34e+11]\n"
     ]
    },
    {
     "name": "stdout",
     "output_type": "stream",
     "text": [
      "Epoch 99, Loss: 410230127932.7408, improve:317406996.9027876\n",
      "distance:20963370.363636363, radius:6705831.3765556635, differences:14257538.987080699\n"
     ]
    },
    {
     "name": "stderr",
     "output_type": "stream",
     "text": [
      "Epoch 100/200: 100%|█████████████████████████████████████████████████████| 11/11 [00:00<00:00, 13.68it/s, loss=2.6e+11]\n"
     ]
    },
    {
     "name": "stdout",
     "output_type": "stream",
     "text": [
      "Epoch 100, Loss: 410964415495.3168, improve:-734287562.5759944\n",
      "distance:20960150.0, radius:6705831.376555665, differences:14254318.623444336\n"
     ]
    },
    {
     "name": "stderr",
     "output_type": "stream",
     "text": [
      "Epoch 101/200: 100%|████████████████████████████████████████████████████| 11/11 [00:00<00:00, 14.00it/s, loss=3.41e+11]\n"
     ]
    },
    {
     "name": "stdout",
     "output_type": "stream",
     "text": [
      "Epoch 101, Loss: 410565121865.0687, improve:399293630.2480469\n",
      "distance:20789169.818181816, radius:6705831.376555666, differences:14083338.441626154\n"
     ]
    },
    {
     "name": "stderr",
     "output_type": "stream",
     "text": [
      "Epoch 102/200: 100%|█████████████████████████████████████████████████████| 11/11 [00:00<00:00, 14.97it/s, loss=4.1e+11]\n"
     ]
    },
    {
     "name": "stdout",
     "output_type": "stream",
     "text": [
      "Epoch 102, Loss: 410291009384.3838, improve:274112480.68492544\n",
      "distance:20718643.454545453, radius:6705831.376555665, differences:14012812.077989789\n"
     ]
    },
    {
     "name": "stderr",
     "output_type": "stream",
     "text": [
      "Epoch 103/200: 100%|████████████████████████████████████████████████████| 11/11 [00:00<00:00, 14.71it/s, loss=4.17e+11]\n"
     ]
    },
    {
     "name": "stdout",
     "output_type": "stream",
     "text": [
      "Epoch 103, Loss: 411719490717.6266, improve:-1428481333.242809\n",
      "distance:20908348.272727273, radius:6705831.376555666, differences:14202516.896171607\n"
     ]
    },
    {
     "name": "stderr",
     "output_type": "stream",
     "text": [
      "Epoch 104/200: 100%|████████████████████████████████████████████████████| 11/11 [00:00<00:00, 13.27it/s, loss=3.75e+11]\n"
     ]
    },
    {
     "name": "stdout",
     "output_type": "stream",
     "text": [
      "Epoch 104, Loss: 409961459951.98456, improve:1758030765.6420455\n",
      "distance:20785682.181818184, radius:6705831.376555665, differences:14079850.805262517\n"
     ]
    },
    {
     "name": "stderr",
     "output_type": "stream",
     "text": [
      "Epoch 105/200: 100%|█████████████████████████████████████████████████████| 11/11 [00:00<00:00, 14.91it/s, loss=4.9e+11]\n"
     ]
    },
    {
     "name": "stdout",
     "output_type": "stream",
     "text": [
      "Epoch 105, Loss: 410319910027.7941, improve:-358450075.8095703\n",
      "distance:20681679.363636363, radius:6705831.376555665, differences:13975847.987080699\n"
     ]
    },
    {
     "name": "stderr",
     "output_type": "stream",
     "text": [
      "Epoch 106/200: 100%|████████████████████████████████████████████████████| 11/11 [00:00<00:00, 12.93it/s, loss=3.42e+11]\n"
     ]
    },
    {
     "name": "stdout",
     "output_type": "stream",
     "text": [
      "Epoch 106, Loss: 410219991788.544, improve:99918239.25008878\n",
      "distance:20781003.545454547, radius:6705831.376555666, differences:14075172.16889888\n"
     ]
    },
    {
     "name": "stderr",
     "output_type": "stream",
     "text": [
      "Epoch 107/200: 100%|████████████████████████████████████████████████████| 11/11 [00:00<00:00, 13.09it/s, loss=3.03e+11]\n"
     ]
    },
    {
     "name": "stdout",
     "output_type": "stream",
     "text": [
      "Epoch 107, Loss: 410573009532.89923, improve:-353017744.35520244\n",
      "distance:20990266.0, radius:6705831.376555665, differences:14284434.623444336\n"
     ]
    },
    {
     "name": "stderr",
     "output_type": "stream",
     "text": [
      "Epoch 108/200: 100%|████████████████████████████████████████████████████| 11/11 [00:00<00:00, 14.99it/s, loss=2.92e+11]\n"
     ]
    },
    {
     "name": "stdout",
     "output_type": "stream",
     "text": [
      "Epoch 108, Loss: 410122335945.27875, improve:450673587.6204723\n",
      "distance:21012717.363636363, radius:6705831.376555665, differences:14306885.987080699\n"
     ]
    },
    {
     "name": "stderr",
     "output_type": "stream",
     "text": [
      "Epoch 109/200: 100%|████████████████████████████████████████████████████| 11/11 [00:00<00:00, 14.05it/s, loss=4.96e+11]\n"
     ]
    },
    {
     "name": "stdout",
     "output_type": "stream",
     "text": [
      "Epoch 109, Loss: 410212002046.1359, improve:-89666100.85715555\n",
      "distance:20757750.636363637, radius:6705831.3765556635, differences:14051919.259807972\n"
     ]
    },
    {
     "name": "stderr",
     "output_type": "stream",
     "text": [
      "Epoch 110/200: 100%|████████████████████████████████████████████████████| 11/11 [00:00<00:00, 13.68it/s, loss=3.36e+11]\n"
     ]
    },
    {
     "name": "stdout",
     "output_type": "stream",
     "text": [
      "Epoch 110, Loss: 410756856142.0483, improve:-544854095.9123757\n",
      "distance:20787554.636363637, radius:6705831.376555665, differences:14081723.259807972\n"
     ]
    },
    {
     "name": "stderr",
     "output_type": "stream",
     "text": [
      "Epoch 111/200: 100%|████████████████████████████████████████████████████| 11/11 [00:00<00:00, 13.22it/s, loss=4.09e+11]\n"
     ]
    },
    {
     "name": "stdout",
     "output_type": "stream",
     "text": [
      "Epoch 111, Loss: 410261870551.5235, improve:494985590.5247692\n",
      "distance:20793056.545454547, radius:6705831.376555665, differences:14087225.16889888\n"
     ]
    },
    {
     "name": "stderr",
     "output_type": "stream",
     "text": [
      "Epoch 112/200: 100%|████████████████████████████████████████████████████| 11/11 [00:00<00:00, 13.13it/s, loss=4.52e+11]\n"
     ]
    },
    {
     "name": "stdout",
     "output_type": "stream",
     "text": [
      "Epoch 112, Loss: 410851437205.34436, improve:-589566653.8208451\n",
      "distance:20870624.90909091, radius:6705831.376555665, differences:14164793.532535244\n"
     ]
    },
    {
     "name": "stderr",
     "output_type": "stream",
     "text": [
      "Epoch 113/200: 100%|████████████████████████████████████████████████████| 11/11 [00:00<00:00, 14.53it/s, loss=4.68e+11]\n"
     ]
    },
    {
     "name": "stdout",
     "output_type": "stream",
     "text": [
      "Epoch 113, Loss: 410206844833.6154, improve:644592371.7289596\n",
      "distance:20820705.09090909, radius:6705831.376555666, differences:14114873.714353425\n"
     ]
    },
    {
     "name": "stderr",
     "output_type": "stream",
     "text": [
      "Epoch 114/200: 100%|████████████████████████████████████████████████████| 11/11 [00:00<00:00, 14.04it/s, loss=3.06e+11]\n"
     ]
    },
    {
     "name": "stdout",
     "output_type": "stream",
     "text": [
      "Epoch 114, Loss: 410715465483.151, improve:-508620649.5356001\n",
      "distance:20713382.818181816, radius:6705831.376555665, differences:14007551.441626154\n"
     ]
    },
    {
     "name": "stderr",
     "output_type": "stream",
     "text": [
      "Epoch 115/200: 100%|████████████████████████████████████████████████████| 11/11 [00:00<00:00, 13.02it/s, loss=4.18e+11]\n"
     ]
    },
    {
     "name": "stdout",
     "output_type": "stream",
     "text": [
      "Epoch 115, Loss: 409960071647.45416, improve:755393835.6968217\n",
      "distance:20695429.818181816, radius:6705831.376555665, differences:13989598.441626154\n"
     ]
    },
    {
     "name": "stderr",
     "output_type": "stream",
     "text": [
      "Epoch 116/200: 100%|████████████████████████████████████████████████████| 11/11 [00:00<00:00, 13.33it/s, loss=4.26e+11]\n"
     ]
    },
    {
     "name": "stdout",
     "output_type": "stream",
     "text": [
      "Epoch 116, Loss: 410599926698.4959, improve:-639855051.0417259\n",
      "distance:20857360.363636363, radius:6705831.376555665, differences:14151528.987080699\n"
     ]
    },
    {
     "name": "stderr",
     "output_type": "stream",
     "text": [
      "Epoch 117/200: 100%|████████████████████████████████████████████████████| 11/11 [00:00<00:00, 14.87it/s, loss=3.18e+11]\n"
     ]
    },
    {
     "name": "stdout",
     "output_type": "stream",
     "text": [
      "Epoch 117, Loss: 410804057433.5521, improve:-204130735.05619672\n",
      "distance:21022780.181818184, radius:6705831.376555665, differences:14316948.805262517\n"
     ]
    },
    {
     "name": "stderr",
     "output_type": "stream",
     "text": [
      "Epoch 118/200: 100%|████████████████████████████████████████████████████| 11/11 [00:00<00:00, 12.21it/s, loss=3.37e+11]\n"
     ]
    },
    {
     "name": "stdout",
     "output_type": "stream",
     "text": [
      "Epoch 118, Loss: 410757304611.4977, improve:46752822.054421164\n",
      "distance:20889425.454545453, radius:6705831.376555665, differences:14183594.077989789\n"
     ]
    },
    {
     "name": "stderr",
     "output_type": "stream",
     "text": [
      "Epoch 119/200: 100%|████████████████████████████████████████████████████| 11/11 [00:00<00:00, 13.83it/s, loss=3.94e+11]\n"
     ]
    },
    {
     "name": "stdout",
     "output_type": "stream",
     "text": [
      "Epoch 119, Loss: 410775429691.87537, improve:-18125080.37766335\n",
      "distance:20821490.181818184, radius:6705831.376555666, differences:14115658.805262517\n"
     ]
    },
    {
     "name": "stderr",
     "output_type": "stream",
     "text": [
      "Epoch 120/200: 100%|████████████████████████████████████████████████████| 11/11 [00:00<00:00, 13.05it/s, loss=4.35e+11]\n"
     ]
    },
    {
     "name": "stdout",
     "output_type": "stream",
     "text": [
      "Epoch 120, Loss: 410315731894.5459, improve:459697797.3294567\n",
      "distance:20877427.09090909, radius:6705831.376555665, differences:14171595.714353425\n"
     ]
    },
    {
     "name": "stderr",
     "output_type": "stream",
     "text": [
      "Epoch 121/200: 100%|████████████████████████████████████████████████████| 11/11 [00:00<00:00, 13.41it/s, loss=2.88e+11]\n"
     ]
    },
    {
     "name": "stdout",
     "output_type": "stream",
     "text": [
      "Epoch 121, Loss: 410549191275.6383, improve:-233459381.0924183\n",
      "distance:20885197.363636363, radius:6705831.376555665, differences:14179365.987080699\n"
     ]
    },
    {
     "name": "stderr",
     "output_type": "stream",
     "text": [
      "Epoch 122/200: 100%|████████████████████████████████████████████████████| 11/11 [00:00<00:00, 13.75it/s, loss=3.33e+11]\n"
     ]
    },
    {
     "name": "stdout",
     "output_type": "stream",
     "text": [
      "Epoch 122, Loss: 410311765297.82306, improve:237425977.81525213\n",
      "distance:20776683.181818184, radius:6705831.376555666, differences:14070851.805262517\n"
     ]
    },
    {
     "name": "stderr",
     "output_type": "stream",
     "text": [
      "Epoch 123/200: 100%|████████████████████████████████████████████████████| 11/11 [00:00<00:00, 13.23it/s, loss=5.38e+11]\n"
     ]
    },
    {
     "name": "stdout",
     "output_type": "stream",
     "text": [
      "Epoch 123, Loss: 410333681720.8346, improve:-21916423.01154119\n",
      "distance:20718150.363636363, radius:6705831.376555665, differences:14012318.987080699\n"
     ]
    },
    {
     "name": "stderr",
     "output_type": "stream",
     "text": [
      "Epoch 124/200: 100%|████████████████████████████████████████████████████| 11/11 [00:00<00:00, 14.05it/s, loss=4.25e+11]\n"
     ]
    },
    {
     "name": "stdout",
     "output_type": "stream",
     "text": [
      "Epoch 124, Loss: 409732806440.2078, improve:600875280.6267756\n",
      "distance:20741414.0, radius:6705831.376555665, differences:14035582.623444336\n"
     ]
    },
    {
     "name": "stderr",
     "output_type": "stream",
     "text": [
      "Epoch 125/200: 100%|█████████████████████████████████████████████████████| 11/11 [00:00<00:00, 14.40it/s, loss=3.7e+11]\n"
     ]
    },
    {
     "name": "stdout",
     "output_type": "stream",
     "text": [
      "Epoch 125, Loss: 409769086602.51013, improve:-36280162.302290484\n",
      "distance:20832606.272727273, radius:6705831.376555665, differences:14126774.896171607\n"
     ]
    },
    {
     "name": "stderr",
     "output_type": "stream",
     "text": [
      "Epoch 126/200: 100%|████████████████████████████████████████████████████| 11/11 [00:00<00:00, 14.19it/s, loss=4.73e+11]\n"
     ]
    },
    {
     "name": "stdout",
     "output_type": "stream",
     "text": [
      "Epoch 126, Loss: 409652924031.2734, improve:116162571.23677202\n",
      "distance:20918769.09090909, radius:6705831.3765556635, differences:14212937.714353425\n"
     ]
    },
    {
     "name": "stderr",
     "output_type": "stream",
     "text": [
      "Epoch 127/200: 100%|████████████████████████████████████████████████████| 11/11 [00:00<00:00, 13.04it/s, loss=4.08e+11]\n"
     ]
    },
    {
     "name": "stdout",
     "output_type": "stream",
     "text": [
      "Epoch 127, Loss: 410001531725.4613, improve:-348607694.1879439\n",
      "distance:20899894.0, radius:6705831.376555665, differences:14194062.623444336\n"
     ]
    },
    {
     "name": "stderr",
     "output_type": "stream",
     "text": [
      "Epoch 128/200: 100%|████████████████████████████████████████████████████| 11/11 [00:00<00:00, 13.04it/s, loss=2.55e+11]\n"
     ]
    },
    {
     "name": "stdout",
     "output_type": "stream",
     "text": [
      "Epoch 128, Loss: 410102370102.4586, improve:-100838376.99733664\n",
      "distance:20893528.0, radius:6705831.376555665, differences:14187696.623444336\n"
     ]
    },
    {
     "name": "stderr",
     "output_type": "stream",
     "text": [
      "Epoch 129/200: 100%|████████████████████████████████████████████████████| 11/11 [00:00<00:00, 15.01it/s, loss=3.76e+11]\n"
     ]
    },
    {
     "name": "stdout",
     "output_type": "stream",
     "text": [
      "Epoch 129, Loss: 410447152975.4074, improve:-344782872.9487749\n",
      "distance:20791836.90909091, radius:6705831.376555666, differences:14086005.532535244\n"
     ]
    },
    {
     "name": "stderr",
     "output_type": "stream",
     "text": [
      "Epoch 130/200: 100%|████████████████████████████████████████████████████| 11/11 [00:00<00:00, 13.12it/s, loss=4.75e+11]\n"
     ]
    },
    {
     "name": "stdout",
     "output_type": "stream",
     "text": [
      "Epoch 130, Loss: 410517188777.48083, improve:-70035802.07341975\n",
      "distance:20827366.0, radius:6705831.376555665, differences:14121534.623444336\n"
     ]
    },
    {
     "name": "stderr",
     "output_type": "stream",
     "text": [
      "Epoch 131/200: 100%|████████████████████████████████████████████████████| 11/11 [00:00<00:00, 13.32it/s, loss=3.13e+11]\n"
     ]
    },
    {
     "name": "stdout",
     "output_type": "stream",
     "text": [
      "Epoch 131, Loss: 410162388740.7364, improve:354800036.74440694\n",
      "distance:20891673.90909091, radius:6705831.376555665, differences:14185842.532535244\n"
     ]
    },
    {
     "name": "stderr",
     "output_type": "stream",
     "text": [
      "Epoch 132/200: 100%|████████████████████████████████████████████████████| 11/11 [00:00<00:00, 14.52it/s, loss=4.06e+11]\n"
     ]
    },
    {
     "name": "stdout",
     "output_type": "stream",
     "text": [
      "Epoch 132, Loss: 410233130334.2463, improve:-70741593.5098544\n",
      "distance:20832928.545454547, radius:6705831.376555665, differences:14127097.16889888\n"
     ]
    },
    {
     "name": "stderr",
     "output_type": "stream",
     "text": [
      "Epoch 133/200: 100%|████████████████████████████████████████████████████| 11/11 [00:00<00:00, 13.76it/s, loss=4.41e+11]\n"
     ]
    },
    {
     "name": "stdout",
     "output_type": "stream",
     "text": [
      "Epoch 133, Loss: 410982523335.27057, improve:-749393001.0243253\n",
      "distance:20851410.181818184, radius:6705831.376555665, differences:14145578.805262517\n"
     ]
    },
    {
     "name": "stderr",
     "output_type": "stream",
     "text": [
      "Epoch 134/200: 100%|████████████████████████████████████████████████████| 11/11 [00:00<00:00, 14.96it/s, loss=3.86e+11]\n"
     ]
    },
    {
     "name": "stdout",
     "output_type": "stream",
     "text": [
      "Epoch 134, Loss: 410295191383.29626, improve:687331951.9743431\n",
      "distance:20784762.363636363, radius:6705831.376555665, differences:14078930.987080699\n"
     ]
    },
    {
     "name": "stderr",
     "output_type": "stream",
     "text": [
      "Epoch 135/200: 100%|████████████████████████████████████████████████████| 11/11 [00:00<00:00, 15.04it/s, loss=4.75e+11]\n"
     ]
    },
    {
     "name": "stdout",
     "output_type": "stream",
     "text": [
      "Epoch 135, Loss: 410336780236.8049, improve:-41588853.50861151\n",
      "distance:20912958.0, radius:6705831.376555665, differences:14207126.623444336\n"
     ]
    },
    {
     "name": "stderr",
     "output_type": "stream",
     "text": [
      "Epoch 136/200: 100%|████████████████████████████████████████████████████| 11/11 [00:00<00:00, 14.99it/s, loss=4.52e+11]\n"
     ]
    },
    {
     "name": "stdout",
     "output_type": "stream",
     "text": [
      "Epoch 136, Loss: 410288527872.41205, improve:48252364.39284446\n",
      "distance:20849031.181818184, radius:6705831.3765556635, differences:14143199.805262517\n"
     ]
    },
    {
     "name": "stderr",
     "output_type": "stream",
     "text": [
      "Epoch 137/200: 100%|████████████████████████████████████████████████████| 11/11 [00:00<00:00, 15.02it/s, loss=4.56e+11]\n"
     ]
    },
    {
     "name": "stdout",
     "output_type": "stream",
     "text": [
      "Epoch 137, Loss: 410250259790.6262, improve:38268081.785777695\n",
      "distance:20769293.09090909, radius:6705831.376555665, differences:14063461.714353425\n"
     ]
    },
    {
     "name": "stderr",
     "output_type": "stream",
     "text": [
      "Epoch 138/200: 100%|████████████████████████████████████████████████████| 11/11 [00:00<00:00, 15.27it/s, loss=3.54e+11]\n"
     ]
    },
    {
     "name": "stdout",
     "output_type": "stream",
     "text": [
      "Epoch 138, Loss: 410833581207.9059, improve:-583321417.279652\n",
      "distance:20853985.545454547, radius:6705831.376555665, differences:14148154.16889888\n"
     ]
    },
    {
     "name": "stderr",
     "output_type": "stream",
     "text": [
      "Epoch 139/200: 100%|████████████████████████████████████████████████████| 11/11 [00:00<00:00, 15.29it/s, loss=4.61e+11]\n"
     ]
    },
    {
     "name": "stdout",
     "output_type": "stream",
     "text": [
      "Epoch 139, Loss: 410858534212.1614, improve:-24953004.25550426\n",
      "distance:20936230.727272727, radius:6705831.376555665, differences:14230399.350717062\n"
     ]
    },
    {
     "name": "stderr",
     "output_type": "stream",
     "text": [
      "Epoch 140/200: 100%|████████████████████████████████████████████████████| 11/11 [00:00<00:00, 15.37it/s, loss=3.61e+11]\n"
     ]
    },
    {
     "name": "stdout",
     "output_type": "stream",
     "text": [
      "Epoch 140, Loss: 410641656231.6114, improve:216877980.54998225\n",
      "distance:20866448.0, radius:6705831.376555665, differences:14160616.623444336\n"
     ]
    },
    {
     "name": "stderr",
     "output_type": "stream",
     "text": [
      "Epoch 141/200: 100%|████████████████████████████████████████████████████| 11/11 [00:00<00:00, 15.23it/s, loss=5.21e+11]\n"
     ]
    },
    {
     "name": "stdout",
     "output_type": "stream",
     "text": [
      "Epoch 141, Loss: 410972361175.0078, improve:-330704943.3963956\n",
      "distance:20750246.181818184, radius:6705831.376555665, differences:14044414.805262517\n"
     ]
    },
    {
     "name": "stderr",
     "output_type": "stream",
     "text": [
      "Epoch 142/200: 100%|█████████████████████████████████████████████████████| 11/11 [00:00<00:00, 15.33it/s, loss=3.3e+11]\n"
     ]
    },
    {
     "name": "stdout",
     "output_type": "stream",
     "text": [
      "Epoch 142, Loss: 411006349823.5777, improve:-33988648.56986861\n",
      "distance:20796346.0, radius:6705831.376555666, differences:14090514.623444336\n"
     ]
    },
    {
     "name": "stderr",
     "output_type": "stream",
     "text": [
      "Epoch 143/200: 100%|████████████████████████████████████████████████████| 11/11 [00:00<00:00, 15.40it/s, loss=3.37e+11]\n"
     ]
    },
    {
     "name": "stdout",
     "output_type": "stream",
     "text": [
      "Epoch 143, Loss: 410031498390.6035, improve:974851432.9741654\n",
      "distance:20908465.727272727, radius:6705831.376555665, differences:14202634.350717062\n"
     ]
    },
    {
     "name": "stderr",
     "output_type": "stream",
     "text": [
      "Epoch 144/200: 100%|████████████████████████████████████████████████████| 11/11 [00:00<00:00, 15.36it/s, loss=4.99e+11]\n"
     ]
    },
    {
     "name": "stdout",
     "output_type": "stream",
     "text": [
      "Epoch 144, Loss: 410292714682.7217, improve:-261216292.11816406\n",
      "distance:20779245.545454547, radius:6705831.376555665, differences:14073414.16889888\n"
     ]
    },
    {
     "name": "stderr",
     "output_type": "stream",
     "text": [
      "Epoch 145/200: 100%|████████████████████████████████████████████████████| 11/11 [00:00<00:00, 15.39it/s, loss=3.65e+11]\n"
     ]
    },
    {
     "name": "stdout",
     "output_type": "stream",
     "text": [
      "Epoch 145, Loss: 410973200867.1856, improve:-680486184.463956\n",
      "distance:20845420.90909091, radius:6705831.376555666, differences:14139589.532535244\n"
     ]
    },
    {
     "name": "stderr",
     "output_type": "stream",
     "text": [
      "Epoch 146/200: 100%|████████████████████████████████████████████████████| 11/11 [00:00<00:00, 15.38it/s, loss=4.68e+11]\n"
     ]
    },
    {
     "name": "stdout",
     "output_type": "stream",
     "text": [
      "Epoch 146, Loss: 409998970545.6766, improve:974230321.5090554\n",
      "distance:20874336.454545453, radius:6705831.376555665, differences:14168505.077989789\n"
     ]
    },
    {
     "name": "stderr",
     "output_type": "stream",
     "text": [
      "Epoch 147/200: 100%|█████████████████████████████████████████████████████| 11/11 [00:00<00:00, 15.41it/s, loss=3.8e+11]\n"
     ]
    },
    {
     "name": "stdout",
     "output_type": "stream",
     "text": [
      "Epoch 147, Loss: 411350837029.16675, improve:-1351866483.4901457\n",
      "distance:20741064.727272727, radius:6705831.376555665, differences:14035233.350717062\n"
     ]
    },
    {
     "name": "stderr",
     "output_type": "stream",
     "text": [
      "Epoch 148/200: 100%|████████████████████████████████████████████████████| 11/11 [00:00<00:00, 15.37it/s, loss=4.62e+11]\n"
     ]
    },
    {
     "name": "stdout",
     "output_type": "stream",
     "text": [
      "Epoch 148, Loss: 410193245935.5414, improve:1157591093.625355\n",
      "distance:20822844.818181816, radius:6705831.376555665, differences:14117013.441626154\n"
     ]
    },
    {
     "name": "stderr",
     "output_type": "stream",
     "text": [
      "Epoch 149/200: 100%|████████████████████████████████████████████████████| 11/11 [00:00<00:00, 15.37it/s, loss=4.07e+11]\n"
     ]
    },
    {
     "name": "stdout",
     "output_type": "stream",
     "text": [
      "Epoch 149, Loss: 410273097872.8679, improve:-79851937.32652698\n",
      "distance:20877870.90909091, radius:6705831.376555665, differences:14172039.532535244\n"
     ]
    },
    {
     "name": "stderr",
     "output_type": "stream",
     "text": [
      "Epoch 150/200: 100%|████████████████████████████████████████████████████| 11/11 [00:00<00:00, 15.37it/s, loss=4.74e+11]\n"
     ]
    },
    {
     "name": "stdout",
     "output_type": "stream",
     "text": [
      "Epoch 150, Loss: 410840998529.7737, improve:-567900656.9058061\n",
      "distance:20786933.272727273, radius:6705831.376555665, differences:14081101.896171607\n"
     ]
    },
    {
     "name": "stderr",
     "output_type": "stream",
     "text": [
      "Epoch 151/200: 100%|████████████████████████████████████████████████████| 11/11 [00:00<00:00, 15.33it/s, loss=3.75e+11]\n"
     ]
    },
    {
     "name": "stdout",
     "output_type": "stream",
     "text": [
      "Epoch 151, Loss: 410167535228.5528, improve:673463301.2208806\n",
      "distance:20795047.272727273, radius:6705831.376555665, differences:14089215.896171607\n"
     ]
    },
    {
     "name": "stderr",
     "output_type": "stream",
     "text": [
      "Epoch 152/200: 100%|████████████████████████████████████████████████████| 11/11 [00:00<00:00, 15.36it/s, loss=4.23e+11]\n"
     ]
    },
    {
     "name": "stdout",
     "output_type": "stream",
     "text": [
      "Epoch 152, Loss: 410432714927.80804, improve:-265179699.25523794\n",
      "distance:20743503.363636363, radius:6705831.376555665, differences:14037671.987080699\n"
     ]
    },
    {
     "name": "stderr",
     "output_type": "stream",
     "text": [
      "Epoch 153/200: 100%|████████████████████████████████████████████████████| 11/11 [00:00<00:00, 15.21it/s, loss=4.34e+11]\n"
     ]
    },
    {
     "name": "stdout",
     "output_type": "stream",
     "text": [
      "Epoch 153, Loss: 410567627969.90063, improve:-134913042.09259588\n",
      "distance:20875385.09090909, radius:6705831.376555665, differences:14169553.714353425\n"
     ]
    },
    {
     "name": "stderr",
     "output_type": "stream",
     "text": [
      "Epoch 154/200: 100%|████████████████████████████████████████████████████| 11/11 [00:00<00:00, 13.58it/s, loss=4.13e+11]\n"
     ]
    },
    {
     "name": "stdout",
     "output_type": "stream",
     "text": [
      "Epoch 154, Loss: 410322270082.5848, improve:245357887.3158736\n",
      "distance:20867488.90909091, radius:6705831.376555666, differences:14161657.532535244\n"
     ]
    },
    {
     "name": "stderr",
     "output_type": "stream",
     "text": [
      "Epoch 155/200: 100%|█████████████████████████████████████████████████████| 11/11 [00:00<00:00, 13.30it/s, loss=4.5e+11]\n"
     ]
    },
    {
     "name": "stdout",
     "output_type": "stream",
     "text": [
      "Epoch 155, Loss: 410279301969.2994, improve:42968113.285422586\n",
      "distance:20886080.363636363, radius:6705831.3765556635, differences:14180248.987080699\n"
     ]
    },
    {
     "name": "stderr",
     "output_type": "stream",
     "text": [
      "Epoch 156/200: 100%|████████████████████████████████████████████████████| 11/11 [00:00<00:00, 15.33it/s, loss=5.23e+11]\n"
     ]
    },
    {
     "name": "stdout",
     "output_type": "stream",
     "text": [
      "Epoch 156, Loss: 410412286571.06287, improve:-132984601.76349431\n",
      "distance:20850540.727272727, radius:6705831.376555665, differences:14144709.350717062\n"
     ]
    },
    {
     "name": "stderr",
     "output_type": "stream",
     "text": [
      "Epoch 157/200: 100%|████████████████████████████████████████████████████| 11/11 [00:00<00:00, 15.32it/s, loss=4.31e+11]\n"
     ]
    },
    {
     "name": "stdout",
     "output_type": "stream",
     "text": [
      "Epoch 157, Loss: 410870558635.0459, improve:-458272063.9830433\n",
      "distance:20854892.818181816, radius:6705831.376555666, differences:14149061.441626154\n"
     ]
    },
    {
     "name": "stderr",
     "output_type": "stream",
     "text": [
      "Epoch 158/200: 100%|████████████████████████████████████████████████████| 11/11 [00:00<00:00, 15.35it/s, loss=3.99e+11]\n"
     ]
    },
    {
     "name": "stdout",
     "output_type": "stream",
     "text": [
      "Epoch 158, Loss: 410528957672.65375, improve:341600962.39213425\n",
      "distance:20782424.636363637, radius:6705831.376555665, differences:14076593.259807972\n"
     ]
    },
    {
     "name": "stderr",
     "output_type": "stream",
     "text": [
      "Epoch 159/200: 100%|████████████████████████████████████████████████████| 11/11 [00:00<00:00, 15.34it/s, loss=4.03e+11]\n"
     ]
    },
    {
     "name": "stdout",
     "output_type": "stream",
     "text": [
      "Epoch 159, Loss: 410197412970.18964, improve:331544702.4641335\n",
      "distance:20897350.636363637, radius:6705831.3765556635, differences:14191519.259807972\n"
     ]
    },
    {
     "name": "stderr",
     "output_type": "stream",
     "text": [
      "Epoch 160/200: 100%|████████████████████████████████████████████████████| 11/11 [00:00<00:00, 15.43it/s, loss=5.02e+11]\n"
     ]
    },
    {
     "name": "stdout",
     "output_type": "stream",
     "text": [
      "Epoch 160, Loss: 410390010457.6371, improve:-192597487.4474432\n",
      "distance:20858205.272727273, radius:6705831.376555665, differences:14152373.896171607\n"
     ]
    },
    {
     "name": "stderr",
     "output_type": "stream",
     "text": [
      "Epoch 161/200: 100%|████████████████████████████████████████████████████| 11/11 [00:00<00:00, 15.34it/s, loss=4.56e+11]\n"
     ]
    },
    {
     "name": "stdout",
     "output_type": "stream",
     "text": [
      "Epoch 161, Loss: 410075189519.41815, improve:314820938.21892756\n",
      "distance:20863645.272727273, radius:6705831.376555666, differences:14157813.896171607\n"
     ]
    },
    {
     "name": "stderr",
     "output_type": "stream",
     "text": [
      "Epoch 162/200: 100%|████████████████████████████████████████████████████| 11/11 [00:00<00:00, 15.28it/s, loss=3.99e+11]\n"
     ]
    },
    {
     "name": "stdout",
     "output_type": "stream",
     "text": [
      "Epoch 162, Loss: 410408226185.59076, improve:-333036666.17258525\n",
      "distance:20783397.272727273, radius:6705831.376555665, differences:14077565.896171607\n"
     ]
    },
    {
     "name": "stderr",
     "output_type": "stream",
     "text": [
      "Epoch 163/200: 100%|████████████████████████████████████████████████████| 11/11 [00:00<00:00, 15.42it/s, loss=3.31e+11]\n"
     ]
    },
    {
     "name": "stdout",
     "output_type": "stream",
     "text": [
      "Epoch 163, Loss: 410265903160.5453, improve:142323025.04545453\n",
      "distance:20726410.0, radius:6705831.376555665, differences:14020578.623444336\n"
     ]
    },
    {
     "name": "stderr",
     "output_type": "stream",
     "text": [
      "Epoch 164/200: 100%|████████████████████████████████████████████████████| 11/11 [00:00<00:00, 15.36it/s, loss=5.18e+11]\n"
     ]
    },
    {
     "name": "stdout",
     "output_type": "stream",
     "text": [
      "Epoch 164, Loss: 410379345507.3381, improve:-113442346.79279119\n",
      "distance:20878966.181818184, radius:6705831.376555665, differences:14173134.805262517\n"
     ]
    },
    {
     "name": "stderr",
     "output_type": "stream",
     "text": [
      "Epoch 165/200: 100%|████████████████████████████████████████████████████| 11/11 [00:00<00:00, 15.38it/s, loss=4.55e+11]\n"
     ]
    },
    {
     "name": "stdout",
     "output_type": "stream",
     "text": [
      "Epoch 165, Loss: 410244934423.1931, improve:134411084.14497516\n",
      "distance:20933209.181818184, radius:6705831.376555665, differences:14227377.805262517\n"
     ]
    },
    {
     "name": "stderr",
     "output_type": "stream",
     "text": [
      "Epoch 166/200: 100%|█████████████████████████████████████████████████████| 11/11 [00:00<00:00, 15.44it/s, loss=3.8e+11]\n"
     ]
    },
    {
     "name": "stdout",
     "output_type": "stream",
     "text": [
      "Epoch 166, Loss: 409985931326.0348, improve:259003097.1582919\n",
      "distance:20856937.636363637, radius:6705831.376555665, differences:14151106.259807972\n"
     ]
    },
    {
     "name": "stderr",
     "output_type": "stream",
     "text": [
      "Epoch 167/200: 100%|████████████████████████████████████████████████████| 11/11 [00:00<00:00, 15.28it/s, loss=4.31e+11]\n"
     ]
    },
    {
     "name": "stdout",
     "output_type": "stream",
     "text": [
      "Epoch 167, Loss: 410287398186.5248, improve:-301466860.48996806\n",
      "distance:20813285.454545453, radius:6705831.376555665, differences:14107454.077989789\n"
     ]
    },
    {
     "name": "stderr",
     "output_type": "stream",
     "text": [
      "Epoch 168/200: 100%|████████████████████████████████████████████████████| 11/11 [00:00<00:00, 15.27it/s, loss=3.76e+11]\n"
     ]
    },
    {
     "name": "stdout",
     "output_type": "stream",
     "text": [
      "Epoch 168, Loss: 410998842934.6646, improve:-711444748.1398259\n",
      "distance:20747250.0, radius:6705831.376555665, differences:14041418.623444336\n"
     ]
    },
    {
     "name": "stderr",
     "output_type": "stream",
     "text": [
      "Epoch 169/200: 100%|████████████████████████████████████████████████████| 11/11 [00:00<00:00, 15.39it/s, loss=3.87e+11]\n"
     ]
    },
    {
     "name": "stdout",
     "output_type": "stream",
     "text": [
      "Epoch 169, Loss: 410538876219.55853, improve:459966715.1060902\n",
      "distance:20820097.0, radius:6705831.376555666, differences:14114265.623444336\n"
     ]
    },
    {
     "name": "stderr",
     "output_type": "stream",
     "text": [
      "Epoch 170/200: 100%|████████████████████████████████████████████████████| 11/11 [00:00<00:00, 15.40it/s, loss=4.04e+11]\n"
     ]
    },
    {
     "name": "stdout",
     "output_type": "stream",
     "text": [
      "Epoch 170, Loss: 410176701915.17084, improve:362174304.3876953\n",
      "distance:20821744.181818184, radius:6705831.376555665, differences:14115912.805262517\n"
     ]
    },
    {
     "name": "stderr",
     "output_type": "stream",
     "text": [
      "Epoch 171/200: 100%|████████████████████████████████████████████████████| 11/11 [00:00<00:00, 15.37it/s, loss=3.86e+11]\n"
     ]
    },
    {
     "name": "stdout",
     "output_type": "stream",
     "text": [
      "Epoch 171, Loss: 410648603728.5703, improve:-471901813.3995028\n",
      "distance:20901632.454545453, radius:6705831.376555665, differences:14195801.077989789\n"
     ]
    },
    {
     "name": "stderr",
     "output_type": "stream",
     "text": [
      "Epoch 172/200: 100%|████████████████████████████████████████████████████| 11/11 [00:00<00:00, 15.36it/s, loss=4.49e+11]\n"
     ]
    },
    {
     "name": "stdout",
     "output_type": "stream",
     "text": [
      "Epoch 172, Loss: 410491654903.1962, improve:156948825.37411222\n",
      "distance:20901832.181818184, radius:6705831.376555665, differences:14196000.805262517\n"
     ]
    },
    {
     "name": "stderr",
     "output_type": "stream",
     "text": [
      "Epoch 173/200: 100%|████████████████████████████████████████████████████| 11/11 [00:00<00:00, 15.38it/s, loss=4.35e+11]\n"
     ]
    },
    {
     "name": "stdout",
     "output_type": "stream",
     "text": [
      "Epoch 173, Loss: 410576512689.1052, improve:-84857785.90900213\n",
      "distance:20717362.727272727, radius:6705831.376555665, differences:14011531.350717062\n"
     ]
    },
    {
     "name": "stderr",
     "output_type": "stream",
     "text": [
      "Epoch 174/200: 100%|████████████████████████████████████████████████████| 11/11 [00:00<00:00, 15.40it/s, loss=3.08e+11]\n"
     ]
    },
    {
     "name": "stdout",
     "output_type": "stream",
     "text": [
      "Epoch 174, Loss: 410346823798.72205, improve:229688890.38316762\n",
      "distance:20845632.727272727, radius:6705831.376555665, differences:14139801.350717062\n"
     ]
    },
    {
     "name": "stderr",
     "output_type": "stream",
     "text": [
      "Epoch 175/200: 100%|████████████████████████████████████████████████████| 11/11 [00:00<00:00, 15.30it/s, loss=3.92e+11]\n"
     ]
    },
    {
     "name": "stdout",
     "output_type": "stream",
     "text": [
      "Epoch 175, Loss: 411289142021.55786, improve:-942318222.8358487\n",
      "distance:21039819.454545453, radius:6705831.376555665, differences:14333988.077989789\n"
     ]
    },
    {
     "name": "stderr",
     "output_type": "stream",
     "text": [
      "Epoch 176/200: 100%|████████████████████████████████████████████████████| 11/11 [00:00<00:00, 15.41it/s, loss=3.46e+11]\n"
     ]
    },
    {
     "name": "stdout",
     "output_type": "stream",
     "text": [
      "Epoch 176, Loss: 410084690226.5364, improve:1204451795.0214844\n",
      "distance:21027558.90909091, radius:6705831.376555665, differences:14321727.532535244\n"
     ]
    },
    {
     "name": "stderr",
     "output_type": "stream",
     "text": [
      "Epoch 177/200: 100%|████████████████████████████████████████████████████| 11/11 [00:00<00:00, 15.37it/s, loss=3.89e+11]\n"
     ]
    },
    {
     "name": "stdout",
     "output_type": "stream",
     "text": [
      "Epoch 177, Loss: 410519173520.4675, improve:-434483293.93110794\n",
      "distance:20781388.0, radius:6705831.3765556635, differences:14075556.623444336\n"
     ]
    },
    {
     "name": "stderr",
     "output_type": "stream",
     "text": [
      "Epoch 178/200: 100%|████████████████████████████████████████████████████| 11/11 [00:00<00:00, 15.40it/s, loss=5.07e+11]\n"
     ]
    },
    {
     "name": "stdout",
     "output_type": "stream",
     "text": [
      "Epoch 178, Loss: 410492909789.5182, improve:26263730.949307527\n",
      "distance:20655868.727272727, radius:6705831.3765556635, differences:13950037.350717062\n"
     ]
    },
    {
     "name": "stderr",
     "output_type": "stream",
     "text": [
      "Epoch 179/200: 100%|█████████████████████████████████████████████████████| 11/11 [00:00<00:00, 15.37it/s, loss=3.4e+11]\n"
     ]
    },
    {
     "name": "stdout",
     "output_type": "stream",
     "text": [
      "Epoch 179, Loss: 410535038922.2175, improve:-42129132.69930753\n",
      "distance:20846093.818181816, radius:6705831.376555665, differences:14140262.441626154\n"
     ]
    },
    {
     "name": "stderr",
     "output_type": "stream",
     "text": [
      "Epoch 180/200: 100%|████████████████████████████████████████████████████| 11/11 [00:00<00:00, 15.25it/s, loss=3.64e+11]\n"
     ]
    },
    {
     "name": "stdout",
     "output_type": "stream",
     "text": [
      "Epoch 180, Loss: 409744631785.0178, improve:790407137.1996627\n",
      "distance:20886908.727272727, radius:6705831.376555665, differences:14181077.350717062\n"
     ]
    },
    {
     "name": "stderr",
     "output_type": "stream",
     "text": [
      "Epoch 181/200: 100%|████████████████████████████████████████████████████| 11/11 [00:00<00:00, 15.32it/s, loss=5.65e+11]\n"
     ]
    },
    {
     "name": "stdout",
     "output_type": "stream",
     "text": [
      "Epoch 181, Loss: 411476088612.2664, improve:-1731456827.2485795\n",
      "distance:20723858.90909091, radius:6705831.376555665, differences:14018027.532535244\n"
     ]
    },
    {
     "name": "stderr",
     "output_type": "stream",
     "text": [
      "Epoch 182/200: 100%|████████████████████████████████████████████████████| 11/11 [00:00<00:00, 15.35it/s, loss=4.25e+11]\n"
     ]
    },
    {
     "name": "stdout",
     "output_type": "stream",
     "text": [
      "Epoch 182, Loss: 410635207475.8732, improve:840881136.3931996\n",
      "distance:20746142.727272727, radius:6705831.3765556635, differences:14040311.350717062\n"
     ]
    },
    {
     "name": "stderr",
     "output_type": "stream",
     "text": [
      "Epoch 183/200: 100%|████████████████████████████████████████████████████| 11/11 [00:00<00:00, 15.38it/s, loss=4.33e+11]\n"
     ]
    },
    {
     "name": "stdout",
     "output_type": "stream",
     "text": [
      "Epoch 183, Loss: 410445359594.0356, improve:189847881.83762428\n",
      "distance:20929100.0, radius:6705831.376555665, differences:14223268.623444336\n"
     ]
    },
    {
     "name": "stderr",
     "output_type": "stream",
     "text": [
      "Epoch 184/200: 100%|████████████████████████████████████████████████████| 11/11 [00:00<00:00, 15.38it/s, loss=4.94e+11]\n"
     ]
    },
    {
     "name": "stdout",
     "output_type": "stream",
     "text": [
      "Epoch 184, Loss: 410170707450.5608, improve:274652143.47478694\n",
      "distance:20848371.363636363, radius:6705831.376555665, differences:14142539.987080699\n"
     ]
    },
    {
     "name": "stderr",
     "output_type": "stream",
     "text": [
      "Epoch 185/200: 100%|████████████████████████████████████████████████████| 11/11 [00:00<00:00, 15.31it/s, loss=5.91e+11]\n"
     ]
    },
    {
     "name": "stdout",
     "output_type": "stream",
     "text": [
      "Epoch 185, Loss: 410518030217.17896, improve:-347322766.61816406\n",
      "distance:20783906.181818184, radius:6705831.376555665, differences:14078074.805262517\n"
     ]
    },
    {
     "name": "stderr",
     "output_type": "stream",
     "text": [
      "Epoch 186/200: 100%|████████████████████████████████████████████████████| 11/11 [00:00<00:00, 15.39it/s, loss=3.26e+11]\n"
     ]
    },
    {
     "name": "stdout",
     "output_type": "stream",
     "text": [
      "Epoch 186, Loss: 410221278137.3262, improve:296752079.8528054\n",
      "distance:20813645.363636363, radius:6705831.376555666, differences:14107813.987080699\n"
     ]
    },
    {
     "name": "stderr",
     "output_type": "stream",
     "text": [
      "Epoch 187/200: 100%|████████████████████████████████████████████████████| 11/11 [00:00<00:00, 15.41it/s, loss=4.22e+11]\n"
     ]
    },
    {
     "name": "stdout",
     "output_type": "stream",
     "text": [
      "Epoch 187, Loss: 410140252159.82367, improve:81025977.5024858\n",
      "distance:20899490.545454547, radius:6705831.376555666, differences:14193659.16889888\n"
     ]
    },
    {
     "name": "stderr",
     "output_type": "stream",
     "text": [
      "Epoch 188/200: 100%|████████████████████████████████████████████████████| 11/11 [00:00<00:00, 15.37it/s, loss=5.94e+11]\n"
     ]
    },
    {
     "name": "stdout",
     "output_type": "stream",
     "text": [
      "Epoch 188, Loss: 410545728744.77655, improve:-405476584.9528587\n",
      "distance:20835064.272727273, radius:6705831.376555665, differences:14129232.896171607\n"
     ]
    },
    {
     "name": "stderr",
     "output_type": "stream",
     "text": [
      "Epoch 189/200: 100%|████████████████████████████████████████████████████| 11/11 [00:00<00:00, 15.38it/s, loss=4.12e+11]\n"
     ]
    },
    {
     "name": "stdout",
     "output_type": "stream",
     "text": [
      "Epoch 189, Loss: 409958217347.51, improve:587511397.2665128\n",
      "distance:20769314.0, radius:6705831.376555665, differences:14063482.623444336\n"
     ]
    },
    {
     "name": "stderr",
     "output_type": "stream",
     "text": [
      "Epoch 190/200: 100%|████████████████████████████████████████████████████| 11/11 [00:00<00:00, 15.41it/s, loss=5.11e+11]\n"
     ]
    },
    {
     "name": "stdout",
     "output_type": "stream",
     "text": [
      "Epoch 190, Loss: 410175602412.21216, improve:-217385064.70214844\n",
      "distance:20904722.90909091, radius:6705831.376555666, differences:14198891.532535244\n"
     ]
    },
    {
     "name": "stderr",
     "output_type": "stream",
     "text": [
      "Epoch 191/200: 100%|████████████████████████████████████████████████████| 11/11 [00:00<00:00, 15.37it/s, loss=3.89e+11]\n"
     ]
    },
    {
     "name": "stdout",
     "output_type": "stream",
     "text": [
      "Epoch 191, Loss: 410611745445.8209, improve:-436143033.60875356\n",
      "distance:21001058.90909091, radius:6705831.376555665, differences:14295227.532535244\n"
     ]
    },
    {
     "name": "stderr",
     "output_type": "stream",
     "text": [
      "Epoch 192/200: 100%|████████████████████████████████████████████████████| 11/11 [00:00<00:00, 15.37it/s, loss=3.22e+11]\n"
     ]
    },
    {
     "name": "stdout",
     "output_type": "stream",
     "text": [
      "Epoch 192, Loss: 411120388716.4453, improve:-508643270.62437856\n",
      "distance:20896716.727272727, radius:6705831.376555665, differences:14190885.350717062\n"
     ]
    },
    {
     "name": "stderr",
     "output_type": "stream",
     "text": [
      "Epoch 193/200: 100%|████████████████████████████████████████████████████| 11/11 [00:00<00:00, 15.39it/s, loss=3.81e+11]\n"
     ]
    },
    {
     "name": "stdout",
     "output_type": "stream",
     "text": [
      "Epoch 193, Loss: 410167423439.5676, improve:952965276.8776634\n",
      "distance:20789304.90909091, radius:6705831.376555666, differences:14083473.532535244\n"
     ]
    },
    {
     "name": "stderr",
     "output_type": "stream",
     "text": [
      "Epoch 194/200: 100%|████████████████████████████████████████████████████| 11/11 [00:00<00:00, 15.34it/s, loss=4.39e+11]\n"
     ]
    },
    {
     "name": "stdout",
     "output_type": "stream",
     "text": [
      "Epoch 194, Loss: 410558056109.1834, improve:-390632669.61576706\n",
      "distance:20773374.90909091, radius:6705831.376555665, differences:14067543.532535244\n"
     ]
    },
    {
     "name": "stderr",
     "output_type": "stream",
     "text": [
      "Epoch 195/200: 100%|████████████████████████████████████████████████████| 11/11 [00:00<00:00, 15.41it/s, loss=4.15e+11]\n"
     ]
    },
    {
     "name": "stdout",
     "output_type": "stream",
     "text": [
      "Epoch 195, Loss: 410415762269.44916, improve:142293839.73428622\n",
      "distance:20844969.181818184, radius:6705831.376555666, differences:14139137.805262517\n"
     ]
    },
    {
     "name": "stderr",
     "output_type": "stream",
     "text": [
      "Epoch 196/200: 100%|████████████████████████████████████████████████████| 11/11 [00:00<00:00, 15.31it/s, loss=3.91e+11]\n"
     ]
    },
    {
     "name": "stdout",
     "output_type": "stream",
     "text": [
      "Epoch 196, Loss: 410802029077.6711, improve:-386266808.221946\n",
      "distance:20767081.363636363, radius:6705831.376555665, differences:14061249.987080699\n"
     ]
    },
    {
     "name": "stderr",
     "output_type": "stream",
     "text": [
      "Epoch 197/200: 100%|████████████████████████████████████████████████████| 11/11 [00:00<00:00, 15.42it/s, loss=4.76e+11]\n"
     ]
    },
    {
     "name": "stdout",
     "output_type": "stream",
     "text": [
      "Epoch 197, Loss: 410753999969.24536, improve:48029108.42569247\n",
      "distance:20756194.90909091, radius:6705831.376555665, differences:14050363.532535244\n"
     ]
    },
    {
     "name": "stderr",
     "output_type": "stream",
     "text": [
      "Epoch 198/200: 100%|████████████████████████████████████████████████████| 11/11 [00:00<00:00, 15.32it/s, loss=3.73e+11]\n"
     ]
    },
    {
     "name": "stdout",
     "output_type": "stream",
     "text": [
      "Epoch 198, Loss: 410391599635.3901, improve:362400333.8552912\n",
      "distance:20858576.636363637, radius:6705831.376555665, differences:14152745.259807972\n"
     ]
    },
    {
     "name": "stderr",
     "output_type": "stream",
     "text": [
      "Epoch 199/200: 100%|████████████████████████████████████████████████████| 11/11 [00:00<00:00, 15.41it/s, loss=3.63e+11]\n"
     ]
    },
    {
     "name": "stdout",
     "output_type": "stream",
     "text": [
      "Epoch 199, Loss: 410693876824.8022, improve:-302277189.4121094\n",
      "distance:21028292.545454547, radius:6705831.3765556635, differences:14322461.16889888\n"
     ]
    },
    {
     "name": "stderr",
     "output_type": "stream",
     "text": [
      "Epoch 200/200: 100%|████████████████████████████████████████████████████| 11/11 [00:00<00:00, 15.42it/s, loss=4.61e+11]"
     ]
    },
    {
     "name": "stdout",
     "output_type": "stream",
     "text": [
      "Epoch 200, Loss: 410310226358.09515, improve:383650466.70703125\n",
      "distance:20927055.636363637, radius:6705831.376555666, differences:14221224.259807972\n"
     ]
    },
    {
     "name": "stderr",
     "output_type": "stream",
     "text": [
      "\n"
     ]
    }
   ],
   "source": [
    "# Training the model\n",
    "# Loss\n",
    "from torch.optim.lr_scheduler import StepLR\n",
    "\n",
    "# Set the device to CUDA if available\n",
    "device = torch.device(\"cuda\" if torch.cuda.is_available() else \"cpu\")\n",
    "print(\"Using device:\", device)\n",
    "\n",
    "# top_values, top_indices = torch.topk(nball_radius, 10)\n",
    "# top_indices = top_indices.to(device)\n",
    "\n",
    "def ball_inclution_loss_soft_margin(word_embeddings, centers, radius):\n",
    "    distances = torch.norm(word_embeddings - centers, dim=1)\n",
    "    soft_margin = torch.clamp(distances - radius, min=0)\n",
    "    loss = torch.mean(soft_margin ** 2)\n",
    "    return loss, distances\n",
    " \n",
    "\n",
    "class CustomBertModel(nn.Module):\n",
    "    def __init__(self, bert_model_name):\n",
    "        super(CustomBertModel, self).__init__()\n",
    "        self.bert = BertModel.from_pretrained(bert_model_name)\n",
    "        self.projection = nn.Linear(self.bert.config.hidden_size, 160)\n",
    "        \n",
    "    def forward(self, input_ids, attention_mask):\n",
    "        outputs = self.bert(input_ids=input_ids, attention_mask=attention_mask)\n",
    "        hidden_states = outputs.last_hidden_state\n",
    "        projected_hidden_states = self.projection(hidden_states)\n",
    "        return projected_hidden_states\n",
    "\n",
    "\n",
    "def ball_inclusion_loss(word_embeddings, centers, radius, labels):\n",
    "    distances = torch.norm(word_embeddings - centers, dim=1)\n",
    "    # Compute a binary mask for embeddings within the ball radius\n",
    "    within_ball = (distances <= radius).float()\n",
    "    loss = F.binary_cross_entropy(within_ball, labels.float(), reduction='mean')\n",
    "    return loss\n",
    "\n",
    "def ball_inclusion_loss_cosin(word_embeddings, centers, radius, labels):\n",
    "    norm_center = torch.norm(centers, p=2, dim=1)\n",
    "    norm_word = torch.norm(word_embeddings, p=2, dim=1)\n",
    "    xc = F.cosine_similarity(centers, word_embeddings)\n",
    "    distances = norm_center**2 + norm_word**2 - 2 * xc * norm_center * norm_word\n",
    "    # Compute a binary mask for embeddings within the ball radius\n",
    "    within_ball = (distances <= radius**2).float()\n",
    "    loss = F.binary_cross_entropy(within_ball, labels.float(), reduction='mean')\n",
    "    return loss\n",
    "\n",
    "def ball_inclusion_loss_old(word_embeddings, centers, radius, labels):\n",
    "    distances = torch.norm(word_embeddings - centers, dim=1)\n",
    "    # Compute the loss for each word embedding\n",
    "    losses = F.relu(distances - radius)\n",
    "    # Aggregate the losses into a single scalar value\n",
    "    loss = losses.mean()\n",
    "    return loss\n",
    "\n",
    "def ball_distances(word_embeddings, centers, radius, labels):\n",
    "    distances = torch.norm(word_embeddings - centers, dim=1)\n",
    "    loss = distances.mean()\n",
    "    return loss\n",
    "\n",
    "def ball_inclution_loss_soft_margin(word_embeddings, centers, radius):\n",
    "    distances = torch.norm(word_embeddings - centers, dim=1)\n",
    "    soft_margin = torch.clamp(distances - radius, min=0)\n",
    "    loss = torch.mean(soft_margin ** 2)\n",
    "    return loss, distances\n",
    "    \n",
    "# Model setting\n",
    "# model = BertModel.from_pretrained(model_name).to(device)\n",
    "model = CustomBertModel(model_name).to(device)\n",
    "model.train() \n",
    "sense_embeddings = sense_embeddings.to(device)  # Move sense embeddings to GPU\n",
    "loss_fn = ball_inclution_loss_soft_margin\n",
    "optimizer = optim.Adam([\n",
    "    {'params': model.parameters()}\n",
    "    # {'params': sense_embeddings},\n",
    "    # {'params': nball_radius}\n",
    "], lr=0.1)\n",
    "\n",
    "scheduler = StepLR(optimizer, step_size=50, gamma=0.1)\n",
    "\n",
    "\n",
    "# Training loop\n",
    "num_epochs = 200\n",
    "last_loss = 0\n",
    "for epoch in range(num_epochs):\n",
    "    total_loss = 0\n",
    "    total_dis = 0\n",
    "    total_radius = 0\n",
    "    progress_bar = tqdm(dataloader, desc=f'Epoch {epoch+1}/{num_epochs}', leave=True, position=0)\n",
    "    for batch in progress_bar:\n",
    "        # Send batch data to the device (GPU)\n",
    "        batch_input_ids, batch_attention_masks, batch_word_indices, batch_sense_indices = [b.to(device) for b in batch]\n",
    "\n",
    "        optimizer.zero_grad()\n",
    "        \n",
    "        # Forward pass\n",
    "        hidden_states = model(input_ids=batch_input_ids, attention_mask=batch_attention_masks)\n",
    "        # hidden_states = outputs.last_hidden_state\n",
    "        \n",
    "        # Retrieve embeddings for specific word indices\n",
    "        word_embeddings = torch.stack([hidden_states[i, idx, :] for i, idx in enumerate(batch_word_indices)])\n",
    "        \n",
    "        # Retrieve the corresponding sense embeddings\n",
    "        center = sense_embeddings[batch_sense_indices].to(dtype=torch.float32).to(device)\n",
    "        radius = nball_radius[batch_sense_indices].to(device)\n",
    "\n",
    "        # Labels tensor indicating that embeddings should be inside the ball\n",
    "        labels = torch.ones(word_embeddings.size(0), device=device, requires_grad=True)\n",
    "        # Calculate loss\n",
    "            \n",
    "        loss, dis = loss_fn(word_embeddings, center, radius)\n",
    "        \n",
    "        # Backward pass\n",
    "        loss.backward()\n",
    "        optimizer.step()\n",
    "        \n",
    "        total_loss += loss.item()\n",
    "        total_dis += dis.sum().item()\n",
    "        total_radius += radius.sum().item()\n",
    "        progress_bar.set_postfix(loss=loss.item())\n",
    "\n",
    "    \n",
    "    print(f'Epoch {epoch + 1}, Loss: {total_loss / len(dataloader)}, improve:{(last_loss - total_loss) / len(dataloader)}')\n",
    "    print(f'distance:{total_dis / len(dataloader)}, radius:{total_radius / len(dataloader)}, differences:{(total_dis-total_radius) / len(dataloader)}')\n",
    "    last_loss = total_loss"
   ]
  },
  {
   "cell_type": "code",
   "execution_count": 24,
   "id": "07f97eed-d5e0-48aa-b1c3-179ba31de98d",
   "metadata": {},
   "outputs": [
    {
     "name": "stderr",
     "output_type": "stream",
     "text": [
      "Evaluation: 100%|██████████████████████████████████████████████████████████████████████| 11/11 [00:00<00:00, 27.73it/s]\n"
     ]
    },
    {
     "name": "stdout",
     "output_type": "stream",
     "text": [
      "Average Evaluation Loss: 74.43181818181819\n",
      "Accuracy: 0.00%\n"
     ]
    }
   ],
   "source": [
    "# Assuming that 'dataloader' for evaluation is available as eval_dataloader\n",
    "\n",
    "# Switch model to evaluation mode\n",
    "eval_dataloader = dataloader\n",
    "model.eval()\n",
    "\n",
    "# Store evaluation results\n",
    "eval_loss = 0\n",
    "accuracy = 0  # Placeholder for accuracy calculation\n",
    "\n",
    "# Disable gradient computation for evaluation to save memory and computations\n",
    "with torch.no_grad():\n",
    "    for batch in tqdm(eval_dataloader, desc=\"Evaluation\", leave=True, position=0):\n",
    "        # Send batch data to the device (GPU)\n",
    "        batch_input_ids, batch_attention_masks, batch_word_indices, batch_sense_indices = [b.to(device) for b in batch]\n",
    "\n",
    "        # Forward pass\n",
    "        hidden_states = model(input_ids=batch_input_ids, attention_mask=batch_attention_masks)\n",
    "        # hidden_states = outputs.last_hidden_state\n",
    "\n",
    "        # # Retrieve embeddings for specific word indices\n",
    "        word_embeddings = torch.stack([hidden_states[i, idx, :] for i, idx in enumerate(batch_word_indices)])\n",
    "        # src = batch_input_ids * math.sqrt(d_model)  # Scale embedding according to the model size\n",
    "        # src = positional_encoding(src)  # Add positional encoding\n",
    "        # output = model(src)\n",
    "\n",
    "        # Retrieve the corresponding sense embeddings and radius\n",
    "        center = sense_embeddings[batch_sense_indices].to(dtype=torch.float32).to(device)\n",
    "        radius = nball_radius[batch_sense_indices].to(device)\n",
    "\n",
    "        # Labels tensor (usually true for all points in eval since you are evaluating the inclusion)\n",
    "        labels = torch.ones(word_embeddings.size(0), device=device)\n",
    "\n",
    "        # Calculate loss\n",
    "        loss = ball_inclusion_loss(word_embeddings, center, radius, labels)\n",
    "        eval_loss += loss.item()\n",
    "\n",
    "        # Optionally calculate accuracy or other metrics\n",
    "        # For instance, if accuracy is based on correct inclusions\n",
    "        predictions = (torch.norm(1e4 * word_embeddings - center, dim=1) <= radius).float()\n",
    "        accuracy += (predictions == labels).float().mean().item()\n",
    "\n",
    "# Compute average loss and accuracy\n",
    "eval_loss /= len(eval_dataloader)\n",
    "accuracy /= len(eval_dataloader)\n",
    "\n",
    "print(f\"Average Evaluation Loss: {eval_loss}\")\n",
    "print(f\"Accuracy: {accuracy * 100:.2f}%\")"
   ]
  },
  {
   "cell_type": "code",
   "execution_count": null,
   "id": "5e59c4a4-bdc3-487d-a2b1-3836df1a7715",
   "metadata": {
    "scrolled": true
   },
   "outputs": [],
   "source": [
    "# Training the model\n",
    "# Set the device to CUDA if available\n",
    "device = torch.device(\"cuda\" if torch.cuda.is_available() else \"cpu\")\n",
    "print(\"Using device:\", device)\n",
    "\n",
    "# Model setting\n",
    "model = BertModel.from_pretrained(model_name).to(device)\n",
    "model.train() \n",
    "sense_embeddings = sense_embeddings.to(device)  # Move sense embeddings to GPU\n",
    "loss_fn = nn.CosineEmbeddingLoss()\n",
    "optimizer = optim.Adam(model.parameters(), lr=2e-5)\n",
    "\n",
    "\n",
    "# Training loop\n",
    "num_epochs = 10\n",
    "for epoch in range(num_epochs):\n",
    "    total_loss = 0\n",
    "    progress_bar = tqdm(dataloader, desc=f'Epoch {epoch+1}/{num_epochs}', leave=True, position=0)\n",
    "    for batch in progress_bar:\n",
    "        # Send batch data to the device (GPU)\n",
    "        batch_input_ids, batch_attention_masks, batch_word_indices, batch_sense_indices = [b.to(device) for b in batch]\n",
    "\n",
    "        optimizer.zero_grad()\n",
    "        \n",
    "        # Forward pass\n",
    "        outputs = model(input_ids=batch_input_ids, attention_mask=batch_attention_masks)\n",
    "        hidden_states = outputs.last_hidden_state\n",
    "        \n",
    "        # Retrieve embeddings for specific word indices\n",
    "        word_embeddings = torch.stack([hidden_states[i, idx, :] for i, idx in enumerate(batch_word_indices)])\n",
    "        \n",
    "        # Retrieve the corresponding sense embeddings\n",
    "        target_embeddings = sense_embeddings[batch_sense_indices]\n",
    "\n",
    "        # Labels tensor indicating that embeddings should be similar\n",
    "        labels = torch.ones(word_embeddings.size(0), device=device)\n",
    "\n",
    "        # Calculate loss\n",
    "        loss = loss_fn(word_embeddings, target_embeddings, labels)\n",
    "        \n",
    "        # Backward pass\n",
    "        loss.backward()\n",
    "        optimizer.step()\n",
    "        \n",
    "        total_loss += loss.item()\n",
    "        progress_bar.set_postfix(loss=loss.item())\n",
    "\n",
    "    print(f'Epoch {epoch + 1}, Loss: {total_loss / len(dataloader)}')"
   ]
  },
  {
   "cell_type": "code",
   "execution_count": null,
   "id": "aa5995a1-c9af-41f6-9420-49ae7a8b0991",
   "metadata": {},
   "outputs": [],
   "source": [
    "columns_to_display = ['formatted_sense_id', 'predicted_sense_id', 'pred_distance', 'target_distance']\n",
    "display(semcor_training[columns_to_display].head())\n",
    "correct_predictions = semcor_training['formatted_sense_id'] == semcor_training['predicted_sense_id']\n",
    "accuracy = correct_predictions.mean()\n",
    "\n",
    "print(f\"Model Accuracy: {accuracy * 100:.2f}%\")"
   ]
  },
  {
   "cell_type": "code",
   "execution_count": 21,
   "id": "f8a9e083-d8c0-4cdf-b7a3-c95e84eb257b",
   "metadata": {},
   "outputs": [
    {
     "data": {
      "text/plain": [
       "torch.return_types.sort(\n",
       "values=tensor([1.0000e-04, 1.0000e-04, 1.0000e-04, 1.0000e-04, 1.0010e-04, 1.0509e-04,\n",
       "        1.0509e-04, 1.0509e-04, 1.0509e-04, 1.0509e-04, 1.0509e-04, 1.0828e-04,\n",
       "        1.0828e-04, 1.0828e-04, 1.1779e-04, 1.1779e-04, 1.1779e-04, 1.1779e-04,\n",
       "        1.1779e-04, 1.1779e-04, 1.1779e-04, 1.1779e-04, 1.1779e-04, 1.1779e-04,\n",
       "        1.1779e-04, 1.1779e-04, 1.1779e-04, 1.1779e-04, 1.1779e-04, 1.1779e-04,\n",
       "        1.2026e-04, 1.2538e-04, 1.3136e-04, 1.3826e-04, 1.4571e-04, 1.4571e-04,\n",
       "        1.4571e-04, 1.4571e-04, 1.5365e-04, 1.5365e-04, 1.6231e-04, 1.6231e-04,\n",
       "        1.6231e-04, 1.7599e-04, 1.9554e-04, 1.9554e-04, 1.9554e-04, 1.9554e-04,\n",
       "        2.0536e-04, 2.0536e-04, 2.3295e-04, 2.3295e-04, 2.3295e-04, 2.3295e-04,\n",
       "        2.3295e-04, 2.3295e-04, 2.3295e-04, 2.3295e-04, 2.3295e-04, 2.3295e-04,\n",
       "        2.3295e-04, 2.3295e-04, 2.3295e-04, 2.3295e-04, 2.3295e-04, 2.3295e-04,\n",
       "        2.3295e-04, 2.3295e-04, 2.3295e-04, 2.3795e-04, 2.4823e-04, 2.5932e-04,\n",
       "        2.7234e-04, 3.2694e-04, 3.2694e-04, 3.2694e-04, 3.2694e-04, 3.3577e-04,\n",
       "        3.5418e-04, 3.5418e-04, 3.5418e-04, 3.5418e-04, 3.7280e-04, 3.7280e-04,\n",
       "        3.7280e-04, 3.7280e-04, 3.8005e-04, 4.0567e-04, 4.1671e-04, 4.1671e-04,\n",
       "        4.3991e-04, 4.3991e-04, 4.9828e-04, 4.9828e-04, 4.9828e-04, 4.9828e-04,\n",
       "        4.9828e-04, 4.9828e-04, 4.9828e-04, 4.9828e-04, 4.9828e-04, 5.1472e-04,\n",
       "        5.3783e-04, 5.6506e-04, 5.6506e-04, 5.6506e-04, 8.4170e-04, 8.4170e-04,\n",
       "        8.4170e-04, 8.4170e-04, 8.4170e-04, 8.4170e-04, 8.4170e-04, 8.4170e-04,\n",
       "        8.4170e-04, 8.4170e-04, 8.4170e-04, 8.4170e-04, 8.4170e-04, 8.4170e-04,\n",
       "        8.6034e-04, 9.0081e-04, 9.4700e-04, 9.9736e-04, 9.9736e-04, 1.0539e-03,\n",
       "        1.0539e-03, 1.1371e-03, 1.2412e-03, 1.2412e-03, 1.2412e-03, 1.2412e-03,\n",
       "        1.2412e-03, 1.2893e-03, 1.3562e-03, 1.3562e-03, 1.5696e-03, 1.5696e-03,\n",
       "        1.5696e-03, 1.5979e-03, 1.6638e-03, 1.7437e-03, 1.8875e-03, 1.8875e-03,\n",
       "        1.8875e-03, 1.8875e-03, 1.8875e-03, 1.9351e-03, 1.9351e-03, 3.2296e-03,\n",
       "        3.2296e-03, 3.2296e-03, 3.2296e-03, 3.2296e-03, 3.2296e-03, 3.2296e-03,\n",
       "        3.2296e-03, 3.3848e-03, 3.3848e-03, 3.3848e-03, 3.3848e-03, 3.3848e-03,\n",
       "        3.4754e-03, 3.7738e-03, 3.7738e-03, 3.7738e-03, 3.8885e-03, 3.8885e-03,\n",
       "        3.8885e-03, 3.8885e-03, 3.8885e-03, 3.8885e-03, 4.1359e-03, 4.1359e-03,\n",
       "        4.1359e-03, 4.1359e-03, 4.1359e-03, 4.1359e-03, 4.1359e-03, 4.1359e-03,\n",
       "        4.1359e-03, 4.1359e-03, 4.1359e-03, 4.1359e-03, 4.1359e-03, 4.1359e-03,\n",
       "        4.1359e-03, 4.1359e-03, 4.1359e-03, 4.1359e-03, 4.1359e-03, 4.1359e-03,\n",
       "        4.1359e-03, 4.1359e-03, 4.1359e-03, 4.1400e-03, 4.1441e-03, 4.2287e-03,\n",
       "        4.4259e-03, 4.6586e-03, 4.6586e-03, 4.9423e-03, 4.9423e-03, 4.9423e-03,\n",
       "        4.9423e-03, 5.3231e-03, 5.3231e-03, 5.7131e-03, 5.7131e-03, 5.7131e-03,\n",
       "        5.7131e-03, 5.7131e-03, 5.8867e-03, 5.8867e-03, 5.8867e-03, 5.8867e-03,\n",
       "        5.8867e-03, 5.8867e-03, 8.4907e-03, 8.4907e-03, 8.4907e-03, 8.6999e-03,\n",
       "        9.1921e-03, 9.1921e-03, 9.1921e-03, 9.1921e-03, 9.1921e-03, 9.1921e-03,\n",
       "        9.1921e-03, 9.1921e-03, 9.1921e-03, 9.2013e-03, 9.7812e-03, 9.7812e-03,\n",
       "        9.7812e-03, 9.7812e-03, 9.7812e-03, 9.7812e-03, 9.7812e-03, 9.7812e-03,\n",
       "        9.7812e-03, 9.9920e-03, 1.0480e-02, 1.0480e-02, 1.0480e-02, 1.0480e-02,\n",
       "        1.0480e-02, 1.0480e-02, 1.1087e-02, 1.1087e-02, 1.1087e-02, 1.1087e-02,\n",
       "        1.1087e-02, 1.1087e-02, 1.1087e-02, 1.1087e-02, 1.1087e-02, 1.1087e-02,\n",
       "        1.1384e-02, 1.2397e-02, 1.2397e-02, 1.2397e-02, 1.2397e-02, 1.2397e-02,\n",
       "        1.2397e-02, 1.2397e-02, 1.2397e-02, 1.2397e-02, 1.2397e-02, 1.2397e-02,\n",
       "        1.2397e-02, 1.2397e-02, 1.2397e-02, 1.2700e-02, 1.3319e-02, 1.3319e-02,\n",
       "        1.3983e-02, 1.6667e-02, 1.7425e-02, 1.7425e-02, 1.7425e-02, 1.7425e-02,\n",
       "        1.8375e-02, 1.8375e-02, 1.8375e-02, 1.8375e-02, 1.8375e-02, 1.8375e-02,\n",
       "        1.8375e-02, 1.8375e-02, 1.8375e-02, 1.8375e-02, 1.8870e-02, 1.9916e-02,\n",
       "        1.9916e-02, 1.9916e-02, 1.9916e-02, 1.9916e-02, 2.2760e+02, 2.3752e+02,\n",
       "        2.3784e+02, 2.6292e+02, 3.1235e+02, 3.2438e+02, 3.5464e+02, 3.7923e+02,\n",
       "        4.0280e+02, 4.0447e+02, 4.5260e+02, 4.6837e+02, 4.8189e+02, 4.9831e+02,\n",
       "        5.2344e+02, 5.6321e+02, 5.8984e+02, 6.9421e+02, 7.1871e+02, 7.3596e+02,\n",
       "        8.6210e+02, 9.2177e+02, 9.4716e+02, 1.0772e+03, 1.1059e+03, 1.1560e+03,\n",
       "        1.2047e+03, 1.5250e+03, 1.6154e+03, 1.6374e+03, 1.7991e+03, 2.0387e+03,\n",
       "        2.0480e+03, 2.1710e+03, 2.3674e+03, 2.4510e+03, 2.5878e+03, 2.6520e+03,\n",
       "        2.6955e+03, 2.9913e+03, 3.7576e+03, 3.9423e+03, 4.0802e+03, 4.3613e+03,\n",
       "        4.6192e+03, 4.6303e+03, 5.3231e+03, 5.5420e+03, 8.1434e+03, 8.8331e+03,\n",
       "        8.9697e+03, 1.0300e+04, 1.0360e+04, 1.1256e+04, 1.1355e+04, 1.2543e+04,\n",
       "        1.5412e+04, 1.5492e+04, 1.6603e+04, 1.7037e+04, 1.9070e+04, 2.0304e+04,\n",
       "        2.0309e+04, 2.2401e+04, 2.4890e+04, 2.7641e+04, 2.8960e+04, 2.8999e+04,\n",
       "        2.9431e+04, 3.1241e+04, 3.3184e+04, 3.3517e+04, 3.4011e+04, 4.1124e+04,\n",
       "        4.1871e+04, 4.8334e+04, 5.4511e+04, 6.3000e+04, 1.1357e+05, 1.8919e+05,\n",
       "        1.9565e+05, 2.0781e+05, 2.2778e+05, 4.0180e+05, 1.0587e+06, 1.2141e+06,\n",
       "        1.7595e+06, 2.1226e+06, 2.5475e+06, 3.6766e+06], dtype=torch.float64),\n",
       "indices=tensor([ 11,  13, 384, 385,  12,   1,   7,   8,   9,   6,   0,   2,   3,   4,\n",
       "        197, 198,  15, 102, 381, 101, 100,  26, 382, 107, 114, 113, 115, 116,\n",
       "        117, 118, 103,  16, 105,  18, 109, 110, 111, 108,  21,  20, 165, 167,\n",
       "        166,  23,  96,  95,  94,  89,  91,  90, 173, 170, 169, 171, 186, 195,\n",
       "        189, 188, 187, 172, 174, 185, 184, 181, 178, 194, 180, 179, 177, 192,\n",
       "        190, 182, 175, 163, 162, 119, 161, 135, 140, 139, 137, 138, 120, 125,\n",
       "        121, 124, 122, 133, 131, 130, 127, 128, 156, 157, 150, 151, 158, 153,\n",
       "        159, 146, 147, 154, 148, 142, 143, 144,  74,  45,  81,  83,  87,  82,\n",
       "         66,  67,  27,  68,  69,  70,  75,  78,  76,  43,  79,  72,  71,  28,\n",
       "         29,  84,  33,  31,  32,  39,  40,  37,  34,  35,  56,  60,  57,  58,\n",
       "         61,  63,  47,  51,  53,  46,  52,  49,  48, 199, 379, 267, 266, 378,\n",
       "        271, 270, 268, 375, 374, 376, 371, 370, 372, 263, 264, 262, 204, 203,\n",
       "        201, 202, 205, 200, 221, 222, 223, 224, 225, 249, 248, 247, 232, 246,\n",
       "        255, 251, 207, 208, 209, 210, 211, 212, 213, 214, 215, 218, 250, 216,\n",
       "        217, 230, 219, 253, 252, 257, 256, 259, 258, 227, 226, 244, 236, 235,\n",
       "        234, 233, 242, 240, 241, 239, 238, 237, 368, 353, 367, 365, 361, 354,\n",
       "        358, 356, 357, 359, 360, 362, 363, 355, 337, 336, 272, 327, 351, 326,\n",
       "        335, 295, 296, 297, 333, 329, 328, 330, 331, 332, 338, 340, 341, 342,\n",
       "        344, 345, 347, 339, 343, 346, 348, 275, 274, 273, 290, 289, 284, 276,\n",
       "        277, 278, 281, 282, 283, 285, 286, 287, 292, 291, 279, 299, 320, 321,\n",
       "        322, 323, 313, 314, 318, 301, 312, 308, 315, 311, 317, 316, 309, 306,\n",
       "        304, 303, 302, 305,  14, 104,  97,  17,   5, 106,  19, 112,  22,  92,\n",
       "        168,  24, 193, 152, 191, 183,  10, 123, 176,  93, 136,  25, 141, 132,\n",
       "        155, 149, 129, 145, 126,  98,  77,  99,  41,  44,  80,  85,  73,  38,\n",
       "         59,  30,  62,  36,  64, 134, 196,  50,  86, 269, 160, 373, 231,  54,\n",
       "        220, 206, 228, 254,  55, 260,  42, 243, 377, 366, 298, 229, 164, 334,\n",
       "        364, 349, 288, 293, 300, 245, 280, 324,  65, 310, 307, 350,  88, 261,\n",
       "        294, 319, 265, 325, 352, 369, 380, 383, 386, 387]))"
      ]
     },
     "execution_count": 21,
     "metadata": {},
     "output_type": "execute_result"
    }
   ],
   "source": [
    "nball_radius.sort()"
   ]
  },
  {
   "cell_type": "code",
   "execution_count": null,
   "id": "f3e9ea98-77cd-416d-8a1b-8d03f7fa1ee3",
   "metadata": {},
   "outputs": [],
   "source": []
  }
 ],
 "metadata": {
  "kernelspec": {
   "display_name": "Python (annotated-transformer)",
   "language": "python",
   "name": "annotated-transformer"
  },
  "language_info": {
   "codemirror_mode": {
    "name": "ipython",
    "version": 3
   },
   "file_extension": ".py",
   "mimetype": "text/x-python",
   "name": "python",
   "nbconvert_exporter": "python",
   "pygments_lexer": "ipython3",
   "version": "3.9.19"
  }
 },
 "nbformat": 4,
 "nbformat_minor": 5
}
