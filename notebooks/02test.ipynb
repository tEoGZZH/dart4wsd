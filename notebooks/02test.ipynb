{
 "cells": [
  {
   "cell_type": "code",
   "execution_count": 15,
   "id": "b12d4c1a-6ed3-4146-9d38-3d86702cfdbc",
   "metadata": {},
   "outputs": [],
   "source": [
    "import torch\n",
    "from torch.utils.data import DataLoader, Dataset\n",
    "from transformers import BertTokenizer, BertModel, AdamW\n",
    "import numpy as np\n",
    "import pandas as pd"
   ]
  },
  {
   "cell_type": "code",
   "execution_count": 16,
   "id": "64caa53f-b337-44af-9ee1-1af6d0bd689c",
   "metadata": {},
   "outputs": [
    {
     "data": {
      "text/plain": [
       "[('The bank will not approve my loan.', 'bank'),\n",
       " ('We sat on the river bank.', 'bank')]"
      ]
     },
     "execution_count": 16,
     "metadata": {},
     "output_type": "execute_result"
    }
   ],
   "source": [
    "texts = [\"The bank will not approve my loan.\", \"We sat on the river bank.\"]\n",
    "target_words = [\"bank\", \"bank\"]\n",
    "contexts = [(text, word) for text, word in zip(texts, target_words)]\n",
    "contexts"
   ]
  },
  {
   "cell_type": "code",
   "execution_count": 17,
   "id": "387994d5-fcc9-4aef-9b3a-8f1f99710965",
   "metadata": {},
   "outputs": [
    {
     "name": "stdout",
     "output_type": "stream",
     "text": [
      "Batch 1\n",
      "Input IDs:\n",
      " tensor([[  101,  1996,  2924,  2097,  2025, 14300,  2026,  5414,  1012,   102,\n",
      "             0,     0,     0,     0,     0,     0,     0,     0,     0,     0,\n",
      "             0,     0,     0,     0,     0,     0,     0,     0,     0,     0,\n",
      "             0,     0,     0,     0,     0,     0,     0,     0,     0,     0,\n",
      "             0,     0,     0,     0,     0,     0,     0,     0,     0,     0,\n",
      "             0,     0,     0,     0,     0,     0,     0,     0,     0,     0,\n",
      "             0,     0,     0,     0,     0,     0,     0,     0,     0,     0,\n",
      "             0,     0,     0,     0,     0,     0,     0,     0,     0,     0,\n",
      "             0,     0,     0,     0,     0,     0,     0,     0,     0,     0,\n",
      "             0,     0,     0,     0,     0,     0,     0,     0,     0,     0,\n",
      "             0,     0,     0,     0,     0,     0,     0,     0,     0,     0,\n",
      "             0,     0,     0,     0,     0,     0,     0,     0,     0,     0,\n",
      "             0,     0,     0,     0,     0,     0,     0,     0],\n",
      "        [  101,  2057,  2938,  2006,  1996,  2314,  2924,  1012,   102,     0,\n",
      "             0,     0,     0,     0,     0,     0,     0,     0,     0,     0,\n",
      "             0,     0,     0,     0,     0,     0,     0,     0,     0,     0,\n",
      "             0,     0,     0,     0,     0,     0,     0,     0,     0,     0,\n",
      "             0,     0,     0,     0,     0,     0,     0,     0,     0,     0,\n",
      "             0,     0,     0,     0,     0,     0,     0,     0,     0,     0,\n",
      "             0,     0,     0,     0,     0,     0,     0,     0,     0,     0,\n",
      "             0,     0,     0,     0,     0,     0,     0,     0,     0,     0,\n",
      "             0,     0,     0,     0,     0,     0,     0,     0,     0,     0,\n",
      "             0,     0,     0,     0,     0,     0,     0,     0,     0,     0,\n",
      "             0,     0,     0,     0,     0,     0,     0,     0,     0,     0,\n",
      "             0,     0,     0,     0,     0,     0,     0,     0,     0,     0,\n",
      "             0,     0,     0,     0,     0,     0,     0,     0]])\n",
      "Attention Masks:\n",
      " tensor([[1, 1, 1, 1, 1, 1, 1, 1, 1, 1, 0, 0, 0, 0, 0, 0, 0, 0, 0, 0, 0, 0, 0, 0,\n",
      "         0, 0, 0, 0, 0, 0, 0, 0, 0, 0, 0, 0, 0, 0, 0, 0, 0, 0, 0, 0, 0, 0, 0, 0,\n",
      "         0, 0, 0, 0, 0, 0, 0, 0, 0, 0, 0, 0, 0, 0, 0, 0, 0, 0, 0, 0, 0, 0, 0, 0,\n",
      "         0, 0, 0, 0, 0, 0, 0, 0, 0, 0, 0, 0, 0, 0, 0, 0, 0, 0, 0, 0, 0, 0, 0, 0,\n",
      "         0, 0, 0, 0, 0, 0, 0, 0, 0, 0, 0, 0, 0, 0, 0, 0, 0, 0, 0, 0, 0, 0, 0, 0,\n",
      "         0, 0, 0, 0, 0, 0, 0, 0],\n",
      "        [1, 1, 1, 1, 1, 1, 1, 1, 1, 0, 0, 0, 0, 0, 0, 0, 0, 0, 0, 0, 0, 0, 0, 0,\n",
      "         0, 0, 0, 0, 0, 0, 0, 0, 0, 0, 0, 0, 0, 0, 0, 0, 0, 0, 0, 0, 0, 0, 0, 0,\n",
      "         0, 0, 0, 0, 0, 0, 0, 0, 0, 0, 0, 0, 0, 0, 0, 0, 0, 0, 0, 0, 0, 0, 0, 0,\n",
      "         0, 0, 0, 0, 0, 0, 0, 0, 0, 0, 0, 0, 0, 0, 0, 0, 0, 0, 0, 0, 0, 0, 0, 0,\n",
      "         0, 0, 0, 0, 0, 0, 0, 0, 0, 0, 0, 0, 0, 0, 0, 0, 0, 0, 0, 0, 0, 0, 0, 0,\n",
      "         0, 0, 0, 0, 0, 0, 0, 0]])\n",
      "Word Indices:\n",
      " tensor([2, 6])\n",
      "\n",
      "\n"
     ]
    }
   ],
   "source": [
    "class ContextDataset(Dataset):\n",
    "    def __init__(self, contexts):\n",
    "        self.contexts = contexts\n",
    "        self.tokenizer = BertTokenizer.from_pretrained('bert-base-uncased')\n",
    "\n",
    "    def __len__(self):\n",
    "        return len(self.contexts)\n",
    "\n",
    "    def __getitem__(self, idx):\n",
    "        text, word = self.contexts[idx]\n",
    "        inputs = self.tokenizer(text, return_tensors=\"pt\", padding='max_length', truncation=True, max_length=128)\n",
    "        word_tokens = self.tokenizer.tokenize(word)\n",
    "        word_index = inputs[\"input_ids\"].squeeze().tolist().index(self.tokenizer.convert_tokens_to_ids(word_tokens)[0])\n",
    "        return {\n",
    "            'input_ids': inputs['input_ids'].squeeze(),\n",
    "            'attention_mask': inputs['attention_mask'].squeeze(),\n",
    "            'word_index': word_index\n",
    "        }\n",
    "\n",
    "# Custom collate function\n",
    "def custom_collate(batch):\n",
    "    input_ids = torch.stack([item['input_ids'] for item in batch])\n",
    "    attention_mask = torch.stack([item['attention_mask'] for item in batch])\n",
    "    word_indices = torch.tensor([item['word_index'] for item in batch])\n",
    "    return {\n",
    "        'input_ids': input_ids,\n",
    "        'attention_mask': attention_mask,\n",
    "        'word_index': word_indices\n",
    "    }\n",
    "\n",
    "dataset = ContextDataset(contexts)\n",
    "dataloader = DataLoader(dataset, batch_size=2, shuffle=True, collate_fn=custom_collate)\n",
    "\n",
    "# Iterate through the DataLoader\n",
    "for i, batch in enumerate(dataloader):\n",
    "    print(f\"Batch {i+1}\")\n",
    "    print(\"Input IDs:\\n\", batch['input_ids'])\n",
    "    print(\"Attention Masks:\\n\", batch['attention_mask'])\n",
    "    print(\"Word Indices:\\n\", batch['word_index'])\n",
    "    print(\"\\n\")\n",
    "    # Optionally, limit the number of batches shown\n",
    "    if i == 1:\n",
    "        break\n"
   ]
  },
  {
   "cell_type": "code",
   "execution_count": 18,
   "id": "920742e3-696f-4747-ab2f-0a2a6c20d34c",
   "metadata": {},
   "outputs": [
    {
     "data": {
      "text/plain": [
       "array(['financial_institution', 'river_side'], dtype='<U21')"
      ]
     },
     "execution_count": 18,
     "metadata": {},
     "output_type": "execute_result"
    }
   ],
   "source": [
    "# Example sense embeddings for the word \"bank\"\n",
    "sense_embeddings = {\n",
    "    \"financial_institution\": np.random.rand(768).astype(np.float32),\n",
    "    \"river_side\": np.random.rand(768).astype(np.float32)\n",
    "}\n",
    "sense_labels = np.array(list(sense_embeddings.keys()))\n",
    "sense_tensor = torch.tensor([sense_embeddings[label] for label in sense_labels])\n",
    "sense_labels"
   ]
  },
  {
   "cell_type": "code",
   "execution_count": 19,
   "id": "317d4747-51d3-4b2b-b321-a094d5e85306",
   "metadata": {},
   "outputs": [],
   "source": [
    "import torch.nn as nn\n",
    "import torch.optim as optim"
   ]
  },
  {
   "cell_type": "code",
   "execution_count": 20,
   "id": "3110809d-c708-4abe-852c-7fd76b2c01ef",
   "metadata": {},
   "outputs": [
    {
     "name": "stdout",
     "output_type": "stream",
     "text": [
      "torch.Size([2, 128])\n",
      "Epoch 1, Loss: 483.49725341796875\n",
      "torch.Size([2, 128])\n",
      "Epoch 2, Loss: 410.11407470703125\n",
      "torch.Size([2, 128])\n",
      "Epoch 3, Loss: 363.18157958984375\n"
     ]
    }
   ],
   "source": [
    "# Load BERT model\n",
    "model = BertModel.from_pretrained('bert-base-uncased')\n",
    "\n",
    "# Define the loss function and optimizer\n",
    "loss_fn = nn.MSELoss()\n",
    "optimizer = optim.Adam(model.parameters(), lr=2e-5)\n",
    "\n",
    "# Example: {'bank': 0, 'bank': 1} means the first 'bank' corresponds to the first sense, the second 'bank' to the second sense\n",
    "correct_sense_indices = {'bank': [0, 1]}  # This should come from your labeled dataset\n",
    "\n",
    "# Training loop\n",
    "for epoch in range(3):  # Train for 3 epochs\n",
    "    model.train()\n",
    "    for batch_idx, batch in enumerate(dataloader):\n",
    "        optimizer.zero_grad()\n",
    "\n",
    "        input_ids = batch['input_ids']\n",
    "        attention_mask = batch['attention_mask']\n",
    "        word_index = batch['word_index']\n",
    "        print(input_ids.size())\n",
    "        # Forward pass\n",
    "        outputs = model(input_ids, attention_mask=attention_mask)\n",
    "        hidden_states = outputs.last_hidden_state\n",
    "\n",
    "        # Get the word embeddings\n",
    "        word_embeddings = hidden_states[range(hidden_states.size(0)), word_index].float()\n",
    "\n",
    "        # Calculate the distance to each sense embedding\n",
    "        distances = torch.cdist(word_embeddings.unsqueeze(0), sense_tensor.unsqueeze(0), p=2).squeeze()\n",
    "\n",
    "        # Get the correct sense indices for the current batch\n",
    "        batch_correct_sense_indices = [correct_sense_indices[target_words[idx]][batch_idx] for idx in range(len(word_index))]\n",
    "        batch_correct_sense_indices = torch.tensor(batch_correct_sense_indices, dtype=torch.long)\n",
    "\n",
    "        # Select the distances corresponding to the correct senses\n",
    "        correct_sense_distances = distances[range(distances.size(0)), batch_correct_sense_indices]\n",
    "\n",
    "        # Calculate the loss\n",
    "        target = torch.zeros_like(correct_sense_distances)  # Target distances are zero\n",
    "        loss = loss_fn(correct_sense_distances, target)\n",
    "\n",
    "        # Backward pass and optimization\n",
    "        loss.backward()\n",
    "        optimizer.step()\n",
    "\n",
    "    print(f\"Epoch {epoch+1}, Loss: {loss.item()}\")"
   ]
  },
  {
   "cell_type": "code",
   "execution_count": 21,
   "id": "0b44ff86-0cec-4c8d-a569-74e1b12c8c92",
   "metadata": {},
   "outputs": [
    {
     "ename": "NameError",
     "evalue": "name 'tokenizer' is not defined",
     "output_type": "error",
     "traceback": [
      "\u001b[1;31m---------------------------------------------------------------------------\u001b[0m",
      "\u001b[1;31mNameError\u001b[0m                                 Traceback (most recent call last)",
      "Cell \u001b[1;32mIn[21], line 24\u001b[0m\n\u001b[0;32m     22\u001b[0m text \u001b[38;5;241m=\u001b[39m \u001b[38;5;124m\"\u001b[39m\u001b[38;5;124mThe bank will not approve my loan.\u001b[39m\u001b[38;5;124m\"\u001b[39m\n\u001b[0;32m     23\u001b[0m word \u001b[38;5;241m=\u001b[39m \u001b[38;5;124m\"\u001b[39m\u001b[38;5;124mbank\u001b[39m\u001b[38;5;124m\"\u001b[39m\n\u001b[1;32m---> 24\u001b[0m sense \u001b[38;5;241m=\u001b[39m match_sense(text, word, model, \u001b[43mtokenizer\u001b[49m, sense_tensor, sense_labels)\n\u001b[0;32m     25\u001b[0m \u001b[38;5;28mprint\u001b[39m(\u001b[38;5;124mf\u001b[39m\u001b[38;5;124m\"\u001b[39m\u001b[38;5;124mThe sense of \u001b[39m\u001b[38;5;124m'\u001b[39m\u001b[38;5;132;01m{\u001b[39;00mword\u001b[38;5;132;01m}\u001b[39;00m\u001b[38;5;124m'\u001b[39m\u001b[38;5;124m in the context is: \u001b[39m\u001b[38;5;132;01m{\u001b[39;00msense\u001b[38;5;132;01m}\u001b[39;00m\u001b[38;5;124m\"\u001b[39m)\n",
      "\u001b[1;31mNameError\u001b[0m: name 'tokenizer' is not defined"
     ]
    }
   ],
   "source": [
    "def match_sense(text, word, model, tokenizer, sense_tensor, sense_labels):\n",
    "    model.eval()\n",
    "    with torch.no_grad():\n",
    "        inputs = tokenizer(text, return_tensors=\"pt\", padding='max_length', truncation=True, max_length=128)\n",
    "        outputs = model(**inputs)\n",
    "        hidden_states = outputs.last_hidden_state\n",
    "\n",
    "        # Get the word index\n",
    "        word_tokens = tokenizer.tokenize(word)\n",
    "        word_index = inputs[\"input_ids\"].squeeze().tolist().index(tokenizer.convert_tokens_to_ids(word_tokens)[0])\n",
    "\n",
    "        # Get the word embedding\n",
    "        word_embedding = hidden_states[0, word_index, :].unsqueeze(0).float()\n",
    "\n",
    "        # Calculate distances to sense embeddings\n",
    "        distances = torch.cdist(word_embedding, sense_tensor.unsqueeze(0), p=2).squeeze()\n",
    "        closest_sense_index = torch.argmin(distances).item()\n",
    "\n",
    "    return sense_labels[closest_sense_index]\n",
    "\n",
    "# Example usage\n",
    "text = \"The bank will not approve my loan.\"\n",
    "word = \"bank\"\n",
    "sense = match_sense(text, word, model, tokenizer, sense_tensor, sense_labels)\n",
    "print(f\"The sense of '{word}' in the context is: {sense}\")\n"
   ]
  },
  {
   "cell_type": "code",
   "execution_count": null,
   "id": "19e84c65-3d43-4979-9732-99c8b6a45b06",
   "metadata": {},
   "outputs": [],
   "source": []
  }
 ],
 "metadata": {
  "kernelspec": {
   "display_name": "Python (annotated-transformer)",
   "language": "python",
   "name": "annotated-transformer"
  },
  "language_info": {
   "codemirror_mode": {
    "name": "ipython",
    "version": 3
   },
   "file_extension": ".py",
   "mimetype": "text/x-python",
   "name": "python",
   "nbconvert_exporter": "python",
   "pygments_lexer": "ipython3",
   "version": "3.9.19"
  }
 },
 "nbformat": 4,
 "nbformat_minor": 5
}
